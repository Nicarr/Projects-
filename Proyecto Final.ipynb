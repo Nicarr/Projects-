{
 "cells": [
  {
   "cell_type": "markdown",
   "metadata": {},
   "source": [
    "# ¡Hola, Julio!  \n",
    "\n",
    "\n",
    "Cuando vea un error la primera vez, lo señalaré. Deberás encontrarlo y arreglarlo. La intención es que te prepares para un espacio real de trabajo. En un trabajo, el líder de tu equipo hará lo mismo. Si no puedes solucionar el error, te daré más información en la próxima ocasión.\n",
    "\n",
    "Encontrarás mis comentarios más abajo - **por favor, no los muevas, no los modifiques ni los borres**.\n",
    "\n",
    "¿Cómo lo voy a hacer? Voy a leer detenidamente cada una de las implementaciones que has llevado a cabo para cumplir con lo solicitado. Verás los comentarios de esta forma:\n",
    "\n",
    "<div class=\"alert alert-block alert-success\">\n",
    "<b>Comentario del revisor</b> <a class=\"tocSkip\"></a>\n",
    "    \n",
    "Si todo está perfecto.\n",
    "</div>\n",
    "\n",
    "\n",
    "<div class=\"alert alert-block alert-warning\">\n",
    "<b>Comentario del revisor</b> <a class=\"tocSkip\"></a>\n",
    "    \n",
    "Si tu código está bien pero se puede mejorar o hay algún detalle que le hace falta.\n",
    "</div>\n",
    "\n",
    "\n",
    "<div class=\"alert alert-block alert-danger\">\n",
    "    \n",
    "<b>Comentario del revisor</b> <a class=\"tocSkip\"></a>\n",
    "    \n",
    "    \n",
    "Si de pronto hace falta algo o existe algún problema con tu código o conclusiones.\n",
    "</div>\n",
    "\n",
    "\n",
    "Puedes responderme de esta forma:\n",
    "\n",
    "<div class=\"alert alert-block alert-info\">\n",
    "<b>Respuesta del estudiante</b> <a class=\"tocSkip\"></a>\n",
    "</div>\n",
    "\n",
    "¡Empecemos!"
   ]
  },
  {
   "cell_type": "markdown",
   "metadata": {},
   "source": [
    "<div class=\"alert alert-block alert-info\">\n",
    "<b>Respuesta del estudiante</b> Hecho! <a class=\"tocSkip\"></a>\n",
    "</div>"
   ]
  },
  {
   "cell_type": "markdown",
   "metadata": {},
   "source": [
    "# Introduccion"
   ]
  },
  {
   "cell_type": "markdown",
   "metadata": {},
   "source": [
    "Nosotros, el equipo de Interconnect, estamos trabajando en una tarea emocionante: anticipar cuándo nuestros valiosos usuarios están pensando en decir adiós. Queremos estar un paso adelante y ofrecerles soluciones antes de que tomen esa decisión. Para lograrlo, estamos aprovechando los datos que tenemos sobre nuestros apreciados clientes, como sus preferencias de planes y detalles de sus contratos.\n",
    "\n",
    "Vamos a hacer un Analisis Exploratorio de Datos (EDA). Veremos los datos y todo lo que tienen, el tipo de datos, anomalias, tendencias, etc. Luego empezaremos a tomar decisiones sobre que hacer para trabajar con estos datos y poder sacar conclusiones a traves de lo que vayamos visualizando a traves de graficos y descripciones de datos. Luego haremos unas proyecciones generales sobre los dataframe cuando esten todos unidos. Finalmente podremos usar herramientas de preprocesamiento como el OHE para ayudarnos con aquellas columnas o entradas que sean categoricas, convirtiendolas a numeros facilitandonos el funcionamiento de los modelos de machine learning que vayamos a usar. Igualmente habran instrucciones de lo que se hace paso a paso en cada celda de bloque seguido de un signo numeral ('#')."
   ]
  },
  {
   "cell_type": "markdown",
   "metadata": {},
   "source": [
    "## Importacion de librerias"
   ]
  },
  {
   "cell_type": "code",
   "execution_count": 4,
   "metadata": {
    "tags": []
   },
   "outputs": [
    {
     "name": "stdout",
     "output_type": "stream",
     "text": [
      "Requirement already satisfied: xgboost in c:\\users\\nicar\\anaconda3\\lib\\site-packages (2.0.0)\n",
      "Requirement already satisfied: numpy in c:\\users\\nicar\\anaconda3\\lib\\site-packages (from xgboost) (1.24.3)\n",
      "Requirement already satisfied: scipy in c:\\users\\nicar\\anaconda3\\lib\\site-packages (from xgboost) (1.10.1)\n",
      "Note: you may need to restart the kernel to use updated packages.\n"
     ]
    }
   ],
   "source": [
    "pip install xgboost"
   ]
  },
  {
   "cell_type": "code",
   "execution_count": 5,
   "metadata": {
    "tags": []
   },
   "outputs": [
    {
     "name": "stdout",
     "output_type": "stream",
     "text": [
      "Requirement already satisfied: catboost in c:\\users\\nicar\\anaconda3\\lib\\site-packages (1.2.2)\n",
      "Requirement already satisfied: graphviz in c:\\users\\nicar\\anaconda3\\lib\\site-packages (from catboost) (0.20.1)\n",
      "Requirement already satisfied: matplotlib in c:\\users\\nicar\\anaconda3\\lib\\site-packages (from catboost) (3.7.1)\n",
      "Requirement already satisfied: numpy>=1.16.0 in c:\\users\\nicar\\anaconda3\\lib\\site-packages (from catboost) (1.24.3)\n",
      "Requirement already satisfied: pandas>=0.24 in c:\\users\\nicar\\anaconda3\\lib\\site-packages (from catboost) (1.5.3)\n",
      "Requirement already satisfied: scipy in c:\\users\\nicar\\anaconda3\\lib\\site-packages (from catboost) (1.10.1)\n",
      "Requirement already satisfied: plotly in c:\\users\\nicar\\anaconda3\\lib\\site-packages (from catboost) (5.9.0)\n",
      "Requirement already satisfied: six in c:\\users\\nicar\\anaconda3\\lib\\site-packages (from catboost) (1.16.0)\n",
      "Requirement already satisfied: python-dateutil>=2.8.1 in c:\\users\\nicar\\anaconda3\\lib\\site-packages (from pandas>=0.24->catboost) (2.8.2)\n",
      "Requirement already satisfied: pytz>=2020.1 in c:\\users\\nicar\\anaconda3\\lib\\site-packages (from pandas>=0.24->catboost) (2022.7)\n",
      "Requirement already satisfied: contourpy>=1.0.1 in c:\\users\\nicar\\anaconda3\\lib\\site-packages (from matplotlib->catboost) (1.0.5)\n",
      "Requirement already satisfied: cycler>=0.10 in c:\\users\\nicar\\anaconda3\\lib\\site-packages (from matplotlib->catboost) (0.11.0)\n",
      "Requirement already satisfied: fonttools>=4.22.0 in c:\\users\\nicar\\anaconda3\\lib\\site-packages (from matplotlib->catboost) (4.25.0)\n",
      "Requirement already satisfied: kiwisolver>=1.0.1 in c:\\users\\nicar\\anaconda3\\lib\\site-packages (from matplotlib->catboost) (1.4.4)\n",
      "Requirement already satisfied: packaging>=20.0 in c:\\users\\nicar\\anaconda3\\lib\\site-packages (from matplotlib->catboost) (23.0)\n",
      "Requirement already satisfied: pillow>=6.2.0 in c:\\users\\nicar\\anaconda3\\lib\\site-packages (from matplotlib->catboost) (9.4.0)\n",
      "Requirement already satisfied: pyparsing>=2.3.1 in c:\\users\\nicar\\anaconda3\\lib\\site-packages (from matplotlib->catboost) (3.0.9)\n",
      "Requirement already satisfied: tenacity>=6.2.0 in c:\\users\\nicar\\anaconda3\\lib\\site-packages (from plotly->catboost) (8.2.2)\n",
      "Note: you may need to restart the kernel to use updated packages.\n"
     ]
    }
   ],
   "source": [
    "pip install catboost"
   ]
  },
  {
   "cell_type": "code",
   "execution_count": 96,
   "metadata": {
    "tags": []
   },
   "outputs": [],
   "source": [
    "#Importamos librerias\n",
    "import pandas as pd\n",
    "import numpy as np\n",
    "from matplotlib import pyplot as plt\n",
    "import seaborn as sns\n",
    "import datetime\n",
    "from scipy import stats as st\n",
    "import math\n",
    "import re\n",
    "\n",
    "from sklearn.preprocessing import OneHotEncoder\n",
    "from sklearn.linear_model import LogisticRegression\n",
    "from sklearn.ensemble import RandomForestClassifier\n",
    "import xgboost as xgb\n",
    "import catboost\n",
    "from sklearn.neighbors import KNeighborsClassifier\n",
    "from catboost import CatBoostClassifier, Pool, cv\n",
    "from sklearn.model_selection import GridSearchCV\n",
    "from sklearn.model_selection import train_test_split\n",
    "from sklearn.metrics import make_scorer, mean_absolute_error\n",
    "from sklearn.preprocessing import StandardScaler\n",
    "from sklearn.dummy import DummyClassifier\n",
    "from sklearn.metrics import f1_score\n",
    "from sklearn.utils import resample"
   ]
  },
  {
   "cell_type": "code",
   "execution_count": 7,
   "metadata": {
    "tags": []
   },
   "outputs": [],
   "source": [
    "#Guardamos los dataframe en variables\n",
    "contract_df = pd.read_csv('contract.csv')\n",
    "personal_df = pd.read_csv('personal.csv')\n",
    "internet_df = pd.read_csv('internet.csv')\n",
    "phone_df = pd.read_csv('phone.csv')"
   ]
  },
  {
   "cell_type": "markdown",
   "metadata": {},
   "source": [
    "## Exploracion de datos\n"
   ]
  },
  {
   "cell_type": "markdown",
   "metadata": {},
   "source": [
    "### Contract Dataframe"
   ]
  },
  {
   "cell_type": "code",
   "execution_count": 8,
   "metadata": {},
   "outputs": [
    {
     "name": "stdout",
     "output_type": "stream",
     "text": [
      "<class 'pandas.core.frame.DataFrame'>\n",
      "RangeIndex: 7043 entries, 0 to 7042\n",
      "Data columns (total 8 columns):\n",
      " #   Column            Non-Null Count  Dtype  \n",
      "---  ------            --------------  -----  \n",
      " 0   customerID        7043 non-null   object \n",
      " 1   BeginDate         7043 non-null   object \n",
      " 2   EndDate           7043 non-null   object \n",
      " 3   Type              7043 non-null   object \n",
      " 4   PaperlessBilling  7043 non-null   object \n",
      " 5   PaymentMethod     7043 non-null   object \n",
      " 6   MonthlyCharges    7043 non-null   float64\n",
      " 7   TotalCharges      7043 non-null   object \n",
      "dtypes: float64(1), object(7)\n",
      "memory usage: 440.3+ KB\n"
     ]
    }
   ],
   "source": [
    "#Imprimimos informacion general sobre el dataframe\n",
    "contract_df.info()"
   ]
  },
  {
   "cell_type": "code",
   "execution_count": 9,
   "metadata": {},
   "outputs": [
    {
     "data": {
      "text/html": [
       "<div>\n",
       "<style scoped>\n",
       "    .dataframe tbody tr th:only-of-type {\n",
       "        vertical-align: middle;\n",
       "    }\n",
       "\n",
       "    .dataframe tbody tr th {\n",
       "        vertical-align: top;\n",
       "    }\n",
       "\n",
       "    .dataframe thead th {\n",
       "        text-align: right;\n",
       "    }\n",
       "</style>\n",
       "<table border=\"1\" class=\"dataframe\">\n",
       "  <thead>\n",
       "    <tr style=\"text-align: right;\">\n",
       "      <th></th>\n",
       "      <th>MonthlyCharges</th>\n",
       "    </tr>\n",
       "  </thead>\n",
       "  <tbody>\n",
       "    <tr>\n",
       "      <th>count</th>\n",
       "      <td>7043.000000</td>\n",
       "    </tr>\n",
       "    <tr>\n",
       "      <th>mean</th>\n",
       "      <td>64.761692</td>\n",
       "    </tr>\n",
       "    <tr>\n",
       "      <th>std</th>\n",
       "      <td>30.090047</td>\n",
       "    </tr>\n",
       "    <tr>\n",
       "      <th>min</th>\n",
       "      <td>18.250000</td>\n",
       "    </tr>\n",
       "    <tr>\n",
       "      <th>25%</th>\n",
       "      <td>35.500000</td>\n",
       "    </tr>\n",
       "    <tr>\n",
       "      <th>50%</th>\n",
       "      <td>70.350000</td>\n",
       "    </tr>\n",
       "    <tr>\n",
       "      <th>75%</th>\n",
       "      <td>89.850000</td>\n",
       "    </tr>\n",
       "    <tr>\n",
       "      <th>max</th>\n",
       "      <td>118.750000</td>\n",
       "    </tr>\n",
       "  </tbody>\n",
       "</table>\n",
       "</div>"
      ],
      "text/plain": [
       "       MonthlyCharges\n",
       "count     7043.000000\n",
       "mean        64.761692\n",
       "std         30.090047\n",
       "min         18.250000\n",
       "25%         35.500000\n",
       "50%         70.350000\n",
       "75%         89.850000\n",
       "max        118.750000"
      ]
     },
     "execution_count": 9,
     "metadata": {},
     "output_type": "execute_result"
    }
   ],
   "source": [
    "#Aplicamos una descripcion general a los datos\n",
    "contract_df.describe()"
   ]
  },
  {
   "cell_type": "code",
   "execution_count": 10,
   "metadata": {},
   "outputs": [
    {
     "data": {
      "text/plain": [
       "customerID          0\n",
       "BeginDate           0\n",
       "EndDate             0\n",
       "Type                0\n",
       "PaperlessBilling    0\n",
       "PaymentMethod       0\n",
       "MonthlyCharges      0\n",
       "TotalCharges        0\n",
       "dtype: int64"
      ]
     },
     "execution_count": 10,
     "metadata": {},
     "output_type": "execute_result"
    }
   ],
   "source": [
    "#Veamos cuantos valores ausentes tiene el dataframe\n",
    "contract_df.isna().sum()"
   ]
  },
  {
   "cell_type": "code",
   "execution_count": 11,
   "metadata": {},
   "outputs": [
    {
     "data": {
      "text/plain": [
       "0"
      ]
     },
     "execution_count": 11,
     "metadata": {},
     "output_type": "execute_result"
    }
   ],
   "source": [
    "#Veamos cuantos duplicados tiene el dataframe\n",
    "contract_df.duplicated().sum()"
   ]
  },
  {
   "cell_type": "code",
   "execution_count": 12,
   "metadata": {},
   "outputs": [
    {
     "data": {
      "text/html": [
       "<div>\n",
       "<style scoped>\n",
       "    .dataframe tbody tr th:only-of-type {\n",
       "        vertical-align: middle;\n",
       "    }\n",
       "\n",
       "    .dataframe tbody tr th {\n",
       "        vertical-align: top;\n",
       "    }\n",
       "\n",
       "    .dataframe thead th {\n",
       "        text-align: right;\n",
       "    }\n",
       "</style>\n",
       "<table border=\"1\" class=\"dataframe\">\n",
       "  <thead>\n",
       "    <tr style=\"text-align: right;\">\n",
       "      <th></th>\n",
       "      <th>customerID</th>\n",
       "      <th>BeginDate</th>\n",
       "      <th>EndDate</th>\n",
       "      <th>Type</th>\n",
       "      <th>PaperlessBilling</th>\n",
       "      <th>PaymentMethod</th>\n",
       "      <th>MonthlyCharges</th>\n",
       "      <th>TotalCharges</th>\n",
       "    </tr>\n",
       "  </thead>\n",
       "  <tbody>\n",
       "    <tr>\n",
       "      <th>0</th>\n",
       "      <td>7590-VHVEG</td>\n",
       "      <td>2020-01-01</td>\n",
       "      <td>No</td>\n",
       "      <td>Month-to-month</td>\n",
       "      <td>Yes</td>\n",
       "      <td>Electronic check</td>\n",
       "      <td>29.85</td>\n",
       "      <td>29.85</td>\n",
       "    </tr>\n",
       "    <tr>\n",
       "      <th>1</th>\n",
       "      <td>5575-GNVDE</td>\n",
       "      <td>2017-04-01</td>\n",
       "      <td>No</td>\n",
       "      <td>One year</td>\n",
       "      <td>No</td>\n",
       "      <td>Mailed check</td>\n",
       "      <td>56.95</td>\n",
       "      <td>1889.5</td>\n",
       "    </tr>\n",
       "    <tr>\n",
       "      <th>2</th>\n",
       "      <td>3668-QPYBK</td>\n",
       "      <td>2019-10-01</td>\n",
       "      <td>2019-12-01 00:00:00</td>\n",
       "      <td>Month-to-month</td>\n",
       "      <td>Yes</td>\n",
       "      <td>Mailed check</td>\n",
       "      <td>53.85</td>\n",
       "      <td>108.15</td>\n",
       "    </tr>\n",
       "    <tr>\n",
       "      <th>3</th>\n",
       "      <td>7795-CFOCW</td>\n",
       "      <td>2016-05-01</td>\n",
       "      <td>No</td>\n",
       "      <td>One year</td>\n",
       "      <td>No</td>\n",
       "      <td>Bank transfer (automatic)</td>\n",
       "      <td>42.30</td>\n",
       "      <td>1840.75</td>\n",
       "    </tr>\n",
       "    <tr>\n",
       "      <th>4</th>\n",
       "      <td>9237-HQITU</td>\n",
       "      <td>2019-09-01</td>\n",
       "      <td>2019-11-01 00:00:00</td>\n",
       "      <td>Month-to-month</td>\n",
       "      <td>Yes</td>\n",
       "      <td>Electronic check</td>\n",
       "      <td>70.70</td>\n",
       "      <td>151.65</td>\n",
       "    </tr>\n",
       "    <tr>\n",
       "      <th>...</th>\n",
       "      <td>...</td>\n",
       "      <td>...</td>\n",
       "      <td>...</td>\n",
       "      <td>...</td>\n",
       "      <td>...</td>\n",
       "      <td>...</td>\n",
       "      <td>...</td>\n",
       "      <td>...</td>\n",
       "    </tr>\n",
       "    <tr>\n",
       "      <th>7038</th>\n",
       "      <td>6840-RESVB</td>\n",
       "      <td>2018-02-01</td>\n",
       "      <td>No</td>\n",
       "      <td>One year</td>\n",
       "      <td>Yes</td>\n",
       "      <td>Mailed check</td>\n",
       "      <td>84.80</td>\n",
       "      <td>1990.5</td>\n",
       "    </tr>\n",
       "    <tr>\n",
       "      <th>7039</th>\n",
       "      <td>2234-XADUH</td>\n",
       "      <td>2014-02-01</td>\n",
       "      <td>No</td>\n",
       "      <td>One year</td>\n",
       "      <td>Yes</td>\n",
       "      <td>Credit card (automatic)</td>\n",
       "      <td>103.20</td>\n",
       "      <td>7362.9</td>\n",
       "    </tr>\n",
       "    <tr>\n",
       "      <th>7040</th>\n",
       "      <td>4801-JZAZL</td>\n",
       "      <td>2019-03-01</td>\n",
       "      <td>No</td>\n",
       "      <td>Month-to-month</td>\n",
       "      <td>Yes</td>\n",
       "      <td>Electronic check</td>\n",
       "      <td>29.60</td>\n",
       "      <td>346.45</td>\n",
       "    </tr>\n",
       "    <tr>\n",
       "      <th>7041</th>\n",
       "      <td>8361-LTMKD</td>\n",
       "      <td>2019-07-01</td>\n",
       "      <td>2019-11-01 00:00:00</td>\n",
       "      <td>Month-to-month</td>\n",
       "      <td>Yes</td>\n",
       "      <td>Mailed check</td>\n",
       "      <td>74.40</td>\n",
       "      <td>306.6</td>\n",
       "    </tr>\n",
       "    <tr>\n",
       "      <th>7042</th>\n",
       "      <td>3186-AJIEK</td>\n",
       "      <td>2014-08-01</td>\n",
       "      <td>No</td>\n",
       "      <td>Two year</td>\n",
       "      <td>Yes</td>\n",
       "      <td>Bank transfer (automatic)</td>\n",
       "      <td>105.65</td>\n",
       "      <td>6844.5</td>\n",
       "    </tr>\n",
       "  </tbody>\n",
       "</table>\n",
       "<p>7043 rows × 8 columns</p>\n",
       "</div>"
      ],
      "text/plain": [
       "      customerID   BeginDate              EndDate            Type  \\\n",
       "0     7590-VHVEG  2020-01-01                   No  Month-to-month   \n",
       "1     5575-GNVDE  2017-04-01                   No        One year   \n",
       "2     3668-QPYBK  2019-10-01  2019-12-01 00:00:00  Month-to-month   \n",
       "3     7795-CFOCW  2016-05-01                   No        One year   \n",
       "4     9237-HQITU  2019-09-01  2019-11-01 00:00:00  Month-to-month   \n",
       "...          ...         ...                  ...             ...   \n",
       "7038  6840-RESVB  2018-02-01                   No        One year   \n",
       "7039  2234-XADUH  2014-02-01                   No        One year   \n",
       "7040  4801-JZAZL  2019-03-01                   No  Month-to-month   \n",
       "7041  8361-LTMKD  2019-07-01  2019-11-01 00:00:00  Month-to-month   \n",
       "7042  3186-AJIEK  2014-08-01                   No        Two year   \n",
       "\n",
       "     PaperlessBilling              PaymentMethod  MonthlyCharges TotalCharges  \n",
       "0                 Yes           Electronic check           29.85        29.85  \n",
       "1                  No               Mailed check           56.95       1889.5  \n",
       "2                 Yes               Mailed check           53.85       108.15  \n",
       "3                  No  Bank transfer (automatic)           42.30      1840.75  \n",
       "4                 Yes           Electronic check           70.70       151.65  \n",
       "...               ...                        ...             ...          ...  \n",
       "7038              Yes               Mailed check           84.80       1990.5  \n",
       "7039              Yes    Credit card (automatic)          103.20       7362.9  \n",
       "7040              Yes           Electronic check           29.60       346.45  \n",
       "7041              Yes               Mailed check           74.40        306.6  \n",
       "7042              Yes  Bank transfer (automatic)          105.65       6844.5  \n",
       "\n",
       "[7043 rows x 8 columns]"
      ]
     },
     "execution_count": 12,
     "metadata": {},
     "output_type": "execute_result"
    }
   ],
   "source": [
    "#Imprimimos una muestra\n",
    "contract_df"
   ]
  },
  {
   "cell_type": "code",
   "execution_count": 13,
   "metadata": {},
   "outputs": [
    {
     "data": {
      "text/html": [
       "<div>\n",
       "<style scoped>\n",
       "    .dataframe tbody tr th:only-of-type {\n",
       "        vertical-align: middle;\n",
       "    }\n",
       "\n",
       "    .dataframe tbody tr th {\n",
       "        vertical-align: top;\n",
       "    }\n",
       "\n",
       "    .dataframe thead th {\n",
       "        text-align: right;\n",
       "    }\n",
       "</style>\n",
       "<table border=\"1\" class=\"dataframe\">\n",
       "  <thead>\n",
       "    <tr style=\"text-align: right;\">\n",
       "      <th></th>\n",
       "      <th>customer_id</th>\n",
       "      <th>begin_date</th>\n",
       "      <th>end_date</th>\n",
       "      <th>type</th>\n",
       "      <th>paperless_billing</th>\n",
       "      <th>payment_method</th>\n",
       "      <th>monthly_charges</th>\n",
       "      <th>total_charges</th>\n",
       "    </tr>\n",
       "  </thead>\n",
       "  <tbody>\n",
       "    <tr>\n",
       "      <th>0</th>\n",
       "      <td>7590-VHVEG</td>\n",
       "      <td>2020-01-01</td>\n",
       "      <td>No</td>\n",
       "      <td>Month-to-month</td>\n",
       "      <td>Yes</td>\n",
       "      <td>Electronic check</td>\n",
       "      <td>29.85</td>\n",
       "      <td>29.85</td>\n",
       "    </tr>\n",
       "    <tr>\n",
       "      <th>1</th>\n",
       "      <td>5575-GNVDE</td>\n",
       "      <td>2017-04-01</td>\n",
       "      <td>No</td>\n",
       "      <td>One year</td>\n",
       "      <td>No</td>\n",
       "      <td>Mailed check</td>\n",
       "      <td>56.95</td>\n",
       "      <td>1889.5</td>\n",
       "    </tr>\n",
       "    <tr>\n",
       "      <th>2</th>\n",
       "      <td>3668-QPYBK</td>\n",
       "      <td>2019-10-01</td>\n",
       "      <td>2019-12-01 00:00:00</td>\n",
       "      <td>Month-to-month</td>\n",
       "      <td>Yes</td>\n",
       "      <td>Mailed check</td>\n",
       "      <td>53.85</td>\n",
       "      <td>108.15</td>\n",
       "    </tr>\n",
       "    <tr>\n",
       "      <th>3</th>\n",
       "      <td>7795-CFOCW</td>\n",
       "      <td>2016-05-01</td>\n",
       "      <td>No</td>\n",
       "      <td>One year</td>\n",
       "      <td>No</td>\n",
       "      <td>Bank transfer (automatic)</td>\n",
       "      <td>42.30</td>\n",
       "      <td>1840.75</td>\n",
       "    </tr>\n",
       "    <tr>\n",
       "      <th>4</th>\n",
       "      <td>9237-HQITU</td>\n",
       "      <td>2019-09-01</td>\n",
       "      <td>2019-11-01 00:00:00</td>\n",
       "      <td>Month-to-month</td>\n",
       "      <td>Yes</td>\n",
       "      <td>Electronic check</td>\n",
       "      <td>70.70</td>\n",
       "      <td>151.65</td>\n",
       "    </tr>\n",
       "    <tr>\n",
       "      <th>...</th>\n",
       "      <td>...</td>\n",
       "      <td>...</td>\n",
       "      <td>...</td>\n",
       "      <td>...</td>\n",
       "      <td>...</td>\n",
       "      <td>...</td>\n",
       "      <td>...</td>\n",
       "      <td>...</td>\n",
       "    </tr>\n",
       "    <tr>\n",
       "      <th>7038</th>\n",
       "      <td>6840-RESVB</td>\n",
       "      <td>2018-02-01</td>\n",
       "      <td>No</td>\n",
       "      <td>One year</td>\n",
       "      <td>Yes</td>\n",
       "      <td>Mailed check</td>\n",
       "      <td>84.80</td>\n",
       "      <td>1990.5</td>\n",
       "    </tr>\n",
       "    <tr>\n",
       "      <th>7039</th>\n",
       "      <td>2234-XADUH</td>\n",
       "      <td>2014-02-01</td>\n",
       "      <td>No</td>\n",
       "      <td>One year</td>\n",
       "      <td>Yes</td>\n",
       "      <td>Credit card (automatic)</td>\n",
       "      <td>103.20</td>\n",
       "      <td>7362.9</td>\n",
       "    </tr>\n",
       "    <tr>\n",
       "      <th>7040</th>\n",
       "      <td>4801-JZAZL</td>\n",
       "      <td>2019-03-01</td>\n",
       "      <td>No</td>\n",
       "      <td>Month-to-month</td>\n",
       "      <td>Yes</td>\n",
       "      <td>Electronic check</td>\n",
       "      <td>29.60</td>\n",
       "      <td>346.45</td>\n",
       "    </tr>\n",
       "    <tr>\n",
       "      <th>7041</th>\n",
       "      <td>8361-LTMKD</td>\n",
       "      <td>2019-07-01</td>\n",
       "      <td>2019-11-01 00:00:00</td>\n",
       "      <td>Month-to-month</td>\n",
       "      <td>Yes</td>\n",
       "      <td>Mailed check</td>\n",
       "      <td>74.40</td>\n",
       "      <td>306.6</td>\n",
       "    </tr>\n",
       "    <tr>\n",
       "      <th>7042</th>\n",
       "      <td>3186-AJIEK</td>\n",
       "      <td>2014-08-01</td>\n",
       "      <td>No</td>\n",
       "      <td>Two year</td>\n",
       "      <td>Yes</td>\n",
       "      <td>Bank transfer (automatic)</td>\n",
       "      <td>105.65</td>\n",
       "      <td>6844.5</td>\n",
       "    </tr>\n",
       "  </tbody>\n",
       "</table>\n",
       "<p>7043 rows × 8 columns</p>\n",
       "</div>"
      ],
      "text/plain": [
       "     customer_id  begin_date             end_date            type  \\\n",
       "0     7590-VHVEG  2020-01-01                   No  Month-to-month   \n",
       "1     5575-GNVDE  2017-04-01                   No        One year   \n",
       "2     3668-QPYBK  2019-10-01  2019-12-01 00:00:00  Month-to-month   \n",
       "3     7795-CFOCW  2016-05-01                   No        One year   \n",
       "4     9237-HQITU  2019-09-01  2019-11-01 00:00:00  Month-to-month   \n",
       "...          ...         ...                  ...             ...   \n",
       "7038  6840-RESVB  2018-02-01                   No        One year   \n",
       "7039  2234-XADUH  2014-02-01                   No        One year   \n",
       "7040  4801-JZAZL  2019-03-01                   No  Month-to-month   \n",
       "7041  8361-LTMKD  2019-07-01  2019-11-01 00:00:00  Month-to-month   \n",
       "7042  3186-AJIEK  2014-08-01                   No        Two year   \n",
       "\n",
       "     paperless_billing             payment_method  monthly_charges  \\\n",
       "0                  Yes           Electronic check            29.85   \n",
       "1                   No               Mailed check            56.95   \n",
       "2                  Yes               Mailed check            53.85   \n",
       "3                   No  Bank transfer (automatic)            42.30   \n",
       "4                  Yes           Electronic check            70.70   \n",
       "...                ...                        ...              ...   \n",
       "7038               Yes               Mailed check            84.80   \n",
       "7039               Yes    Credit card (automatic)           103.20   \n",
       "7040               Yes           Electronic check            29.60   \n",
       "7041               Yes               Mailed check            74.40   \n",
       "7042               Yes  Bank transfer (automatic)           105.65   \n",
       "\n",
       "     total_charges  \n",
       "0            29.85  \n",
       "1           1889.5  \n",
       "2           108.15  \n",
       "3          1840.75  \n",
       "4           151.65  \n",
       "...            ...  \n",
       "7038        1990.5  \n",
       "7039        7362.9  \n",
       "7040        346.45  \n",
       "7041         306.6  \n",
       "7042        6844.5  \n",
       "\n",
       "[7043 rows x 8 columns]"
      ]
     },
     "execution_count": 13,
     "metadata": {},
     "output_type": "execute_result"
    }
   ],
   "source": [
    "#Función para renombrar las columnas\n",
    "def renombrar_columnas(nombre_columna):\n",
    "    #Utiliza expresiones regulares para agregar guiones bajos\n",
    "    return ''.join(['_' + letra.lower() if letra.isupper() else letra for letra in nombre_columna]).lstrip('_')\n",
    "\n",
    "#Usar .rename() para renombrar las columnas\n",
    "contract_df.rename(columns=renombrar_columnas, inplace=True)\n",
    "contract_df.rename(columns={'customer_i_d': 'customer_id'}, inplace=True)\n",
    "\n",
    "#Mostrar el DataFrame actualizado\n",
    "contract_df"
   ]
  },
  {
   "cell_type": "code",
   "execution_count": 14,
   "metadata": {},
   "outputs": [
    {
     "data": {
      "text/plain": [
       "6531"
      ]
     },
     "execution_count": 14,
     "metadata": {},
     "output_type": "execute_result"
    }
   ],
   "source": [
    "#Veamos cuantos cargos totales distintos hay\n",
    "contract_df.total_charges.nunique()"
   ]
  },
  {
   "cell_type": "code",
   "execution_count": 15,
   "metadata": {},
   "outputs": [],
   "source": [
    "#Veamos cuantos cargos totales no son numericos y los guardamos en una variable llamada 'non_numerical_entries_total_charges'\n",
    "non_numerical_entries_total_charges = contract_df[contract_df['total_charges'].apply(lambda x: not any(c.isdigit() for c in str(x)))]"
   ]
  },
  {
   "cell_type": "code",
   "execution_count": 16,
   "metadata": {},
   "outputs": [
    {
     "data": {
      "text/html": [
       "<div>\n",
       "<style scoped>\n",
       "    .dataframe tbody tr th:only-of-type {\n",
       "        vertical-align: middle;\n",
       "    }\n",
       "\n",
       "    .dataframe tbody tr th {\n",
       "        vertical-align: top;\n",
       "    }\n",
       "\n",
       "    .dataframe thead th {\n",
       "        text-align: right;\n",
       "    }\n",
       "</style>\n",
       "<table border=\"1\" class=\"dataframe\">\n",
       "  <thead>\n",
       "    <tr style=\"text-align: right;\">\n",
       "      <th></th>\n",
       "      <th>customer_id</th>\n",
       "      <th>begin_date</th>\n",
       "      <th>end_date</th>\n",
       "      <th>type</th>\n",
       "      <th>paperless_billing</th>\n",
       "      <th>payment_method</th>\n",
       "      <th>monthly_charges</th>\n",
       "      <th>total_charges</th>\n",
       "    </tr>\n",
       "  </thead>\n",
       "  <tbody>\n",
       "    <tr>\n",
       "      <th>488</th>\n",
       "      <td>4472-LVYGI</td>\n",
       "      <td>2020-02-01</td>\n",
       "      <td>No</td>\n",
       "      <td>Two year</td>\n",
       "      <td>Yes</td>\n",
       "      <td>Bank transfer (automatic)</td>\n",
       "      <td>52.55</td>\n",
       "      <td></td>\n",
       "    </tr>\n",
       "    <tr>\n",
       "      <th>753</th>\n",
       "      <td>3115-CZMZD</td>\n",
       "      <td>2020-02-01</td>\n",
       "      <td>No</td>\n",
       "      <td>Two year</td>\n",
       "      <td>No</td>\n",
       "      <td>Mailed check</td>\n",
       "      <td>20.25</td>\n",
       "      <td></td>\n",
       "    </tr>\n",
       "    <tr>\n",
       "      <th>936</th>\n",
       "      <td>5709-LVOEQ</td>\n",
       "      <td>2020-02-01</td>\n",
       "      <td>No</td>\n",
       "      <td>Two year</td>\n",
       "      <td>No</td>\n",
       "      <td>Mailed check</td>\n",
       "      <td>80.85</td>\n",
       "      <td></td>\n",
       "    </tr>\n",
       "    <tr>\n",
       "      <th>1082</th>\n",
       "      <td>4367-NUYAO</td>\n",
       "      <td>2020-02-01</td>\n",
       "      <td>No</td>\n",
       "      <td>Two year</td>\n",
       "      <td>No</td>\n",
       "      <td>Mailed check</td>\n",
       "      <td>25.75</td>\n",
       "      <td></td>\n",
       "    </tr>\n",
       "    <tr>\n",
       "      <th>1340</th>\n",
       "      <td>1371-DWPAZ</td>\n",
       "      <td>2020-02-01</td>\n",
       "      <td>No</td>\n",
       "      <td>Two year</td>\n",
       "      <td>No</td>\n",
       "      <td>Credit card (automatic)</td>\n",
       "      <td>56.05</td>\n",
       "      <td></td>\n",
       "    </tr>\n",
       "    <tr>\n",
       "      <th>3331</th>\n",
       "      <td>7644-OMVMY</td>\n",
       "      <td>2020-02-01</td>\n",
       "      <td>No</td>\n",
       "      <td>Two year</td>\n",
       "      <td>No</td>\n",
       "      <td>Mailed check</td>\n",
       "      <td>19.85</td>\n",
       "      <td></td>\n",
       "    </tr>\n",
       "    <tr>\n",
       "      <th>3826</th>\n",
       "      <td>3213-VVOLG</td>\n",
       "      <td>2020-02-01</td>\n",
       "      <td>No</td>\n",
       "      <td>Two year</td>\n",
       "      <td>No</td>\n",
       "      <td>Mailed check</td>\n",
       "      <td>25.35</td>\n",
       "      <td></td>\n",
       "    </tr>\n",
       "    <tr>\n",
       "      <th>4380</th>\n",
       "      <td>2520-SGTTA</td>\n",
       "      <td>2020-02-01</td>\n",
       "      <td>No</td>\n",
       "      <td>Two year</td>\n",
       "      <td>No</td>\n",
       "      <td>Mailed check</td>\n",
       "      <td>20.00</td>\n",
       "      <td></td>\n",
       "    </tr>\n",
       "    <tr>\n",
       "      <th>5218</th>\n",
       "      <td>2923-ARZLG</td>\n",
       "      <td>2020-02-01</td>\n",
       "      <td>No</td>\n",
       "      <td>One year</td>\n",
       "      <td>Yes</td>\n",
       "      <td>Mailed check</td>\n",
       "      <td>19.70</td>\n",
       "      <td></td>\n",
       "    </tr>\n",
       "    <tr>\n",
       "      <th>6670</th>\n",
       "      <td>4075-WKNIU</td>\n",
       "      <td>2020-02-01</td>\n",
       "      <td>No</td>\n",
       "      <td>Two year</td>\n",
       "      <td>No</td>\n",
       "      <td>Mailed check</td>\n",
       "      <td>73.35</td>\n",
       "      <td></td>\n",
       "    </tr>\n",
       "    <tr>\n",
       "      <th>6754</th>\n",
       "      <td>2775-SEFEE</td>\n",
       "      <td>2020-02-01</td>\n",
       "      <td>No</td>\n",
       "      <td>Two year</td>\n",
       "      <td>Yes</td>\n",
       "      <td>Bank transfer (automatic)</td>\n",
       "      <td>61.90</td>\n",
       "      <td></td>\n",
       "    </tr>\n",
       "  </tbody>\n",
       "</table>\n",
       "</div>"
      ],
      "text/plain": [
       "     customer_id  begin_date end_date      type paperless_billing  \\\n",
       "488   4472-LVYGI  2020-02-01       No  Two year               Yes   \n",
       "753   3115-CZMZD  2020-02-01       No  Two year                No   \n",
       "936   5709-LVOEQ  2020-02-01       No  Two year                No   \n",
       "1082  4367-NUYAO  2020-02-01       No  Two year                No   \n",
       "1340  1371-DWPAZ  2020-02-01       No  Two year                No   \n",
       "3331  7644-OMVMY  2020-02-01       No  Two year                No   \n",
       "3826  3213-VVOLG  2020-02-01       No  Two year                No   \n",
       "4380  2520-SGTTA  2020-02-01       No  Two year                No   \n",
       "5218  2923-ARZLG  2020-02-01       No  One year               Yes   \n",
       "6670  4075-WKNIU  2020-02-01       No  Two year                No   \n",
       "6754  2775-SEFEE  2020-02-01       No  Two year               Yes   \n",
       "\n",
       "                 payment_method  monthly_charges total_charges  \n",
       "488   Bank transfer (automatic)            52.55                \n",
       "753                Mailed check            20.25                \n",
       "936                Mailed check            80.85                \n",
       "1082               Mailed check            25.75                \n",
       "1340    Credit card (automatic)            56.05                \n",
       "3331               Mailed check            19.85                \n",
       "3826               Mailed check            25.35                \n",
       "4380               Mailed check            20.00                \n",
       "5218               Mailed check            19.70                \n",
       "6670               Mailed check            73.35                \n",
       "6754  Bank transfer (automatic)            61.90                "
      ]
     },
     "execution_count": 16,
     "metadata": {},
     "output_type": "execute_result"
    }
   ],
   "source": [
    "#Mostramos\n",
    "non_numerical_entries_total_charges"
   ]
  },
  {
   "cell_type": "code",
   "execution_count": 17,
   "metadata": {},
   "outputs": [],
   "source": [
    "#Remplazamos los strings que sean vacios con NaN\n",
    "contract_df['total_charges'] = pd.to_numeric(contract_df['total_charges'], errors='coerce')\n",
    "\n",
    "#Convertimos a float64\n",
    "contract_df['total_charges'] = contract_df['total_charges'].astype('float64')"
   ]
  },
  {
   "cell_type": "code",
   "execution_count": 18,
   "metadata": {},
   "outputs": [
    {
     "data": {
      "text/plain": [
       "count    7032.000000\n",
       "mean     2283.300441\n",
       "std      2266.771362\n",
       "min        18.800000\n",
       "25%       401.450000\n",
       "50%      1397.475000\n",
       "75%      3794.737500\n",
       "max      8684.800000\n",
       "Name: total_charges, dtype: float64"
      ]
     },
     "execution_count": 18,
     "metadata": {},
     "output_type": "execute_result"
    }
   ],
   "source": [
    "#Aplicamos un describe, pues no pudimos ver los datos ya que no estaban en formato numerico (flotat64, int)\n",
    "contract_df.total_charges.describe()"
   ]
  },
  {
   "cell_type": "code",
   "execution_count": 19,
   "metadata": {},
   "outputs": [
    {
     "data": {
      "text/html": [
       "<div>\n",
       "<style scoped>\n",
       "    .dataframe tbody tr th:only-of-type {\n",
       "        vertical-align: middle;\n",
       "    }\n",
       "\n",
       "    .dataframe tbody tr th {\n",
       "        vertical-align: top;\n",
       "    }\n",
       "\n",
       "    .dataframe thead th {\n",
       "        text-align: right;\n",
       "    }\n",
       "</style>\n",
       "<table border=\"1\" class=\"dataframe\">\n",
       "  <thead>\n",
       "    <tr style=\"text-align: right;\">\n",
       "      <th></th>\n",
       "      <th>customer_id</th>\n",
       "      <th>begin_date</th>\n",
       "      <th>end_date</th>\n",
       "      <th>type</th>\n",
       "      <th>paperless_billing</th>\n",
       "      <th>payment_method</th>\n",
       "      <th>monthly_charges</th>\n",
       "      <th>total_charges</th>\n",
       "    </tr>\n",
       "  </thead>\n",
       "  <tbody>\n",
       "    <tr>\n",
       "      <th>488</th>\n",
       "      <td>4472-LVYGI</td>\n",
       "      <td>2020-02-01</td>\n",
       "      <td>No</td>\n",
       "      <td>Two year</td>\n",
       "      <td>Yes</td>\n",
       "      <td>Bank transfer (automatic)</td>\n",
       "      <td>52.55</td>\n",
       "      <td>NaN</td>\n",
       "    </tr>\n",
       "    <tr>\n",
       "      <th>753</th>\n",
       "      <td>3115-CZMZD</td>\n",
       "      <td>2020-02-01</td>\n",
       "      <td>No</td>\n",
       "      <td>Two year</td>\n",
       "      <td>No</td>\n",
       "      <td>Mailed check</td>\n",
       "      <td>20.25</td>\n",
       "      <td>NaN</td>\n",
       "    </tr>\n",
       "    <tr>\n",
       "      <th>936</th>\n",
       "      <td>5709-LVOEQ</td>\n",
       "      <td>2020-02-01</td>\n",
       "      <td>No</td>\n",
       "      <td>Two year</td>\n",
       "      <td>No</td>\n",
       "      <td>Mailed check</td>\n",
       "      <td>80.85</td>\n",
       "      <td>NaN</td>\n",
       "    </tr>\n",
       "    <tr>\n",
       "      <th>1082</th>\n",
       "      <td>4367-NUYAO</td>\n",
       "      <td>2020-02-01</td>\n",
       "      <td>No</td>\n",
       "      <td>Two year</td>\n",
       "      <td>No</td>\n",
       "      <td>Mailed check</td>\n",
       "      <td>25.75</td>\n",
       "      <td>NaN</td>\n",
       "    </tr>\n",
       "    <tr>\n",
       "      <th>1340</th>\n",
       "      <td>1371-DWPAZ</td>\n",
       "      <td>2020-02-01</td>\n",
       "      <td>No</td>\n",
       "      <td>Two year</td>\n",
       "      <td>No</td>\n",
       "      <td>Credit card (automatic)</td>\n",
       "      <td>56.05</td>\n",
       "      <td>NaN</td>\n",
       "    </tr>\n",
       "    <tr>\n",
       "      <th>3331</th>\n",
       "      <td>7644-OMVMY</td>\n",
       "      <td>2020-02-01</td>\n",
       "      <td>No</td>\n",
       "      <td>Two year</td>\n",
       "      <td>No</td>\n",
       "      <td>Mailed check</td>\n",
       "      <td>19.85</td>\n",
       "      <td>NaN</td>\n",
       "    </tr>\n",
       "    <tr>\n",
       "      <th>3826</th>\n",
       "      <td>3213-VVOLG</td>\n",
       "      <td>2020-02-01</td>\n",
       "      <td>No</td>\n",
       "      <td>Two year</td>\n",
       "      <td>No</td>\n",
       "      <td>Mailed check</td>\n",
       "      <td>25.35</td>\n",
       "      <td>NaN</td>\n",
       "    </tr>\n",
       "    <tr>\n",
       "      <th>4380</th>\n",
       "      <td>2520-SGTTA</td>\n",
       "      <td>2020-02-01</td>\n",
       "      <td>No</td>\n",
       "      <td>Two year</td>\n",
       "      <td>No</td>\n",
       "      <td>Mailed check</td>\n",
       "      <td>20.00</td>\n",
       "      <td>NaN</td>\n",
       "    </tr>\n",
       "    <tr>\n",
       "      <th>5218</th>\n",
       "      <td>2923-ARZLG</td>\n",
       "      <td>2020-02-01</td>\n",
       "      <td>No</td>\n",
       "      <td>One year</td>\n",
       "      <td>Yes</td>\n",
       "      <td>Mailed check</td>\n",
       "      <td>19.70</td>\n",
       "      <td>NaN</td>\n",
       "    </tr>\n",
       "    <tr>\n",
       "      <th>6670</th>\n",
       "      <td>4075-WKNIU</td>\n",
       "      <td>2020-02-01</td>\n",
       "      <td>No</td>\n",
       "      <td>Two year</td>\n",
       "      <td>No</td>\n",
       "      <td>Mailed check</td>\n",
       "      <td>73.35</td>\n",
       "      <td>NaN</td>\n",
       "    </tr>\n",
       "    <tr>\n",
       "      <th>6754</th>\n",
       "      <td>2775-SEFEE</td>\n",
       "      <td>2020-02-01</td>\n",
       "      <td>No</td>\n",
       "      <td>Two year</td>\n",
       "      <td>Yes</td>\n",
       "      <td>Bank transfer (automatic)</td>\n",
       "      <td>61.90</td>\n",
       "      <td>NaN</td>\n",
       "    </tr>\n",
       "  </tbody>\n",
       "</table>\n",
       "</div>"
      ],
      "text/plain": [
       "     customer_id  begin_date end_date      type paperless_billing  \\\n",
       "488   4472-LVYGI  2020-02-01       No  Two year               Yes   \n",
       "753   3115-CZMZD  2020-02-01       No  Two year                No   \n",
       "936   5709-LVOEQ  2020-02-01       No  Two year                No   \n",
       "1082  4367-NUYAO  2020-02-01       No  Two year                No   \n",
       "1340  1371-DWPAZ  2020-02-01       No  Two year                No   \n",
       "3331  7644-OMVMY  2020-02-01       No  Two year                No   \n",
       "3826  3213-VVOLG  2020-02-01       No  Two year                No   \n",
       "4380  2520-SGTTA  2020-02-01       No  Two year                No   \n",
       "5218  2923-ARZLG  2020-02-01       No  One year               Yes   \n",
       "6670  4075-WKNIU  2020-02-01       No  Two year                No   \n",
       "6754  2775-SEFEE  2020-02-01       No  Two year               Yes   \n",
       "\n",
       "                 payment_method  monthly_charges  total_charges  \n",
       "488   Bank transfer (automatic)            52.55            NaN  \n",
       "753                Mailed check            20.25            NaN  \n",
       "936                Mailed check            80.85            NaN  \n",
       "1082               Mailed check            25.75            NaN  \n",
       "1340    Credit card (automatic)            56.05            NaN  \n",
       "3331               Mailed check            19.85            NaN  \n",
       "3826               Mailed check            25.35            NaN  \n",
       "4380               Mailed check            20.00            NaN  \n",
       "5218               Mailed check            19.70            NaN  \n",
       "6670               Mailed check            73.35            NaN  \n",
       "6754  Bank transfer (automatic)            61.90            NaN  "
      ]
     },
     "execution_count": 19,
     "metadata": {},
     "output_type": "execute_result"
    }
   ],
   "source": [
    "#Visualizamos de nuevo cuales son los NaN, deberian ser los mismo que los que guardamos en la variable non_numerical_entries_total_charges\n",
    "contract_df[contract_df['total_charges'].isna()]"
   ]
  },
  {
   "cell_type": "code",
   "execution_count": 20,
   "metadata": {},
   "outputs": [
    {
     "data": {
      "text/plain": [
       "2"
      ]
     },
     "execution_count": 20,
     "metadata": {},
     "output_type": "execute_result"
    }
   ],
   "source": [
    "#Veamos cuantos valores unicos tiene 'PaperlessBilling'\n",
    "contract_df.paperless_billing.nunique()"
   ]
  },
  {
   "cell_type": "code",
   "execution_count": 21,
   "metadata": {},
   "outputs": [
    {
     "data": {
      "text/plain": [
       "1    0.592219\n",
       "0    0.407781\n",
       "Name: paperless_billing, dtype: float64"
      ]
     },
     "execution_count": 21,
     "metadata": {},
     "output_type": "execute_result"
    }
   ],
   "source": [
    "#Cambiamos el 'Yes' por un 1 y 'No' por '0'\n",
    "contract_df['paperless_billing'] = contract_df['paperless_billing'].apply(lambda x: 1 if x == 'Yes' else (0 if x == 'No' else x))\n",
    "contract_df.paperless_billing.value_counts(normalize=True)"
   ]
  },
  {
   "cell_type": "code",
   "execution_count": 22,
   "metadata": {},
   "outputs": [],
   "source": [
    "#Convirtamos la serie 'BeginDate' a formato datetime\n",
    "contract_df['begin_date'] = pd.to_datetime(contract_df['begin_date'])"
   ]
  },
  {
   "cell_type": "code",
   "execution_count": 23,
   "metadata": {},
   "outputs": [
    {
     "data": {
      "text/plain": [
       "No                     0.734630\n",
       "2019-11-01 00:00:00    0.068863\n",
       "2019-12-01 00:00:00    0.066165\n",
       "2020-01-01 00:00:00    0.065313\n",
       "2019-10-01 00:00:00    0.065029\n",
       "Name: end_date, dtype: float64"
      ]
     },
     "execution_count": 23,
     "metadata": {},
     "output_type": "execute_result"
    }
   ],
   "source": [
    "#Veamos como se reparten los datos\n",
    "contract_df['end_date'].value_counts(normalize=True)"
   ]
  },
  {
   "cell_type": "code",
   "execution_count": 24,
   "metadata": {},
   "outputs": [
    {
     "data": {
      "text/plain": [
       "5"
      ]
     },
     "execution_count": 24,
     "metadata": {},
     "output_type": "execute_result"
    }
   ],
   "source": [
    "#Veamos cuantos valores tiene la columna 'EndDate'\n",
    "contract_df['end_date'].nunique()"
   ]
  },
  {
   "cell_type": "code",
   "execution_count": 25,
   "metadata": {},
   "outputs": [],
   "source": [
    "#Creemos una columna llamada 'year' que contenga el año en el que se inicio\n",
    "contract_df['begin_year'] = contract_df['begin_date'].dt.year"
   ]
  },
  {
   "cell_type": "code",
   "execution_count": 26,
   "metadata": {},
   "outputs": [
    {
     "data": {
      "text/plain": [
       "array([2020, 2017, 2019, 2016, 2018, 2014, 2015, 2013], dtype=int64)"
      ]
     },
     "execution_count": 26,
     "metadata": {},
     "output_type": "execute_result"
    }
   ],
   "source": [
    "#Veamos los valores unicos que hay\n",
    "contract_df['begin_year'].unique()"
   ]
  },
  {
   "cell_type": "code",
   "execution_count": 27,
   "metadata": {},
   "outputs": [
    {
     "data": {
      "text/plain": [
       "2019    0.277865\n",
       "2014    0.190828\n",
       "2018    0.146244\n",
       "2015    0.120971\n",
       "2017    0.119977\n",
       "2016    0.108335\n",
       "2020    0.034644\n",
       "2013    0.001136\n",
       "Name: begin_year, dtype: float64"
      ]
     },
     "execution_count": 27,
     "metadata": {},
     "output_type": "execute_result"
    }
   ],
   "source": [
    "#Veamos como se reparten los años\n",
    "contract_df['begin_year'].value_counts(normalize=True)"
   ]
  },
  {
   "cell_type": "code",
   "execution_count": 28,
   "metadata": {},
   "outputs": [],
   "source": [
    "#Convertimos los datos de 'end_date' a formato datetime\n",
    "contract_df['end_date'] = pd.to_datetime(contract_df['end_date'], errors= 'coerce')"
   ]
  },
  {
   "cell_type": "code",
   "execution_count": 29,
   "metadata": {},
   "outputs": [],
   "source": [
    "#Hacemos una columna 'years_with_plan' que nos devuelva la cantidad de años que tiene el cliente con el plan contratado\n",
    "contract_df['years_with_plan'] = (contract_df['end_date'].dt.year) - (contract_df['begin_year'])"
   ]
  },
  {
   "cell_type": "code",
   "execution_count": 30,
   "metadata": {},
   "outputs": [],
   "source": [
    "#Llenamos los valores ausentes en 'end_date' o 'NaT' con 'No'\n",
    "contract_df['end_date'] = contract_df['end_date'].fillna('No')"
   ]
  },
  {
   "cell_type": "code",
   "execution_count": 31,
   "metadata": {},
   "outputs": [],
   "source": [
    "#Llenamos los valores ausentes en 'years_with_plan' a 0\n",
    "contract_df['years_with_plan'] = contract_df['years_with_plan'].fillna(0)"
   ]
  },
  {
   "cell_type": "code",
   "execution_count": 32,
   "metadata": {},
   "outputs": [
    {
     "data": {
      "text/plain": [
       "count    7032.000000\n",
       "mean     2283.300441\n",
       "std      2266.771362\n",
       "min        18.800000\n",
       "25%       401.450000\n",
       "50%      1397.475000\n",
       "75%      3794.737500\n",
       "max      8684.800000\n",
       "Name: total_charges, dtype: float64"
      ]
     },
     "execution_count": 32,
     "metadata": {},
     "output_type": "execute_result"
    }
   ],
   "source": [
    "#Veamos la mediana y media de total_charges\n",
    "contract_df.total_charges.describe()"
   ]
  },
  {
   "cell_type": "code",
   "execution_count": 33,
   "metadata": {},
   "outputs": [],
   "source": [
    "#Solucionemos aquellos valores ausentes con la mediana, puesto que hay gran diferencia entre la media y mediana (puede desviar los datos de la realidad al usar media)\n",
    "median_total_charges_years_with_plan = contract_df.groupby('years_with_plan')['total_charges'].median()\n",
    "\n",
    "def fill_na_total_charges(row):\n",
    "    row_total_charges = row['total_charges']\n",
    "    row_years_with_plan = row['years_with_plan']\n",
    "    if pd.isna(row_total_charges):\n",
    "        return median_total_charges_years_with_plan[row_years_with_plan]\n",
    "    else:\n",
    "        return row_total_charges"
   ]
  },
  {
   "cell_type": "code",
   "execution_count": 34,
   "metadata": {},
   "outputs": [
    {
     "data": {
      "text/plain": [
       "1330.1"
      ]
     },
     "execution_count": 34,
     "metadata": {},
     "output_type": "execute_result"
    }
   ],
   "source": [
    "#Revisemos si funciona nuestra funcion\n",
    "fill_na_total_charges(contract_df.loc[488])"
   ]
  },
  {
   "cell_type": "code",
   "execution_count": 35,
   "metadata": {},
   "outputs": [
    {
     "data": {
      "text/plain": [
       "customer_id                         4472-LVYGI\n",
       "begin_date                 2020-02-01 00:00:00\n",
       "end_date                                    No\n",
       "type                                  Two year\n",
       "paperless_billing                            1\n",
       "payment_method       Bank transfer (automatic)\n",
       "monthly_charges                          52.55\n",
       "total_charges                           1330.1\n",
       "begin_year                                2020\n",
       "years_with_plan                            0.0\n",
       "Name: 488, dtype: object"
      ]
     },
     "execution_count": 35,
     "metadata": {},
     "output_type": "execute_result"
    }
   ],
   "source": [
    "#Apliquemos la funcion e imprimamos una muestra\n",
    "contract_df['total_charges'] = contract_df.apply(fill_na_total_charges, axis=1)\n",
    "\n",
    "contract_df.loc[488]"
   ]
  },
  {
   "cell_type": "code",
   "execution_count": 36,
   "metadata": {},
   "outputs": [
    {
     "data": {
      "text/plain": [
       "0"
      ]
     },
     "execution_count": 36,
     "metadata": {},
     "output_type": "execute_result"
    }
   ],
   "source": [
    "#Veamos si hay valores ausentes\n",
    "contract_df.isna().sum().sum()"
   ]
  },
  {
   "cell_type": "code",
   "execution_count": 37,
   "metadata": {},
   "outputs": [
    {
     "data": {
      "text/plain": [
       "0.0    0.837569\n",
       "1.0    0.070709\n",
       "2.0    0.032089\n",
       "3.0    0.022292\n",
       "4.0    0.019026\n",
       "5.0    0.013205\n",
       "6.0    0.005111\n",
       "Name: years_with_plan, dtype: float64"
      ]
     },
     "execution_count": 37,
     "metadata": {},
     "output_type": "execute_result"
    }
   ],
   "source": [
    "#Veamos como se distribuyen las clases de years_with_plan\n",
    "contract_df['years_with_plan'].value_counts(normalize=True)"
   ]
  },
  {
   "cell_type": "code",
   "execution_count": 38,
   "metadata": {},
   "outputs": [],
   "source": [
    "#Saquemos el mes de cada inicio de cada contrato para futuros analisis\n",
    "contract_df['month'] = contract_df['begin_date'].dt.month"
   ]
  },
  {
   "cell_type": "code",
   "execution_count": 39,
   "metadata": {},
   "outputs": [
    {
     "data": {
      "text/plain": [
       "2     0.114156\n",
       "1     0.088457\n",
       "9     0.088457\n",
       "11    0.088173\n",
       "12    0.085759\n",
       "10    0.085333\n",
       "3     0.083771\n",
       "8     0.075536\n",
       "6     0.074116\n",
       "7     0.073548\n",
       "4     0.072554\n",
       "5     0.070141\n",
       "Name: month, dtype: float64"
      ]
     },
     "execution_count": 39,
     "metadata": {},
     "output_type": "execute_result"
    }
   ],
   "source": [
    "#Veamos como se distribuyen las clases\n",
    "contract_df.month.value_counts(normalize=True)"
   ]
  },
  {
   "cell_type": "code",
   "execution_count": 40,
   "metadata": {},
   "outputs": [
    {
     "data": {
      "text/plain": [
       "1    0.592219\n",
       "0    0.407781\n",
       "Name: paperless_billing, dtype: float64"
      ]
     },
     "execution_count": 40,
     "metadata": {},
     "output_type": "execute_result"
    }
   ],
   "source": [
    "#Veamos como se distribuyen las clases de como reciben su factura los clientes (digital, o fisica)\n",
    "contract_df.paperless_billing.value_counts(normalize=True)"
   ]
  },
  {
   "cell_type": "code",
   "execution_count": 41,
   "metadata": {},
   "outputs": [],
   "source": [
    "#Creamos una funcion para hacer diagramas de caja y bigotes, tomando como parametro el dataframe en uso\n",
    "def plot_boxplot(dataframe):\n",
    "    #Filtrar columnas numéricas\n",
    "    numeric_columns = dataframe.select_dtypes(include=['int64', 'float64'])\n",
    "    \n",
    "    #Crear el boxplot\n",
    "    plt.figure(figsize=(12, 6))\n",
    "    sns.boxplot(data=numeric_columns)\n",
    "    plt.xticks(rotation=45)\n",
    "    plt.title('Boxplot de las Columnas Numéricas')\n",
    "    plt.xlabel('Columnas')\n",
    "    plt.ylabel('Valores')\n",
    "    plt.show()"
   ]
  },
  {
   "cell_type": "code",
   "execution_count": 42,
   "metadata": {},
   "outputs": [],
   "source": [
    "#Creemos una funcion que tome como parametros el dataframe, columna en el eje x, columna en el eje y, tipo de grafico\n",
    "def generar_grafico(dataframe, x_columna, y_columna, tipo):\n",
    "    \"\"\"\n",
    "    Genera un gráfico de barras o un gráfico de dispersión según el tipo especificado.\n",
    "\n",
    "    :param dataframe: El DataFrame que contiene los datos.\n",
    "    :param x_columna: El nombre de la columna para el eje X.\n",
    "    :param y_columna: El nombre de la columna para el eje Y.\n",
    "    :param tipo: El tipo de gráfico ('barras' o 'dispersion').\n",
    "    \"\"\"\n",
    "    \n",
    "    if x_columna not in dataframe.columns or y_columna not in dataframe.columns:\n",
    "        print(\"Una o ambas columnas especificadas no existen en el DataFrame.\")\n",
    "        return\n",
    "    \n",
    "    if tipo == 'bar':\n",
    "        plt.figure(figsize=(8, 6))\n",
    "        plt.bar(dataframe[x_columna], dataframe[y_columna])\n",
    "        plt.xlabel(x_columna)\n",
    "        plt.ylabel(y_columna)\n",
    "        plt.title(f'Gráfico de Barras: {x_columna} vs {y_columna}')\n",
    "        plt.xticks(rotation=45)  # Rotar las etiquetas del eje X si es necesario\n",
    "        plt.show()\n",
    "    elif tipo == 'scarse':\n",
    "        plt.figure(figsize=(8, 6))\n",
    "        plt.scatter(dataframe[x_columna], dataframe[y_columna])\n",
    "        plt.xlabel(x_columna)\n",
    "        plt.ylabel(y_columna)\n",
    "        plt.title(f'Gráfico de Dispersión: {x_columna} vs {y_columna}')\n",
    "        plt.show()\n",
    "    else:\n",
    "        print(\"Tipo de gráfico no válido. Use 'bar' o 'scarse'.\")"
   ]
  },
  {
   "cell_type": "code",
   "execution_count": 43,
   "metadata": {},
   "outputs": [
    {
     "data": {
      "image/png": "[encoded data removed]",
      "text/plain": [
       "<Figure size 800x600 with 1 Axes>"
      ]
     },
     "metadata": {},
     "output_type": "display_data"
    }
   ],
   "source": [
    "#Graficamos la cantidad de gastos totales por cantidad de años con el plan en un grafico de barras\n",
    "generar_grafico(contract_df, 'years_with_plan', 'total_charges', 'bar')"
   ]
  },
  {
   "cell_type": "code",
   "execution_count": 44,
   "metadata": {},
   "outputs": [
    {
     "data": {
      "image/png": "[encoded data removed]",
      "text/plain": [
       "<Figure size 800x600 with 1 Axes>"
      ]
     },
     "metadata": {},
     "output_type": "display_data"
    }
   ],
   "source": [
    "#Graficamos los gastos mensuales por la cantidad de años con el plan en un grafico de barras\n",
    "generar_grafico(contract_df, 'years_with_plan', 'monthly_charges', 'bar')"
   ]
  },
  {
   "cell_type": "code",
   "execution_count": 45,
   "metadata": {},
   "outputs": [
    {
     "data": {
      "image/png": "[encoded data removed]",
      "text/plain": [
       "<Figure size 800x600 with 1 Axes>"
      ]
     },
     "metadata": {},
     "output_type": "display_data"
    }
   ],
   "source": [
    "#Graficamos la cantidad de gastos mensuales por cantidad de años en un grafico de dispersion\n",
    "generar_grafico(contract_df, 'years_with_plan', 'monthly_charges', 'scarse')"
   ]
  },
  {
   "cell_type": "code",
   "execution_count": 46,
   "metadata": {},
   "outputs": [
    {
     "data": {
      "image/png": "[encoded data removed]",
      "text/plain": [
       "<Figure size 800x600 with 1 Axes>"
      ]
     },
     "metadata": {},
     "output_type": "display_data"
    }
   ],
   "source": [
    "#Graficamos los gastos totales por la cantidad de años en un grafico de dispersion\n",
    "generar_grafico(contract_df, 'years_with_plan', 'total_charges', 'scarse')"
   ]
  },
  {
   "cell_type": "code",
   "execution_count": null,
   "metadata": {},
   "outputs": [],
   "source": [
    "#Graficamos como van los gastos mensuales por mes en un grafico de barras\n",
    "generar_grafico(contract_df, 'month', 'monthly_charges', 'bar')"
   ]
  },
  {
   "cell_type": "code",
   "execution_count": null,
   "metadata": {},
   "outputs": [],
   "source": [
    "#Graficamos como van los gastos mensuales por mes en un grafico de dispersion\n",
    "generar_grafico(contract_df, 'month', 'monthly_charges', 'scarse')"
   ]
  },
  {
   "cell_type": "code",
   "execution_count": null,
   "metadata": {},
   "outputs": [],
   "source": [
    "#Graficamos con la funcion un diagrama de caja y bigotes\n",
    "plot_boxplot(contract_df)"
   ]
  },
  {
   "cell_type": "markdown",
   "metadata": {},
   "source": [
    "### Personal Dataframe\n"
   ]
  },
  {
   "cell_type": "code",
   "execution_count": null,
   "metadata": {},
   "outputs": [],
   "source": [
    "#Imprimimos informacion general sobre los datos\n",
    "personal_df.info()"
   ]
  },
  {
   "cell_type": "code",
   "execution_count": null,
   "metadata": {},
   "outputs": [],
   "source": [
    "#Revisamos como van los datos\n",
    "personal_df.describe()"
   ]
  },
  {
   "cell_type": "code",
   "execution_count": null,
   "metadata": {},
   "outputs": [],
   "source": [
    "#Veamos si hay valores ausentes\n",
    "personal_df.isna().sum()"
   ]
  },
  {
   "cell_type": "code",
   "execution_count": null,
   "metadata": {},
   "outputs": [],
   "source": [
    "#Chequeamos por valores duplicados\n",
    "personal_df.duplicated().sum()"
   ]
  },
  {
   "cell_type": "code",
   "execution_count": null,
   "metadata": {},
   "outputs": [],
   "source": [
    "#Imprimimos una muestra\n",
    "personal_df"
   ]
  },
  {
   "cell_type": "code",
   "execution_count": null,
   "metadata": {},
   "outputs": [],
   "source": [
    "#Usamos la funcion renombrar_columnas\n",
    "personal_df.rename(columns=renombrar_columnas, inplace=True)\n",
    "personal_df.rename(columns={'customer_i_d': 'customer_id'}, inplace=True)\n",
    "\n",
    "#Mostramos\n",
    "personal_df"
   ]
  },
  {
   "cell_type": "code",
   "execution_count": null,
   "metadata": {},
   "outputs": [],
   "source": [
    "#Vemos las columnas Partner y Dependents que valores tienen, si son solo \"Yes\" o \"No\", podemos reemplazar con binarios\n",
    "personal_df.partner.unique()"
   ]
  },
  {
   "cell_type": "code",
   "execution_count": null,
   "metadata": {},
   "outputs": [],
   "source": [
    "personal_df.dependents.unique()"
   ]
  },
  {
   "cell_type": "code",
   "execution_count": null,
   "metadata": {},
   "outputs": [],
   "source": [
    "#Cambiamos aquellas columnas que sean binarias a 1 o 0 para facilitar el proceso de ML despues\n",
    "personal_df.partner = personal_df.partner.apply(lambda x: 1 if x == 'Yes' else (0 if x == 'No' else x))\n",
    "personal_df.dependents = personal_df.dependents.apply(lambda x: 1 if x == 'Yes' else (0 if x == 'No' else x))"
   ]
  },
  {
   "cell_type": "code",
   "execution_count": null,
   "metadata": {},
   "outputs": [],
   "source": [
    "#Veamos como se distribuyen las clases\n",
    "personal_df.partner.value_counts(normalize=True)"
   ]
  },
  {
   "cell_type": "code",
   "execution_count": null,
   "metadata": {},
   "outputs": [],
   "source": [
    "#Veamos como se distribuyen las clases\n",
    "personal_df.dependents.value_counts(normalize=True)"
   ]
  },
  {
   "cell_type": "markdown",
   "metadata": {},
   "source": [
    "### Internet Dataframe"
   ]
  },
  {
   "cell_type": "code",
   "execution_count": null,
   "metadata": {},
   "outputs": [],
   "source": [
    "#Vemos informacion general sobre los datos\n",
    "internet_df.info()"
   ]
  },
  {
   "cell_type": "code",
   "execution_count": null,
   "metadata": {},
   "outputs": [],
   "source": [
    "#Veamos una descripcion de los datos\n",
    "internet_df.describe()"
   ]
  },
  {
   "cell_type": "code",
   "execution_count": null,
   "metadata": {},
   "outputs": [],
   "source": [
    "#Cambiemos los nombres de las columnas a minusculas y underscores(_)\n",
    "internet_df.rename(columns=renombrar_columnas, inplace=True)\n",
    "internet_df.rename(columns= {'customer_i_d' : 'customer_id', 'streaming_t_v' : 'streaming_tv'}, inplace=True)\n",
    "\n",
    "internet_df.columns"
   ]
  },
  {
   "cell_type": "code",
   "execution_count": null,
   "metadata": {},
   "outputs": [],
   "source": [
    "#Vamos a reemplazar los valores que sean binarios a 1 o 0\n",
    "internet_df.online_security = internet_df.online_security.apply(lambda x: 1 if x == 'Yes' else (0 if x == 'No' else x)).astype('float64')\n",
    "internet_df.online_backup = internet_df.online_backup.apply(lambda x: 1 if x == 'Yes' else (0 if x == 'No' else x)).astype('float64')\n",
    "internet_df.device_protection = internet_df.device_protection.apply(lambda x: 1 if x == 'Yes' else (0 if x == 'No' else x)).astype('float64')\n",
    "internet_df.tech_support = internet_df.tech_support.apply(lambda x: 1 if x == 'Yes' else (0 if x == 'No' else x)).astype('float64')\n",
    "internet_df.streaming_tv = internet_df.streaming_tv.apply(lambda x: 1 if x == 'Yes' else (0 if x == 'No' else x)).astype('float64')\n",
    "internet_df.streaming_movies = internet_df.streaming_movies.apply(lambda x: 1 if x == 'Yes' else (0 if x == 'No' else x)).astype('float64')\n",
    "\n",
    "#Imprimamos una muestra\n",
    "internet_df"
   ]
  },
  {
   "cell_type": "code",
   "execution_count": null,
   "metadata": {},
   "outputs": [],
   "source": [
    "#Chequeamos para valores ausentes\n",
    "internet_df.isna().sum()"
   ]
  },
  {
   "cell_type": "code",
   "execution_count": null,
   "metadata": {},
   "outputs": [],
   "source": [
    "#Revisemos si hay duplicados\n",
    "internet_df.duplicated().sum()"
   ]
  },
  {
   "cell_type": "markdown",
   "metadata": {},
   "source": [
    "### Phone Dataframe"
   ]
  },
  {
   "cell_type": "code",
   "execution_count": null,
   "metadata": {},
   "outputs": [],
   "source": [
    "#Mostremos informacion general sobre los datos\n",
    "phone_df.info()"
   ]
  },
  {
   "cell_type": "code",
   "execution_count": null,
   "metadata": {},
   "outputs": [],
   "source": [
    "#Veamos como van los datos\n",
    "phone_df.describe()"
   ]
  },
  {
   "cell_type": "code",
   "execution_count": null,
   "metadata": {},
   "outputs": [],
   "source": [
    "#Renombramos las columnas a minusculas y underscores(_)\n",
    "phone_df.rename(columns=renombrar_columnas, inplace=True)\n",
    "phone_df.rename(columns= {'customer_i_d' : 'customer_id'}, inplace=True)"
   ]
  },
  {
   "cell_type": "code",
   "execution_count": null,
   "metadata": {},
   "outputs": [],
   "source": [
    "#Reemplazamos los valores binarios por 1 o 0\n",
    "phone_df.multiple_lines = phone_df.multiple_lines.apply(lambda x: 1 if x == 'Yes' else (0 if x == 'No' else x))"
   ]
  },
  {
   "cell_type": "code",
   "execution_count": null,
   "metadata": {},
   "outputs": [],
   "source": [
    "#Revisemos los valores ausentes\n",
    "phone_df.isna().sum()"
   ]
  },
  {
   "cell_type": "code",
   "execution_count": null,
   "metadata": {},
   "outputs": [],
   "source": [
    "#Veamos si hay duplicados\n",
    "phone_df.duplicated().sum()"
   ]
  },
  {
   "cell_type": "markdown",
   "metadata": {},
   "source": [
    "### Conclusiones despues de tratar los dataframes\n",
    "\n",
    "Podemos ver que los dataframes en si no eran tan problematicos. Muchos no comparten los mismos datos y hay diferentes clientes en mucho de los conjuntos de datos. Cambiamos los nombres de las columnas a \"snake_case\" para que sea mas simple de acceder a ellos, y tambien simplificamos el proceso de cambiar aquellos valores binarios ('yes' o 'no') a numericos, es decir, 1 o 0. Esto nos ayudara a no usar espacio computacional en el futuro, es decir, al encodificar con herramientas como OHE, OrdinalEncoder, etc., pues no tendremos que usarlo para esas columnas."
   ]
  },
  {
   "cell_type": "markdown",
   "metadata": {},
   "source": [
    "## Juntemos los dataframes, para hacer graficos, hipotesis, etc.\n"
   ]
  },
  {
   "cell_type": "code",
   "execution_count": null,
   "metadata": {},
   "outputs": [],
   "source": [
    "#Combinar contract_df y personal_df en la columna customer_id\n",
    "merged_df = pd.merge(contract_df, personal_df, on='customer_id', how='left')\n",
    "\n",
    "#Combinar internet_df con el DataFrame fusionado\n",
    "merged_df = pd.merge(merged_df, internet_df, on='customer_id', how='left')\n",
    "\n",
    "#Combinar phone_df con el DataFrame fusionado\n",
    "merged_df = pd.merge(merged_df, phone_df, on='customer_id', how='left')\n",
    "\n",
    "merged_df"
   ]
  },
  {
   "cell_type": "code",
   "execution_count": null,
   "metadata": {},
   "outputs": [],
   "source": [
    "#Veamos informacion general del dataframe\n",
    "merged_df.info()"
   ]
  },
  {
   "cell_type": "code",
   "execution_count": null,
   "metadata": {},
   "outputs": [],
   "source": [
    "#Veamos una descripcion de datos\n",
    "merged_df.describe()"
   ]
  },
  {
   "cell_type": "code",
   "execution_count": null,
   "metadata": {},
   "outputs": [],
   "source": [
    "#Veamos cuantos NaN tenemos ahora\n",
    "merged_df.isna().sum()"
   ]
  },
  {
   "cell_type": "code",
   "execution_count": null,
   "metadata": {},
   "outputs": [],
   "source": [
    "#Llenamos aquellos datos de clientes que no tengan registro de esos servicios con una categoria especial\n",
    "merged_df.fillna('Not Registered', inplace=True)\n",
    "\n",
    "merged_df"
   ]
  },
  {
   "cell_type": "code",
   "execution_count": null,
   "metadata": {},
   "outputs": [],
   "source": [
    "#Veamos cuantos NaN tenemos\n",
    "merged_df.isna().sum()"
   ]
  },
  {
   "cell_type": "code",
   "execution_count": null,
   "metadata": {},
   "outputs": [],
   "source": [
    "#Grafiquemos un boxplot con el dataframe nuevo\n",
    "plot_boxplot(merged_df)"
   ]
  },
  {
   "cell_type": "code",
   "execution_count": null,
   "metadata": {},
   "outputs": [],
   "source": [
    "#Creemos una columna que nos indique si un cliente ha abandonado el plan que se ha ofrecido\n",
    "merged_df['left_plan'] = merged_df['end_date'].apply(lambda x: 0 if x == 'No' else 1)"
   ]
  },
  {
   "cell_type": "code",
   "execution_count": null,
   "metadata": {},
   "outputs": [],
   "source": [
    "#Veamos cuantos clientes en relacion a nuestros datos han abandonado el plan\n",
    "merged_df.left_plan.value_counts(normalize=True)"
   ]
  },
  {
   "cell_type": "code",
   "execution_count": null,
   "metadata": {},
   "outputs": [],
   "source": [
    "#Crear un gráfico de barras\n",
    "plt.bar(merged_df['left_plan'].unique(), merged_df['left_plan'].value_counts(), tick_label=['0', '1'])\n",
    "plt.xlabel('Valor')\n",
    "plt.ylabel('Conteo')\n",
    "plt.title('Gráfico de Barras de la Columna \"left_plan\"')\n",
    "plt.show()"
   ]
  },
  {
   "cell_type": "code",
   "execution_count": 85,
   "metadata": {},
   "outputs": [
    {
     "data": {
      "image/png": "[encoded data removed]",
      "text/plain": [
       "<Figure size 1200x600 with 1 Axes>"
      ]
     },
     "metadata": {},
     "output_type": "display_data"
    },
    {
     "data": {
      "image/png": "[encoded data removed]",
      "text/plain": [
       "<Figure size 800x500 with 1 Axes>"
      ]
     },
     "metadata": {},
     "output_type": "display_data"
    },
    {
     "data": {
      "image/png": "[encoded data removed]",
      "text/plain": [
       "<Figure size 1000x600 with 1 Axes>"
      ]
     },
     "metadata": {},
     "output_type": "display_data"
    }
   ],
   "source": [
    "#Visualizamos tendencias a lo largo del tiempo\n",
    "plt.figure(figsize=(12, 6))\n",
    "sns.lineplot(x='begin_date', y='monthly_charges', hue='left_plan', data=merged_df)\n",
    "plt.title('Cargos Mensuales a lo Largo del Tiempo por Estado de Churn')\n",
    "plt.xlabel('Fecha de Inicio')\n",
    "plt.ylabel('Cargos Mensuales')\n",
    "plt.xticks(rotation=45)\n",
    "plt.show()\n",
    "\n",
    "#Visualizamos la pérdida de clientes por tipo\n",
    "plt.figure(figsize=(8, 5))\n",
    "sns.countplot(x='type', hue='left_plan', data=merged_df)\n",
    "plt.title('Pérdida de Clientes por Tipo')\n",
    "plt.xlabel('Tipo')\n",
    "plt.ylabel('Cantidad')\n",
    "plt.xticks(rotation=45)\n",
    "plt.show()\n",
    "\n",
    "#Visualizamos la estacionalidad\n",
    "plt.figure(figsize=(10, 6))\n",
    "sns.barplot(x='month', y='left_plan', data=merged_df, estimator=lambda x: sum(x) / len(x))\n",
    "plt.title('Tasa de Pérdida de Clientes por Mes')\n",
    "plt.xlabel('Mes')\n",
    "plt.ylabel('Tasa de Pérdida')\n",
    "plt.show()"
   ]
  },
  {
   "cell_type": "code",
   "execution_count": 88,
   "metadata": {},
   "outputs": [
    {
     "name": "stderr",
     "output_type": "stream",
     "text": [
      "C:\\Users\\nicar\\anaconda3\\Lib\\site-packages\\sklearn\\preprocessing\\_encoders.py:868: FutureWarning: `sparse` was renamed to `sparse_output` in version 1.2 and will be removed in 1.4. `sparse_output` is ignored unless you leave `sparse` to its default value.\n",
      "  warnings.warn(\n"
     ]
    },
    {
     "data": {
      "text/html": [
       "<div>\n",
       "<style scoped>\n",
       "    .dataframe tbody tr th:only-of-type {\n",
       "        vertical-align: middle;\n",
       "    }\n",
       "\n",
       "    .dataframe tbody tr th {\n",
       "        vertical-align: top;\n",
       "    }\n",
       "\n",
       "    .dataframe thead th {\n",
       "        text-align: right;\n",
       "    }\n",
       "</style>\n",
       "<table border=\"1\" class=\"dataframe\">\n",
       "  <thead>\n",
       "    <tr style=\"text-align: right;\">\n",
       "      <th></th>\n",
       "      <th>customer_id</th>\n",
       "      <th>begin_date</th>\n",
       "      <th>end_date</th>\n",
       "      <th>paperless_billing</th>\n",
       "      <th>monthly_charges</th>\n",
       "      <th>total_charges</th>\n",
       "      <th>begin_year</th>\n",
       "      <th>years_with_plan</th>\n",
       "      <th>month</th>\n",
       "      <th>senior_citizen</th>\n",
       "      <th>...</th>\n",
       "      <th>multiple_lines</th>\n",
       "      <th>left_plan</th>\n",
       "      <th>type_One year</th>\n",
       "      <th>type_Two year</th>\n",
       "      <th>gender_Male</th>\n",
       "      <th>internet_service_Fiber optic</th>\n",
       "      <th>internet_service_Not Registered</th>\n",
       "      <th>payment_method_Credit card (automatic)</th>\n",
       "      <th>payment_method_Electronic check</th>\n",
       "      <th>payment_method_Mailed check</th>\n",
       "    </tr>\n",
       "  </thead>\n",
       "  <tbody>\n",
       "    <tr>\n",
       "      <th>0</th>\n",
       "      <td>7590-VHVEG</td>\n",
       "      <td>2020-01-01</td>\n",
       "      <td>No</td>\n",
       "      <td>1</td>\n",
       "      <td>29.85</td>\n",
       "      <td>29.85</td>\n",
       "      <td>2020</td>\n",
       "      <td>0.0</td>\n",
       "      <td>1</td>\n",
       "      <td>0</td>\n",
       "      <td>...</td>\n",
       "      <td>Not Registered</td>\n",
       "      <td>0</td>\n",
       "      <td>0.0</td>\n",
       "      <td>0.0</td>\n",
       "      <td>0.0</td>\n",
       "      <td>0.0</td>\n",
       "      <td>0.0</td>\n",
       "      <td>0.0</td>\n",
       "      <td>1.0</td>\n",
       "      <td>0.0</td>\n",
       "    </tr>\n",
       "    <tr>\n",
       "      <th>1</th>\n",
       "      <td>5575-GNVDE</td>\n",
       "      <td>2017-04-01</td>\n",
       "      <td>No</td>\n",
       "      <td>0</td>\n",
       "      <td>56.95</td>\n",
       "      <td>1889.50</td>\n",
       "      <td>2017</td>\n",
       "      <td>0.0</td>\n",
       "      <td>4</td>\n",
       "      <td>0</td>\n",
       "      <td>...</td>\n",
       "      <td>0.0</td>\n",
       "      <td>0</td>\n",
       "      <td>1.0</td>\n",
       "      <td>0.0</td>\n",
       "      <td>1.0</td>\n",
       "      <td>0.0</td>\n",
       "      <td>0.0</td>\n",
       "      <td>0.0</td>\n",
       "      <td>0.0</td>\n",
       "      <td>1.0</td>\n",
       "    </tr>\n",
       "    <tr>\n",
       "      <th>2</th>\n",
       "      <td>3668-QPYBK</td>\n",
       "      <td>2019-10-01</td>\n",
       "      <td>2019-12-01 00:00:00</td>\n",
       "      <td>1</td>\n",
       "      <td>53.85</td>\n",
       "      <td>108.15</td>\n",
       "      <td>2019</td>\n",
       "      <td>0.0</td>\n",
       "      <td>10</td>\n",
       "      <td>0</td>\n",
       "      <td>...</td>\n",
       "      <td>0.0</td>\n",
       "      <td>1</td>\n",
       "      <td>0.0</td>\n",
       "      <td>0.0</td>\n",
       "      <td>1.0</td>\n",
       "      <td>0.0</td>\n",
       "      <td>0.0</td>\n",
       "      <td>0.0</td>\n",
       "      <td>0.0</td>\n",
       "      <td>1.0</td>\n",
       "    </tr>\n",
       "    <tr>\n",
       "      <th>3</th>\n",
       "      <td>7795-CFOCW</td>\n",
       "      <td>2016-05-01</td>\n",
       "      <td>No</td>\n",
       "      <td>0</td>\n",
       "      <td>42.30</td>\n",
       "      <td>1840.75</td>\n",
       "      <td>2016</td>\n",
       "      <td>0.0</td>\n",
       "      <td>5</td>\n",
       "      <td>0</td>\n",
       "      <td>...</td>\n",
       "      <td>Not Registered</td>\n",
       "      <td>0</td>\n",
       "      <td>1.0</td>\n",
       "      <td>0.0</td>\n",
       "      <td>1.0</td>\n",
       "      <td>0.0</td>\n",
       "      <td>0.0</td>\n",
       "      <td>0.0</td>\n",
       "      <td>0.0</td>\n",
       "      <td>0.0</td>\n",
       "    </tr>\n",
       "    <tr>\n",
       "      <th>4</th>\n",
       "      <td>9237-HQITU</td>\n",
       "      <td>2019-09-01</td>\n",
       "      <td>2019-11-01 00:00:00</td>\n",
       "      <td>1</td>\n",
       "      <td>70.70</td>\n",
       "      <td>151.65</td>\n",
       "      <td>2019</td>\n",
       "      <td>0.0</td>\n",
       "      <td>9</td>\n",
       "      <td>0</td>\n",
       "      <td>...</td>\n",
       "      <td>0.0</td>\n",
       "      <td>1</td>\n",
       "      <td>0.0</td>\n",
       "      <td>0.0</td>\n",
       "      <td>0.0</td>\n",
       "      <td>1.0</td>\n",
       "      <td>0.0</td>\n",
       "      <td>0.0</td>\n",
       "      <td>1.0</td>\n",
       "      <td>0.0</td>\n",
       "    </tr>\n",
       "    <tr>\n",
       "      <th>...</th>\n",
       "      <td>...</td>\n",
       "      <td>...</td>\n",
       "      <td>...</td>\n",
       "      <td>...</td>\n",
       "      <td>...</td>\n",
       "      <td>...</td>\n",
       "      <td>...</td>\n",
       "      <td>...</td>\n",
       "      <td>...</td>\n",
       "      <td>...</td>\n",
       "      <td>...</td>\n",
       "      <td>...</td>\n",
       "      <td>...</td>\n",
       "      <td>...</td>\n",
       "      <td>...</td>\n",
       "      <td>...</td>\n",
       "      <td>...</td>\n",
       "      <td>...</td>\n",
       "      <td>...</td>\n",
       "      <td>...</td>\n",
       "      <td>...</td>\n",
       "    </tr>\n",
       "    <tr>\n",
       "      <th>7038</th>\n",
       "      <td>6840-RESVB</td>\n",
       "      <td>2018-02-01</td>\n",
       "      <td>No</td>\n",
       "      <td>1</td>\n",
       "      <td>84.80</td>\n",
       "      <td>1990.50</td>\n",
       "      <td>2018</td>\n",
       "      <td>0.0</td>\n",
       "      <td>2</td>\n",
       "      <td>0</td>\n",
       "      <td>...</td>\n",
       "      <td>1.0</td>\n",
       "      <td>0</td>\n",
       "      <td>1.0</td>\n",
       "      <td>0.0</td>\n",
       "      <td>1.0</td>\n",
       "      <td>0.0</td>\n",
       "      <td>0.0</td>\n",
       "      <td>0.0</td>\n",
       "      <td>0.0</td>\n",
       "      <td>1.0</td>\n",
       "    </tr>\n",
       "    <tr>\n",
       "      <th>7039</th>\n",
       "      <td>2234-XADUH</td>\n",
       "      <td>2014-02-01</td>\n",
       "      <td>No</td>\n",
       "      <td>1</td>\n",
       "      <td>103.20</td>\n",
       "      <td>7362.90</td>\n",
       "      <td>2014</td>\n",
       "      <td>0.0</td>\n",
       "      <td>2</td>\n",
       "      <td>0</td>\n",
       "      <td>...</td>\n",
       "      <td>1.0</td>\n",
       "      <td>0</td>\n",
       "      <td>1.0</td>\n",
       "      <td>0.0</td>\n",
       "      <td>0.0</td>\n",
       "      <td>1.0</td>\n",
       "      <td>0.0</td>\n",
       "      <td>1.0</td>\n",
       "      <td>0.0</td>\n",
       "      <td>0.0</td>\n",
       "    </tr>\n",
       "    <tr>\n",
       "      <th>7040</th>\n",
       "      <td>4801-JZAZL</td>\n",
       "      <td>2019-03-01</td>\n",
       "      <td>No</td>\n",
       "      <td>1</td>\n",
       "      <td>29.60</td>\n",
       "      <td>346.45</td>\n",
       "      <td>2019</td>\n",
       "      <td>0.0</td>\n",
       "      <td>3</td>\n",
       "      <td>0</td>\n",
       "      <td>...</td>\n",
       "      <td>Not Registered</td>\n",
       "      <td>0</td>\n",
       "      <td>0.0</td>\n",
       "      <td>0.0</td>\n",
       "      <td>0.0</td>\n",
       "      <td>0.0</td>\n",
       "      <td>0.0</td>\n",
       "      <td>0.0</td>\n",
       "      <td>1.0</td>\n",
       "      <td>0.0</td>\n",
       "    </tr>\n",
       "    <tr>\n",
       "      <th>7041</th>\n",
       "      <td>8361-LTMKD</td>\n",
       "      <td>2019-07-01</td>\n",
       "      <td>2019-11-01 00:00:00</td>\n",
       "      <td>1</td>\n",
       "      <td>74.40</td>\n",
       "      <td>306.60</td>\n",
       "      <td>2019</td>\n",
       "      <td>0.0</td>\n",
       "      <td>7</td>\n",
       "      <td>1</td>\n",
       "      <td>...</td>\n",
       "      <td>1.0</td>\n",
       "      <td>1</td>\n",
       "      <td>0.0</td>\n",
       "      <td>0.0</td>\n",
       "      <td>1.0</td>\n",
       "      <td>1.0</td>\n",
       "      <td>0.0</td>\n",
       "      <td>0.0</td>\n",
       "      <td>0.0</td>\n",
       "      <td>1.0</td>\n",
       "    </tr>\n",
       "    <tr>\n",
       "      <th>7042</th>\n",
       "      <td>3186-AJIEK</td>\n",
       "      <td>2014-08-01</td>\n",
       "      <td>No</td>\n",
       "      <td>1</td>\n",
       "      <td>105.65</td>\n",
       "      <td>6844.50</td>\n",
       "      <td>2014</td>\n",
       "      <td>0.0</td>\n",
       "      <td>8</td>\n",
       "      <td>0</td>\n",
       "      <td>...</td>\n",
       "      <td>0.0</td>\n",
       "      <td>0</td>\n",
       "      <td>0.0</td>\n",
       "      <td>1.0</td>\n",
       "      <td>1.0</td>\n",
       "      <td>1.0</td>\n",
       "      <td>0.0</td>\n",
       "      <td>0.0</td>\n",
       "      <td>0.0</td>\n",
       "      <td>0.0</td>\n",
       "    </tr>\n",
       "  </tbody>\n",
       "</table>\n",
       "<p>7043 rows × 28 columns</p>\n",
       "</div>"
      ],
      "text/plain": [
       "     customer_id begin_date             end_date  paperless_billing  \\\n",
       "0     7590-VHVEG 2020-01-01                   No                  1   \n",
       "1     5575-GNVDE 2017-04-01                   No                  0   \n",
       "2     3668-QPYBK 2019-10-01  2019-12-01 00:00:00                  1   \n",
       "3     7795-CFOCW 2016-05-01                   No                  0   \n",
       "4     9237-HQITU 2019-09-01  2019-11-01 00:00:00                  1   \n",
       "...          ...        ...                  ...                ...   \n",
       "7038  6840-RESVB 2018-02-01                   No                  1   \n",
       "7039  2234-XADUH 2014-02-01                   No                  1   \n",
       "7040  4801-JZAZL 2019-03-01                   No                  1   \n",
       "7041  8361-LTMKD 2019-07-01  2019-11-01 00:00:00                  1   \n",
       "7042  3186-AJIEK 2014-08-01                   No                  1   \n",
       "\n",
       "      monthly_charges  total_charges  begin_year  years_with_plan  month  \\\n",
       "0               29.85          29.85        2020              0.0      1   \n",
       "1               56.95        1889.50        2017              0.0      4   \n",
       "2               53.85         108.15        2019              0.0     10   \n",
       "3               42.30        1840.75        2016              0.0      5   \n",
       "4               70.70         151.65        2019              0.0      9   \n",
       "...               ...            ...         ...              ...    ...   \n",
       "7038            84.80        1990.50        2018              0.0      2   \n",
       "7039           103.20        7362.90        2014              0.0      2   \n",
       "7040            29.60         346.45        2019              0.0      3   \n",
       "7041            74.40         306.60        2019              0.0      7   \n",
       "7042           105.65        6844.50        2014              0.0      8   \n",
       "\n",
       "      senior_citizen  ...  multiple_lines  left_plan type_One year  \\\n",
       "0                  0  ...  Not Registered          0           0.0   \n",
       "1                  0  ...             0.0          0           1.0   \n",
       "2                  0  ...             0.0          1           0.0   \n",
       "3                  0  ...  Not Registered          0           1.0   \n",
       "4                  0  ...             0.0          1           0.0   \n",
       "...              ...  ...             ...        ...           ...   \n",
       "7038               0  ...             1.0          0           1.0   \n",
       "7039               0  ...             1.0          0           1.0   \n",
       "7040               0  ...  Not Registered          0           0.0   \n",
       "7041               1  ...             1.0          1           0.0   \n",
       "7042               0  ...             0.0          0           0.0   \n",
       "\n",
       "     type_Two year gender_Male internet_service_Fiber optic  \\\n",
       "0              0.0         0.0                          0.0   \n",
       "1              0.0         1.0                          0.0   \n",
       "2              0.0         1.0                          0.0   \n",
       "3              0.0         1.0                          0.0   \n",
       "4              0.0         0.0                          1.0   \n",
       "...            ...         ...                          ...   \n",
       "7038           0.0         1.0                          0.0   \n",
       "7039           0.0         0.0                          1.0   \n",
       "7040           0.0         0.0                          0.0   \n",
       "7041           0.0         1.0                          1.0   \n",
       "7042           1.0         1.0                          1.0   \n",
       "\n",
       "     internet_service_Not Registered payment_method_Credit card (automatic)  \\\n",
       "0                                0.0                                    0.0   \n",
       "1                                0.0                                    0.0   \n",
       "2                                0.0                                    0.0   \n",
       "3                                0.0                                    0.0   \n",
       "4                                0.0                                    0.0   \n",
       "...                              ...                                    ...   \n",
       "7038                             0.0                                    0.0   \n",
       "7039                             0.0                                    1.0   \n",
       "7040                             0.0                                    0.0   \n",
       "7041                             0.0                                    0.0   \n",
       "7042                             0.0                                    0.0   \n",
       "\n",
       "     payment_method_Electronic check  payment_method_Mailed check  \n",
       "0                                1.0                          0.0  \n",
       "1                                0.0                          1.0  \n",
       "2                                0.0                          1.0  \n",
       "3                                0.0                          0.0  \n",
       "4                                1.0                          0.0  \n",
       "...                              ...                          ...  \n",
       "7038                             0.0                          1.0  \n",
       "7039                             0.0                          0.0  \n",
       "7040                             1.0                          0.0  \n",
       "7041                             0.0                          1.0  \n",
       "7042                             0.0                          0.0  \n",
       "\n",
       "[7043 rows x 28 columns]"
      ]
     },
     "execution_count": 88,
     "metadata": {},
     "output_type": "execute_result"
    }
   ],
   "source": [
    "# Aplicamos el OneHotEncoder\n",
    "# Seleccionamos las columnas categóricas que deseamos codificar\n",
    "columns_to_encode = ['type', 'gender', 'internet_service', 'payment_method']\n",
    "\n",
    "# Creamos una instancia de OneHotEncoder\n",
    "encoder = OneHotEncoder(sparse_output=False, drop='first')  # drop='first' para el dummy trap\n",
    "\n",
    "# Ajustamos el codificador a los datos de entrenamiento\n",
    "encoder.fit(merged_df[columns_to_encode])\n",
    "\n",
    "# Transformamos las columnas categóricas en codificación one-hot\n",
    "encoded_columns = encoder.transform(merged_df[columns_to_encode])\n",
    "\n",
    "# Obtenemos las categorías de las características codificadas\n",
    "encoded_categories = encoder.get_feature_names_out(input_features=columns_to_encode)\n",
    "\n",
    "# Convertimos las columnas codificadas en un DataFrame y asignamos nombres a las columnas\n",
    "encoded_df = pd.DataFrame(encoded_columns, columns=encoded_categories)\n",
    "\n",
    "# Combinamos el DataFrame codificado con el DataFrame original\n",
    "merged_df_encoded = pd.concat([merged_df, encoded_df], axis=1)\n",
    "\n",
    "# Eliminamos las columnas originales categóricas\n",
    "merged_df_encoded = merged_df_encoded.drop(columns=columns_to_encode)\n",
    "\n",
    "merged_df_encoded"
   ]
  },
  {
   "cell_type": "code",
   "execution_count": 89,
   "metadata": {},
   "outputs": [],
   "source": [
    "#Reemplazamos todos los 'Not Registered' con 2, tratandolos como un caso aparte\n",
    "merged_df_encoded.replace('Not Registered', 2, inplace=True)"
   ]
  },
  {
   "cell_type": "markdown",
   "metadata": {},
   "source": [
    "# Conclusiones de EDA\n",
    "\n",
    "Podemos sacar algunas conclusiones a traves de los graficos y visualizaciones de datos que hemos obtenido en esta parte de analisis exploratorio de datos. Podemos ver que al unir todos los datos de los clientes, pues hay ciertos que no tienen registro de ciertas actividades dando a indicar dos posibilidades: Pueden simplemente no tener el servicio contratado, o puede ser que no tengan el ofrecimiento del servicio. Sabiendo que nuestra compañia ofrece diferentes servicios, puede que estos no tengan conocimiento de este. Por esto creo que tratarlos como un caso separado es propio. \n",
    "\n",
    "Tambien a traves de los graficos podemos visualizar muchas cosas. Los gastos mensuales mas altos en que mes se realizaron, siendo los mejores meses Enero, Febrero, Marzo, Junio y Octubre. En cuanto a gastos totales versus cantidad de años con el plan, vemos que los clientes con mas años y los nuevos son los que mas gastan. Luego vimos los cargos mensuales a lo largo del tiempo por el estado de churn (si se ha ido o no), visualizando que los clientes que se han ido son los que mas han consumido, pudiendo ser que estos han tenido mas años y los que no se han ido son clientes nuevos, entre mas posibilidades. Luego vimos la cantidad de perdida de clientes por tipo de pago (mes a mes, año a año, o por dos años), viendo una diferencia exponencial entre cada clase siendo los clientes de mes a mes los que mas se van. Finalmente pudimos ver la tasa de perdida por mes y vimos que septiembre tiene una tasa de perdia mayor que el resto de meses.\n",
    "\n",
    "Finalmente, usamos la herramienta OneHotEncoder de sklearn.preprocessing que nos ayuda a convertir todas las respuestas categoricas expresadas en strings a numeros (int o float64). Luego aplicamos a los 'Not Registered' el reemplazo por una categoria separada, pues si lo haciamos antes el preprocesador OHE no iba a funcionar correctamente puesto a que solo trabaja con 'int' o 'str', no mixtos. Ahora podriamos usar los datos para poder seguir con nuestro implementamiento de modelos de machine learning, simplemente faltaria remover aquellas columnas extras o que no sirven para el analisis."
   ]
  },
  {
   "cell_type": "markdown",
   "metadata": {},
   "source": [
    "## Solucion de Codigo"
   ]
  },
  {
   "cell_type": "markdown",
   "metadata": {},
   "source": [
    "Ahora vamos a crear los sets de test, prueba y validacion. Vamos tambien a eliminar aquellas columnas con informacion que no nos sirva realmente, o columnas que el codificador usado (OneHotEncoder) nos haya ayudado a clasificar numericamente. Luego podremos usar distintos modelos de ML, como son bosques aleatorios, regresion logistica, gradient boosting (xgboost, catboost), KNN. \n",
    "\n",
    "Despues podremos ponerlos a prueba mediante diferentes medidas estadisticas y con metodos de validacion cruzada (cross validation). Finalmente nos quedaremos con el modelo que nos regrese mejores predicciones, por lo tanto, el que tenga un mejor puntaje con las medidas de estadistica usadas."
   ]
  },
  {
   "cell_type": "code",
   "execution_count": 90,
   "metadata": {},
   "outputs": [
    {
     "data": {
      "text/plain": [
       "Index(['customer_id', 'begin_date', 'end_date', 'paperless_billing',\n",
       "       'monthly_charges', 'total_charges', 'begin_year', 'years_with_plan',\n",
       "       'month', 'senior_citizen', 'partner', 'dependents', 'online_security',\n",
       "       'online_backup', 'device_protection', 'tech_support', 'streaming_tv',\n",
       "       'streaming_movies', 'multiple_lines', 'left_plan', 'type_One year',\n",
       "       'type_Two year', 'gender_Male', 'internet_service_Fiber optic',\n",
       "       'internet_service_Not Registered',\n",
       "       'payment_method_Credit card (automatic)',\n",
       "       'payment_method_Electronic check', 'payment_method_Mailed check'],\n",
       "      dtype='object')"
      ]
     },
     "execution_count": 90,
     "metadata": {},
     "output_type": "execute_result"
    }
   ],
   "source": [
    "#Veamos las columnas del dataframe\n",
    "merged_df_encoded.columns"
   ]
  },
  {
   "cell_type": "code",
   "execution_count": 91,
   "metadata": {},
   "outputs": [],
   "source": [
    "merged_df_encoded = merged_df_encoded.drop(columns=['customer_id', 'begin_date', 'end_date', 'begin_year', 'month'], axis=1)"
   ]
  },
  {
   "cell_type": "code",
   "execution_count": 92,
   "metadata": {},
   "outputs": [
    {
     "data": {
      "text/html": [
       "<div>\n",
       "<style scoped>\n",
       "    .dataframe tbody tr th:only-of-type {\n",
       "        vertical-align: middle;\n",
       "    }\n",
       "\n",
       "    .dataframe tbody tr th {\n",
       "        vertical-align: top;\n",
       "    }\n",
       "\n",
       "    .dataframe thead th {\n",
       "        text-align: right;\n",
       "    }\n",
       "</style>\n",
       "<table border=\"1\" class=\"dataframe\">\n",
       "  <thead>\n",
       "    <tr style=\"text-align: right;\">\n",
       "      <th></th>\n",
       "      <th>paperless_billing</th>\n",
       "      <th>monthly_charges</th>\n",
       "      <th>total_charges</th>\n",
       "      <th>years_with_plan</th>\n",
       "      <th>senior_citizen</th>\n",
       "      <th>partner</th>\n",
       "      <th>dependents</th>\n",
       "      <th>online_security</th>\n",
       "      <th>online_backup</th>\n",
       "      <th>device_protection</th>\n",
       "      <th>...</th>\n",
       "      <th>multiple_lines</th>\n",
       "      <th>left_plan</th>\n",
       "      <th>type_One year</th>\n",
       "      <th>type_Two year</th>\n",
       "      <th>gender_Male</th>\n",
       "      <th>internet_service_Fiber optic</th>\n",
       "      <th>internet_service_Not Registered</th>\n",
       "      <th>payment_method_Credit card (automatic)</th>\n",
       "      <th>payment_method_Electronic check</th>\n",
       "      <th>payment_method_Mailed check</th>\n",
       "    </tr>\n",
       "  </thead>\n",
       "  <tbody>\n",
       "    <tr>\n",
       "      <th>count</th>\n",
       "      <td>7043.000000</td>\n",
       "      <td>7043.000000</td>\n",
       "      <td>7043.000000</td>\n",
       "      <td>7043.000000</td>\n",
       "      <td>7043.000000</td>\n",
       "      <td>7043.000000</td>\n",
       "      <td>7043.000000</td>\n",
       "      <td>7043.000000</td>\n",
       "      <td>7043.000000</td>\n",
       "      <td>7043.000000</td>\n",
       "      <td>...</td>\n",
       "      <td>7043.000000</td>\n",
       "      <td>7043.000000</td>\n",
       "      <td>7043.000000</td>\n",
       "      <td>7043.000000</td>\n",
       "      <td>7043.000000</td>\n",
       "      <td>7043.000000</td>\n",
       "      <td>7043.000000</td>\n",
       "      <td>7043.000000</td>\n",
       "      <td>7043.000000</td>\n",
       "      <td>7043.000000</td>\n",
       "    </tr>\n",
       "    <tr>\n",
       "      <th>mean</th>\n",
       "      <td>0.592219</td>\n",
       "      <td>64.761692</td>\n",
       "      <td>2281.811700</td>\n",
       "      <td>0.374556</td>\n",
       "      <td>0.162147</td>\n",
       "      <td>0.483033</td>\n",
       "      <td>0.299588</td>\n",
       "      <td>0.720006</td>\n",
       "      <td>0.778220</td>\n",
       "      <td>0.777226</td>\n",
       "      <td>...</td>\n",
       "      <td>0.615505</td>\n",
       "      <td>0.265370</td>\n",
       "      <td>0.209144</td>\n",
       "      <td>0.240664</td>\n",
       "      <td>0.504756</td>\n",
       "      <td>0.439585</td>\n",
       "      <td>0.216669</td>\n",
       "      <td>0.216101</td>\n",
       "      <td>0.335794</td>\n",
       "      <td>0.228880</td>\n",
       "    </tr>\n",
       "    <tr>\n",
       "      <th>std</th>\n",
       "      <td>0.491457</td>\n",
       "      <td>30.090047</td>\n",
       "      <td>2265.313052</td>\n",
       "      <td>1.038312</td>\n",
       "      <td>0.368612</td>\n",
       "      <td>0.499748</td>\n",
       "      <td>0.458110</td>\n",
       "      <td>0.796885</td>\n",
       "      <td>0.778472</td>\n",
       "      <td>0.778826</td>\n",
       "      <td>...</td>\n",
       "      <td>0.656039</td>\n",
       "      <td>0.441561</td>\n",
       "      <td>0.406726</td>\n",
       "      <td>0.427517</td>\n",
       "      <td>0.500013</td>\n",
       "      <td>0.496372</td>\n",
       "      <td>0.412004</td>\n",
       "      <td>0.411613</td>\n",
       "      <td>0.472301</td>\n",
       "      <td>0.420141</td>\n",
       "    </tr>\n",
       "    <tr>\n",
       "      <th>min</th>\n",
       "      <td>0.000000</td>\n",
       "      <td>18.250000</td>\n",
       "      <td>18.800000</td>\n",
       "      <td>0.000000</td>\n",
       "      <td>0.000000</td>\n",
       "      <td>0.000000</td>\n",
       "      <td>0.000000</td>\n",
       "      <td>0.000000</td>\n",
       "      <td>0.000000</td>\n",
       "      <td>0.000000</td>\n",
       "      <td>...</td>\n",
       "      <td>0.000000</td>\n",
       "      <td>0.000000</td>\n",
       "      <td>0.000000</td>\n",
       "      <td>0.000000</td>\n",
       "      <td>0.000000</td>\n",
       "      <td>0.000000</td>\n",
       "      <td>0.000000</td>\n",
       "      <td>0.000000</td>\n",
       "      <td>0.000000</td>\n",
       "      <td>0.000000</td>\n",
       "    </tr>\n",
       "    <tr>\n",
       "      <th>25%</th>\n",
       "      <td>0.000000</td>\n",
       "      <td>35.500000</td>\n",
       "      <td>402.225000</td>\n",
       "      <td>0.000000</td>\n",
       "      <td>0.000000</td>\n",
       "      <td>0.000000</td>\n",
       "      <td>0.000000</td>\n",
       "      <td>0.000000</td>\n",
       "      <td>0.000000</td>\n",
       "      <td>0.000000</td>\n",
       "      <td>...</td>\n",
       "      <td>0.000000</td>\n",
       "      <td>0.000000</td>\n",
       "      <td>0.000000</td>\n",
       "      <td>0.000000</td>\n",
       "      <td>0.000000</td>\n",
       "      <td>0.000000</td>\n",
       "      <td>0.000000</td>\n",
       "      <td>0.000000</td>\n",
       "      <td>0.000000</td>\n",
       "      <td>0.000000</td>\n",
       "    </tr>\n",
       "    <tr>\n",
       "      <th>50%</th>\n",
       "      <td>1.000000</td>\n",
       "      <td>70.350000</td>\n",
       "      <td>1394.550000</td>\n",
       "      <td>0.000000</td>\n",
       "      <td>0.000000</td>\n",
       "      <td>0.000000</td>\n",
       "      <td>0.000000</td>\n",
       "      <td>1.000000</td>\n",
       "      <td>1.000000</td>\n",
       "      <td>1.000000</td>\n",
       "      <td>...</td>\n",
       "      <td>1.000000</td>\n",
       "      <td>0.000000</td>\n",
       "      <td>0.000000</td>\n",
       "      <td>0.000000</td>\n",
       "      <td>1.000000</td>\n",
       "      <td>0.000000</td>\n",
       "      <td>0.000000</td>\n",
       "      <td>0.000000</td>\n",
       "      <td>0.000000</td>\n",
       "      <td>0.000000</td>\n",
       "    </tr>\n",
       "    <tr>\n",
       "      <th>75%</th>\n",
       "      <td>1.000000</td>\n",
       "      <td>89.850000</td>\n",
       "      <td>3786.600000</td>\n",
       "      <td>0.000000</td>\n",
       "      <td>0.000000</td>\n",
       "      <td>1.000000</td>\n",
       "      <td>1.000000</td>\n",
       "      <td>1.000000</td>\n",
       "      <td>1.000000</td>\n",
       "      <td>1.000000</td>\n",
       "      <td>...</td>\n",
       "      <td>1.000000</td>\n",
       "      <td>1.000000</td>\n",
       "      <td>0.000000</td>\n",
       "      <td>0.000000</td>\n",
       "      <td>1.000000</td>\n",
       "      <td>1.000000</td>\n",
       "      <td>0.000000</td>\n",
       "      <td>0.000000</td>\n",
       "      <td>1.000000</td>\n",
       "      <td>0.000000</td>\n",
       "    </tr>\n",
       "    <tr>\n",
       "      <th>max</th>\n",
       "      <td>1.000000</td>\n",
       "      <td>118.750000</td>\n",
       "      <td>8684.800000</td>\n",
       "      <td>6.000000</td>\n",
       "      <td>1.000000</td>\n",
       "      <td>1.000000</td>\n",
       "      <td>1.000000</td>\n",
       "      <td>2.000000</td>\n",
       "      <td>2.000000</td>\n",
       "      <td>2.000000</td>\n",
       "      <td>...</td>\n",
       "      <td>2.000000</td>\n",
       "      <td>1.000000</td>\n",
       "      <td>1.000000</td>\n",
       "      <td>1.000000</td>\n",
       "      <td>1.000000</td>\n",
       "      <td>1.000000</td>\n",
       "      <td>1.000000</td>\n",
       "      <td>1.000000</td>\n",
       "      <td>1.000000</td>\n",
       "      <td>1.000000</td>\n",
       "    </tr>\n",
       "  </tbody>\n",
       "</table>\n",
       "<p>8 rows × 23 columns</p>\n",
       "</div>"
      ],
      "text/plain": [
       "       paperless_billing  monthly_charges  total_charges  years_with_plan  \\\n",
       "count        7043.000000      7043.000000    7043.000000      7043.000000   \n",
       "mean            0.592219        64.761692    2281.811700         0.374556   \n",
       "std             0.491457        30.090047    2265.313052         1.038312   \n",
       "min             0.000000        18.250000      18.800000         0.000000   \n",
       "25%             0.000000        35.500000     402.225000         0.000000   \n",
       "50%             1.000000        70.350000    1394.550000         0.000000   \n",
       "75%             1.000000        89.850000    3786.600000         0.000000   \n",
       "max             1.000000       118.750000    8684.800000         6.000000   \n",
       "\n",
       "       senior_citizen      partner   dependents  online_security  \\\n",
       "count     7043.000000  7043.000000  7043.000000      7043.000000   \n",
       "mean         0.162147     0.483033     0.299588         0.720006   \n",
       "std          0.368612     0.499748     0.458110         0.796885   \n",
       "min          0.000000     0.000000     0.000000         0.000000   \n",
       "25%          0.000000     0.000000     0.000000         0.000000   \n",
       "50%          0.000000     0.000000     0.000000         1.000000   \n",
       "75%          0.000000     1.000000     1.000000         1.000000   \n",
       "max          1.000000     1.000000     1.000000         2.000000   \n",
       "\n",
       "       online_backup  device_protection  ...  multiple_lines    left_plan  \\\n",
       "count    7043.000000        7043.000000  ...     7043.000000  7043.000000   \n",
       "mean        0.778220           0.777226  ...        0.615505     0.265370   \n",
       "std         0.778472           0.778826  ...        0.656039     0.441561   \n",
       "min         0.000000           0.000000  ...        0.000000     0.000000   \n",
       "25%         0.000000           0.000000  ...        0.000000     0.000000   \n",
       "50%         1.000000           1.000000  ...        1.000000     0.000000   \n",
       "75%         1.000000           1.000000  ...        1.000000     1.000000   \n",
       "max         2.000000           2.000000  ...        2.000000     1.000000   \n",
       "\n",
       "       type_One year  type_Two year  gender_Male  \\\n",
       "count    7043.000000    7043.000000  7043.000000   \n",
       "mean        0.209144       0.240664     0.504756   \n",
       "std         0.406726       0.427517     0.500013   \n",
       "min         0.000000       0.000000     0.000000   \n",
       "25%         0.000000       0.000000     0.000000   \n",
       "50%         0.000000       0.000000     1.000000   \n",
       "75%         0.000000       0.000000     1.000000   \n",
       "max         1.000000       1.000000     1.000000   \n",
       "\n",
       "       internet_service_Fiber optic  internet_service_Not Registered  \\\n",
       "count                   7043.000000                      7043.000000   \n",
       "mean                       0.439585                         0.216669   \n",
       "std                        0.496372                         0.412004   \n",
       "min                        0.000000                         0.000000   \n",
       "25%                        0.000000                         0.000000   \n",
       "50%                        0.000000                         0.000000   \n",
       "75%                        1.000000                         0.000000   \n",
       "max                        1.000000                         1.000000   \n",
       "\n",
       "       payment_method_Credit card (automatic)  \\\n",
       "count                             7043.000000   \n",
       "mean                                 0.216101   \n",
       "std                                  0.411613   \n",
       "min                                  0.000000   \n",
       "25%                                  0.000000   \n",
       "50%                                  0.000000   \n",
       "75%                                  0.000000   \n",
       "max                                  1.000000   \n",
       "\n",
       "       payment_method_Electronic check  payment_method_Mailed check  \n",
       "count                      7043.000000                  7043.000000  \n",
       "mean                          0.335794                     0.228880  \n",
       "std                           0.472301                     0.420141  \n",
       "min                           0.000000                     0.000000  \n",
       "25%                           0.000000                     0.000000  \n",
       "50%                           0.000000                     0.000000  \n",
       "75%                           1.000000                     0.000000  \n",
       "max                           1.000000                     1.000000  \n",
       "\n",
       "[8 rows x 23 columns]"
      ]
     },
     "execution_count": 92,
     "metadata": {},
     "output_type": "execute_result"
    }
   ],
   "source": [
    "merged_df_encoded.describe()"
   ]
  },
  {
   "cell_type": "code",
   "execution_count": 93,
   "metadata": {},
   "outputs": [
    {
     "data": {
      "text/html": [
       "<div>\n",
       "<style scoped>\n",
       "    .dataframe tbody tr th:only-of-type {\n",
       "        vertical-align: middle;\n",
       "    }\n",
       "\n",
       "    .dataframe tbody tr th {\n",
       "        vertical-align: top;\n",
       "    }\n",
       "\n",
       "    .dataframe thead th {\n",
       "        text-align: right;\n",
       "    }\n",
       "</style>\n",
       "<table border=\"1\" class=\"dataframe\">\n",
       "  <thead>\n",
       "    <tr style=\"text-align: right;\">\n",
       "      <th></th>\n",
       "      <th>paperless_billing</th>\n",
       "      <th>monthly_charges</th>\n",
       "      <th>total_charges</th>\n",
       "      <th>years_with_plan</th>\n",
       "      <th>senior_citizen</th>\n",
       "      <th>partner</th>\n",
       "      <th>dependents</th>\n",
       "      <th>online_security</th>\n",
       "      <th>online_backup</th>\n",
       "      <th>device_protection</th>\n",
       "      <th>...</th>\n",
       "      <th>multiple_lines</th>\n",
       "      <th>left_plan</th>\n",
       "      <th>type_One year</th>\n",
       "      <th>type_Two year</th>\n",
       "      <th>gender_Male</th>\n",
       "      <th>internet_service_Fiber optic</th>\n",
       "      <th>internet_service_Not Registered</th>\n",
       "      <th>payment_method_Credit card (automatic)</th>\n",
       "      <th>payment_method_Electronic check</th>\n",
       "      <th>payment_method_Mailed check</th>\n",
       "    </tr>\n",
       "  </thead>\n",
       "  <tbody>\n",
       "    <tr>\n",
       "      <th>12</th>\n",
       "      <td>0</td>\n",
       "      <td>100.35</td>\n",
       "      <td>5681.10</td>\n",
       "      <td>0.0</td>\n",
       "      <td>0</td>\n",
       "      <td>1</td>\n",
       "      <td>0</td>\n",
       "      <td>0.0</td>\n",
       "      <td>0.0</td>\n",
       "      <td>1.0</td>\n",
       "      <td>...</td>\n",
       "      <td>1.0</td>\n",
       "      <td>0</td>\n",
       "      <td>1.0</td>\n",
       "      <td>0.0</td>\n",
       "      <td>1.0</td>\n",
       "      <td>1.0</td>\n",
       "      <td>0.0</td>\n",
       "      <td>1.0</td>\n",
       "      <td>0.0</td>\n",
       "      <td>0.0</td>\n",
       "    </tr>\n",
       "    <tr>\n",
       "      <th>13</th>\n",
       "      <td>1</td>\n",
       "      <td>103.70</td>\n",
       "      <td>5036.30</td>\n",
       "      <td>4.0</td>\n",
       "      <td>0</td>\n",
       "      <td>0</td>\n",
       "      <td>0</td>\n",
       "      <td>0.0</td>\n",
       "      <td>1.0</td>\n",
       "      <td>1.0</td>\n",
       "      <td>...</td>\n",
       "      <td>1.0</td>\n",
       "      <td>1</td>\n",
       "      <td>0.0</td>\n",
       "      <td>0.0</td>\n",
       "      <td>1.0</td>\n",
       "      <td>1.0</td>\n",
       "      <td>0.0</td>\n",
       "      <td>0.0</td>\n",
       "      <td>0.0</td>\n",
       "      <td>0.0</td>\n",
       "    </tr>\n",
       "    <tr>\n",
       "      <th>15</th>\n",
       "      <td>0</td>\n",
       "      <td>113.25</td>\n",
       "      <td>7895.15</td>\n",
       "      <td>0.0</td>\n",
       "      <td>0</td>\n",
       "      <td>1</td>\n",
       "      <td>1</td>\n",
       "      <td>1.0</td>\n",
       "      <td>1.0</td>\n",
       "      <td>1.0</td>\n",
       "      <td>...</td>\n",
       "      <td>1.0</td>\n",
       "      <td>0</td>\n",
       "      <td>0.0</td>\n",
       "      <td>1.0</td>\n",
       "      <td>0.0</td>\n",
       "      <td>1.0</td>\n",
       "      <td>0.0</td>\n",
       "      <td>1.0</td>\n",
       "      <td>0.0</td>\n",
       "      <td>0.0</td>\n",
       "    </tr>\n",
       "    <tr>\n",
       "      <th>17</th>\n",
       "      <td>0</td>\n",
       "      <td>106.70</td>\n",
       "      <td>7382.25</td>\n",
       "      <td>0.0</td>\n",
       "      <td>0</td>\n",
       "      <td>0</td>\n",
       "      <td>1</td>\n",
       "      <td>1.0</td>\n",
       "      <td>0.0</td>\n",
       "      <td>1.0</td>\n",
       "      <td>...</td>\n",
       "      <td>1.0</td>\n",
       "      <td>0</td>\n",
       "      <td>0.0</td>\n",
       "      <td>1.0</td>\n",
       "      <td>1.0</td>\n",
       "      <td>1.0</td>\n",
       "      <td>0.0</td>\n",
       "      <td>0.0</td>\n",
       "      <td>0.0</td>\n",
       "      <td>0.0</td>\n",
       "    </tr>\n",
       "    <tr>\n",
       "      <th>26</th>\n",
       "      <td>1</td>\n",
       "      <td>99.35</td>\n",
       "      <td>4749.15</td>\n",
       "      <td>4.0</td>\n",
       "      <td>0</td>\n",
       "      <td>1</td>\n",
       "      <td>1</td>\n",
       "      <td>0.0</td>\n",
       "      <td>1.0</td>\n",
       "      <td>0.0</td>\n",
       "      <td>...</td>\n",
       "      <td>1.0</td>\n",
       "      <td>1</td>\n",
       "      <td>0.0</td>\n",
       "      <td>0.0</td>\n",
       "      <td>1.0</td>\n",
       "      <td>1.0</td>\n",
       "      <td>0.0</td>\n",
       "      <td>0.0</td>\n",
       "      <td>1.0</td>\n",
       "      <td>0.0</td>\n",
       "    </tr>\n",
       "    <tr>\n",
       "      <th>...</th>\n",
       "      <td>...</td>\n",
       "      <td>...</td>\n",
       "      <td>...</td>\n",
       "      <td>...</td>\n",
       "      <td>...</td>\n",
       "      <td>...</td>\n",
       "      <td>...</td>\n",
       "      <td>...</td>\n",
       "      <td>...</td>\n",
       "      <td>...</td>\n",
       "      <td>...</td>\n",
       "      <td>...</td>\n",
       "      <td>...</td>\n",
       "      <td>...</td>\n",
       "      <td>...</td>\n",
       "      <td>...</td>\n",
       "      <td>...</td>\n",
       "      <td>...</td>\n",
       "      <td>...</td>\n",
       "      <td>...</td>\n",
       "      <td>...</td>\n",
       "    </tr>\n",
       "    <tr>\n",
       "      <th>7023</th>\n",
       "      <td>1</td>\n",
       "      <td>103.50</td>\n",
       "      <td>6479.40</td>\n",
       "      <td>0.0</td>\n",
       "      <td>1</td>\n",
       "      <td>1</td>\n",
       "      <td>0</td>\n",
       "      <td>0.0</td>\n",
       "      <td>1.0</td>\n",
       "      <td>1.0</td>\n",
       "      <td>...</td>\n",
       "      <td>1.0</td>\n",
       "      <td>0</td>\n",
       "      <td>0.0</td>\n",
       "      <td>0.0</td>\n",
       "      <td>0.0</td>\n",
       "      <td>1.0</td>\n",
       "      <td>0.0</td>\n",
       "      <td>0.0</td>\n",
       "      <td>1.0</td>\n",
       "      <td>0.0</td>\n",
       "    </tr>\n",
       "    <tr>\n",
       "      <th>7028</th>\n",
       "      <td>0</td>\n",
       "      <td>64.10</td>\n",
       "      <td>4326.25</td>\n",
       "      <td>0.0</td>\n",
       "      <td>0</td>\n",
       "      <td>1</td>\n",
       "      <td>0</td>\n",
       "      <td>0.0</td>\n",
       "      <td>1.0</td>\n",
       "      <td>0.0</td>\n",
       "      <td>...</td>\n",
       "      <td>0.0</td>\n",
       "      <td>0</td>\n",
       "      <td>0.0</td>\n",
       "      <td>1.0</td>\n",
       "      <td>0.0</td>\n",
       "      <td>0.0</td>\n",
       "      <td>0.0</td>\n",
       "      <td>0.0</td>\n",
       "      <td>0.0</td>\n",
       "      <td>0.0</td>\n",
       "    </tr>\n",
       "    <tr>\n",
       "      <th>7034</th>\n",
       "      <td>1</td>\n",
       "      <td>102.95</td>\n",
       "      <td>6886.25</td>\n",
       "      <td>5.0</td>\n",
       "      <td>0</td>\n",
       "      <td>0</td>\n",
       "      <td>0</td>\n",
       "      <td>1.0</td>\n",
       "      <td>1.0</td>\n",
       "      <td>1.0</td>\n",
       "      <td>...</td>\n",
       "      <td>1.0</td>\n",
       "      <td>1</td>\n",
       "      <td>0.0</td>\n",
       "      <td>0.0</td>\n",
       "      <td>0.0</td>\n",
       "      <td>1.0</td>\n",
       "      <td>0.0</td>\n",
       "      <td>1.0</td>\n",
       "      <td>0.0</td>\n",
       "      <td>0.0</td>\n",
       "    </tr>\n",
       "    <tr>\n",
       "      <th>7039</th>\n",
       "      <td>1</td>\n",
       "      <td>103.20</td>\n",
       "      <td>7362.90</td>\n",
       "      <td>0.0</td>\n",
       "      <td>0</td>\n",
       "      <td>1</td>\n",
       "      <td>1</td>\n",
       "      <td>0.0</td>\n",
       "      <td>1.0</td>\n",
       "      <td>1.0</td>\n",
       "      <td>...</td>\n",
       "      <td>1.0</td>\n",
       "      <td>0</td>\n",
       "      <td>1.0</td>\n",
       "      <td>0.0</td>\n",
       "      <td>0.0</td>\n",
       "      <td>1.0</td>\n",
       "      <td>0.0</td>\n",
       "      <td>1.0</td>\n",
       "      <td>0.0</td>\n",
       "      <td>0.0</td>\n",
       "    </tr>\n",
       "    <tr>\n",
       "      <th>7042</th>\n",
       "      <td>1</td>\n",
       "      <td>105.65</td>\n",
       "      <td>6844.50</td>\n",
       "      <td>0.0</td>\n",
       "      <td>0</td>\n",
       "      <td>0</td>\n",
       "      <td>0</td>\n",
       "      <td>1.0</td>\n",
       "      <td>0.0</td>\n",
       "      <td>1.0</td>\n",
       "      <td>...</td>\n",
       "      <td>0.0</td>\n",
       "      <td>0</td>\n",
       "      <td>0.0</td>\n",
       "      <td>1.0</td>\n",
       "      <td>1.0</td>\n",
       "      <td>1.0</td>\n",
       "      <td>0.0</td>\n",
       "      <td>0.0</td>\n",
       "      <td>0.0</td>\n",
       "      <td>0.0</td>\n",
       "    </tr>\n",
       "  </tbody>\n",
       "</table>\n",
       "<p>1761 rows × 23 columns</p>\n",
       "</div>"
      ],
      "text/plain": [
       "      paperless_billing  monthly_charges  total_charges  years_with_plan  \\\n",
       "12                    0           100.35        5681.10              0.0   \n",
       "13                    1           103.70        5036.30              4.0   \n",
       "15                    0           113.25        7895.15              0.0   \n",
       "17                    0           106.70        7382.25              0.0   \n",
       "26                    1            99.35        4749.15              4.0   \n",
       "...                 ...              ...            ...              ...   \n",
       "7023                  1           103.50        6479.40              0.0   \n",
       "7028                  0            64.10        4326.25              0.0   \n",
       "7034                  1           102.95        6886.25              5.0   \n",
       "7039                  1           103.20        7362.90              0.0   \n",
       "7042                  1           105.65        6844.50              0.0   \n",
       "\n",
       "      senior_citizen  partner  dependents  online_security  online_backup  \\\n",
       "12                 0        1           0              0.0            0.0   \n",
       "13                 0        0           0              0.0            1.0   \n",
       "15                 0        1           1              1.0            1.0   \n",
       "17                 0        0           1              1.0            0.0   \n",
       "26                 0        1           1              0.0            1.0   \n",
       "...              ...      ...         ...              ...            ...   \n",
       "7023               1        1           0              0.0            1.0   \n",
       "7028               0        1           0              0.0            1.0   \n",
       "7034               0        0           0              1.0            1.0   \n",
       "7039               0        1           1              0.0            1.0   \n",
       "7042               0        0           0              1.0            0.0   \n",
       "\n",
       "      device_protection  ...  multiple_lines  left_plan  type_One year  \\\n",
       "12                  1.0  ...             1.0          0            1.0   \n",
       "13                  1.0  ...             1.0          1            0.0   \n",
       "15                  1.0  ...             1.0          0            0.0   \n",
       "17                  1.0  ...             1.0          0            0.0   \n",
       "26                  0.0  ...             1.0          1            0.0   \n",
       "...                 ...  ...             ...        ...            ...   \n",
       "7023                1.0  ...             1.0          0            0.0   \n",
       "7028                0.0  ...             0.0          0            0.0   \n",
       "7034                1.0  ...             1.0          1            0.0   \n",
       "7039                1.0  ...             1.0          0            1.0   \n",
       "7042                1.0  ...             0.0          0            0.0   \n",
       "\n",
       "      type_Two year  gender_Male  internet_service_Fiber optic  \\\n",
       "12              0.0          1.0                           1.0   \n",
       "13              0.0          1.0                           1.0   \n",
       "15              1.0          0.0                           1.0   \n",
       "17              1.0          1.0                           1.0   \n",
       "26              0.0          1.0                           1.0   \n",
       "...             ...          ...                           ...   \n",
       "7023            0.0          0.0                           1.0   \n",
       "7028            1.0          0.0                           0.0   \n",
       "7034            0.0          0.0                           1.0   \n",
       "7039            0.0          0.0                           1.0   \n",
       "7042            1.0          1.0                           1.0   \n",
       "\n",
       "      internet_service_Not Registered  payment_method_Credit card (automatic)  \\\n",
       "12                                0.0                                     1.0   \n",
       "13                                0.0                                     0.0   \n",
       "15                                0.0                                     1.0   \n",
       "17                                0.0                                     0.0   \n",
       "26                                0.0                                     0.0   \n",
       "...                               ...                                     ...   \n",
       "7023                              0.0                                     0.0   \n",
       "7028                              0.0                                     0.0   \n",
       "7034                              0.0                                     1.0   \n",
       "7039                              0.0                                     1.0   \n",
       "7042                              0.0                                     0.0   \n",
       "\n",
       "      payment_method_Electronic check  payment_method_Mailed check  \n",
       "12                                0.0                          0.0  \n",
       "13                                0.0                          0.0  \n",
       "15                                0.0                          0.0  \n",
       "17                                0.0                          0.0  \n",
       "26                                1.0                          0.0  \n",
       "...                               ...                          ...  \n",
       "7023                              1.0                          0.0  \n",
       "7028                              0.0                          0.0  \n",
       "7034                              0.0                          0.0  \n",
       "7039                              0.0                          0.0  \n",
       "7042                              0.0                          0.0  \n",
       "\n",
       "[1761 rows x 23 columns]"
      ]
     },
     "execution_count": 93,
     "metadata": {},
     "output_type": "execute_result"
    }
   ],
   "source": [
    "#Veamos cuantos superan el tercer cuartil (75%)\n",
    "merged_df_encoded.query('total_charges > 3786.6')"
   ]
  },
  {
   "cell_type": "markdown",
   "metadata": {},
   "source": [
    "### Creacion de conjuntos de entrenamiento, prueba y validacion"
   ]
  },
  {
   "cell_type": "markdown",
   "metadata": {},
   "source": [
    "### Escalar datos"
   ]
  },
  {
   "cell_type": "code",
   "execution_count": 94,
   "metadata": {
    "tags": []
   },
   "outputs": [
    {
     "name": "stdout",
     "output_type": "stream",
     "text": [
      "Tamaño del conjunto de entrenamiento: 5282\n",
      "Tamaño del conjunto de validación: 880\n",
      "Tamaño del conjunto de prueba: 881\n"
     ]
    }
   ],
   "source": [
    "#Define las características (X) y la variable objetivo (y)\n",
    "X = merged_df_encoded.drop('left_plan', axis=1)  # Reemplaza 'nombre_columna_objetivo' con el nombre real de tu variable objetivo\n",
    "y = merged_df_encoded['left_plan']\n",
    "\n",
    "#Divide los datos en conjuntos de entrenamiento, validación y prueba\n",
    "X_train, X_temp, y_train, y_temp = train_test_split(X, y, test_size=0.25, random_state=42)  # Ajusta test_size según sea necesario\n",
    "\n",
    "#Divide los datos restantes en conjuntos de validación y prueba\n",
    "X_valid, X_test, y_valid, y_test = train_test_split(X_temp, y_temp, test_size=0.5, random_state=42)\n",
    "\n",
    "#Imprime los tamaños de los conjuntos resultantes\n",
    "print(\"Tamaño del conjunto de entrenamiento:\", X_train.shape[0])\n",
    "print(\"Tamaño del conjunto de validación:\", X_valid.shape[0])\n",
    "print(\"Tamaño del conjunto de prueba:\", X_test.shape[0])"
   ]
  },
  {
   "cell_type": "code",
   "execution_count": 132,
   "metadata": {
    "tags": []
   },
   "outputs": [],
   "source": [
    "#Undersampling\n",
    "#Encontramos el índice de muestras negativas\n",
    "negative_samples_index_undersampled = y_train[y_train == 0].index\n",
    "\n",
    "#Muestreamos aleatoriamente la misma cantidad de muestras positivas \n",
    "positive_samples_index_undersampled = resample(y_train[y_train == 1].index, n_samples=len(negative_samples_index_undersampled), random_state=12345)\n",
    "\n",
    "#Combinamos los índices de muestras negativas y positivas\n",
    "undersampled_index = negative_samples_index_undersampled.union(positive_samples_index_undersampled)\n",
    "\n",
    "#Encontramos el índice de muestras negativas en el conjunto de prueba\n",
    "negative_samples_index_test_undersampled = y_test[y_test == 0].index\n",
    "\n",
    "#Muestreamos aleatoriamente la misma cantidad de muestras positivas en el conjunto de prueba\n",
    "positive_samples_index_test_undersampled = resample(y_test[y_test == 1].index, n_samples=len(negative_samples_index_test_undersampled), random_state=12345)\n",
    "\n",
    "#Combinamos los índices de muestras negativas y positivas en el conjunto de prueba\n",
    "undersampled_index_test = negative_samples_index_test_undersampled.union(positive_samples_index_test_undersampled)\n",
    "\n",
    "#Subconjunto de prueba con submuestreo\n",
    "X_test_undersampled = X_test.loc[undersampled_index_test]\n",
    "y_test_undersampled = y_test.loc[undersampled_index_test]\n",
    "\n",
    "#Encontramos el índice de muestras negativas en el conjunto de validación\n",
    "negative_samples_index_valid_undersampled = y_valid[y_valid == 0].index\n",
    "\n",
    "#Muestreamos aleatoriamente la misma cantidad de muestras positivas en el conjunto de validación\n",
    "positive_samples_index_valid_undersampled = resample(y_valid[y_valid == 1].index, n_samples=len(negative_samples_index_valid_undersampled), random_state=12345)\n",
    "\n",
    "#Combinamos los índices de muestras negativas y positivas en el conjunto de validación\n",
    "undersampled_index_valid = negative_samples_index_valid_undersampled.union(positive_samples_index_valid_undersampled)\n",
    "\n",
    "#Subconjunto de validación con submuestreo\n",
    "X_valid_undersampled = X_valid.loc[undersampled_index_valid]\n",
    "y_valid_undersampled = y_valid.loc[undersampled_index_valid]\n",
    "\n",
    "#Asegúrate de que las columnas a escalar se seleccionen antes de inicializar el objeto StandardScaler\n",
    "#Seleccionamos las columnas que deseamos escalar \n",
    "columns_to_scale = ['total_charges', 'monthly_charges']\n",
    "\n",
    "#Inicializamos el objeto StandardScaler\n",
    "scaler = StandardScaler()\n",
    "\n",
    "#Aplicamos el escalado a las columnas seleccionadas en el conjunto de prueba con submuestreo\n",
    "X_test_undersampled = scaler.fit_transform(X_test_undersampled[columns_to_scale])\n",
    "\n",
    "#Subconjunto de entrenamiento con undersampling\n",
    "X_train_undersampled = X_train.loc[undersampled_index]\n",
    "y_train_undersampled = y_train.loc[undersampled_index]\n",
    "\n",
    "#Aplicamos el escalado a las columnas seleccionadas y creamos nuevos conjuntos de datos escalados\n",
    "X_train_scaled = scaler.fit_transform(X_train[columns_to_scale])\n",
    "X_train_undersampled = scaler.fit_transform(X_train_undersampled[columns_to_scale])\n",
    "X_test_scaled = scaler.transform(X_test[columns_to_scale])\n",
    "X_valid_scaled = scaler.transform(X_valid[columns_to_scale])\n",
    "X_valid_undersampled = scaler.fit_transform(X_valid_undersampled[columns_to_scale])"
   ]
  },
  {
   "cell_type": "markdown",
   "metadata": {},
   "source": [
    "<div class=\"alert alert-block alert-info\">\n",
    "<b>Respuesta del estudiante</b> Hecho! <a class=\"tocSkip\"></a>\n",
    "</div>"
   ]
  },
  {
   "cell_type": "markdown",
   "metadata": {},
   "source": [
    "### Modelo Dummy"
   ]
  },
  {
   "cell_type": "code",
   "execution_count": 104,
   "metadata": {
    "tags": []
   },
   "outputs": [
    {
     "name": "stdout",
     "output_type": "stream",
     "text": [
      "Métrica F1 en el Conjunto de Prueba (Dummy): 0.0\n",
      "Métrica F1 en el Conjunto de Validación (Dummy): 0.0\n"
     ]
    }
   ],
   "source": [
    "#Crear un modelo DummyClassifier\n",
    "dummy_model = DummyClassifier(strategy=\"most_frequent\") \n",
    "\n",
    "#Entrenar el modelo Dummy con los datos de entrenamiento\n",
    "dummy_model.fit(X_train_scaled, y_train)\n",
    "\n",
    "#Predecir en los conjuntos de prueba y validación\n",
    "y_pred_test_dummy = dummy_model.predict(X_test_scaled)\n",
    "y_pred_valid_dummy = dummy_model.predict(X_valid_scaled)\n",
    "\n",
    "#Calcular la métrica F1 en los conjuntos de prueba y validación\n",
    "f1_score_test = f1_score(y_test, y_pred_test_dummy)\n",
    "f1_score_valid = f1_score(y_valid, y_pred_valid_dummy)\n",
    "\n",
    "#Imprimir los resultados\n",
    "print(\"Métrica F1 en el Conjunto de Prueba (Dummy):\", f1_score_test)\n",
    "print(\"Métrica F1 en el Conjunto de Validación (Dummy):\", f1_score_valid)"
   ]
  },
  {
   "cell_type": "code",
   "execution_count": 121,
   "metadata": {
    "tags": []
   },
   "outputs": [
    {
     "name": "stdout",
     "output_type": "stream",
     "text": [
      "Métrica F1 en el Conjunto de Prueba (Dummy, Balanceado): 0.0\n",
      "Métrica F1 en el Conjunto de Validación (Dummy, Balanceado): 0.0\n"
     ]
    }
   ],
   "source": [
    "#Crear un modelo DummyClassifier\n",
    "dummy_model_undersampled = DummyClassifier(strategy=\"most_frequent\")\n",
    "\n",
    "#Entrenar el modelo Dummy con los datos de entrenamiento balanceados\n",
    "dummy_model_undersampled.fit(X_train_undersampled, y_train_undersampled)\n",
    "\n",
    "#Predecir en los conjuntos de prueba y validación balanceados\n",
    "y_pred_test_dummy_undersampled = dummy_model_undersampled.predict(X_test_undersampled)\n",
    "y_pred_valid_dummy_undersampled = dummy_model_undersampled.predict(X_valid_undersampled)\n",
    "\n",
    "#Calcular la métrica F1 en los conjuntos de prueba y validación balanceados\n",
    "f1_score_test_undersampled = f1_score(y_test_undersampled, y_pred_test_dummy_undersampled)\n",
    "f1_score_valid_undersampled = f1_score(y_valid_undersampled, y_pred_valid_dummy_undersampled)\n",
    "\n",
    "#Imprimir los resultados\n",
    "print(\"Métrica F1 en el Conjunto de Prueba (Dummy, Balanceado):\", f1_score_test_undersampled)\n",
    "print(\"Métrica F1 en el Conjunto de Validación (Dummy, Balanceado):\", f1_score_valid_undersampled)"
   ]
  },
  {
   "cell_type": "markdown",
   "metadata": {},
   "source": [
    "### Regresion Logistica"
   ]
  },
  {
   "cell_type": "code",
   "execution_count": 122,
   "metadata": {
    "tags": []
   },
   "outputs": [
    {
     "name": "stdout",
     "output_type": "stream",
     "text": [
      "Fitting 5 folds for each of 6 candidates, totalling 30 fits\n",
      "Mejores Parámetros (Regresión Logística): {'C': 1}\n",
      "MAE en el Conjunto de Entrenamiento (Regresión Logística): 0.21317682695948503\n",
      "MAE en el Conjunto de Validación (Regresión Logística): 0.18522727272727274\n",
      "F1 Score en el Conjunto de Validación (Regresión Logística): 0.5302593659942363\n"
     ]
    }
   ],
   "source": [
    "#Definimos el modelo de Regresión Logística\n",
    "regresion_logistica = LogisticRegression(max_iter=1000)\n",
    "\n",
    "#Definimos el espacio de hiperparámetros para la sintonización\n",
    "param_grid = {\n",
    "    'C': [0.001, 0.01, 0.1, 1, 10, 100],  #Ajustamos el rango de valores según sea necesario\n",
    "}\n",
    "\n",
    "#Creamos una función de puntuación personalizada utilizando el MAE\n",
    "puntuacion = make_scorer(mean_absolute_error, greater_is_better=False)\n",
    "\n",
    "#Inicializar GridSearchCV\n",
    "busqueda_grid = GridSearchCV(\n",
    "    regresion_logistica,\n",
    "    param_grid=param_grid,\n",
    "    cv=5,  \n",
    "    scoring=puntuacion,\n",
    "    verbose=1,\n",
    "    n_jobs=-1  #Utilizamos todos los núcleos de CPU disponibles para una sintonización más rápida\n",
    ")\n",
    "\n",
    "#Ajustamos la búsqueda grid a los datos de entrenamiento\n",
    "busqueda_grid.fit(X_train_scaled, y_train)\n",
    "\n",
    "#Obtenemos los mejores hiperparámetros y el mejor modelo\n",
    "mejores_parametros_logistica = busqueda_grid.best_params_\n",
    "mejor_modelo_logistica = busqueda_grid.best_estimator_\n",
    "\n",
    "#Evaluamos el mejor modelo de regresión logística en el conjunto de validación utilizando MAE\n",
    "y_pred_validacion_logistica = mejor_modelo_logistica.predict(X_valid_scaled)\n",
    "mae_validacion_logistica = mean_absolute_error(y_valid, y_pred_validacion_logistica)\n",
    "\n",
    "#Calculamos el MAE en el conjunto de entrenamiento para el modelo de Regresión Logística\n",
    "y_pred_entrenamiento_logistica = mejor_modelo_logistica.predict(X_train_scaled)\n",
    "mae_entrenamiento_logistica = mean_absolute_error(y_train, y_pred_entrenamiento_logistica)\n",
    "\n",
    "#Calculamos el F1 Score en el conjunto de validación para el modelo de Regresión Logística\n",
    "f1_validacion_logistica = f1_score(y_valid, y_pred_validacion_logistica)\n",
    "\n",
    "#Imprimimos los resultados\n",
    "print(\"Mejores Parámetros (Regresión Logística):\", mejores_parametros_logistica)\n",
    "print(\"MAE en el Conjunto de Entrenamiento (Regresión Logística):\", mae_entrenamiento_logistica)\n",
    "print(\"MAE en el Conjunto de Validación (Regresión Logística):\", mae_validacion_logistica)\n",
    "print(\"F1 Score en el Conjunto de Validación (Regresión Logística):\", f1_validacion_logistica)"
   ]
  },
  {
   "cell_type": "code",
   "execution_count": 123,
   "metadata": {
    "tags": []
   },
   "outputs": [
    {
     "name": "stdout",
     "output_type": "stream",
     "text": [
      "Fitting 5 folds for each of 6 candidates, totalling 30 fits\n",
      "Mejores Parámetros (Regresión Logística, Balanceado): {'C': 0.01}\n",
      "MAE en el Conjunto de Entrenamiento (Regresión Logística, Balanceado): 0.2867420349434738\n",
      "MAE en el Conjunto de Validación (Regresión Logística, Balanceado): 0.2519025875190259\n",
      "F1 Score en el Conjunto de Validación (Regresión Logística, Balanceado): 0.7420109119251752\n"
     ]
    }
   ],
   "source": [
    "#Definimos el modelo de Regresión Logística para el conjunto de datos balanceados\n",
    "regresion_logistica_balanceada = LogisticRegression(max_iter=1000)\n",
    "\n",
    "#Definimos el espacio de hiperparámetros para la sintonización\n",
    "param_grid_balanceado = {\n",
    "    'C': [0.001, 0.01, 0.1, 1, 10, 100],  \n",
    "}\n",
    "\n",
    "#Inicializar GridSearchCV\n",
    "busqueda_grid_logistica_balanceada = GridSearchCV(\n",
    "    regresion_logistica_balanceada,\n",
    "    param_grid=param_grid_balanceado,\n",
    "    cv=5,  \n",
    "    verbose=1,\n",
    "    n_jobs=-1  \n",
    ")\n",
    "\n",
    "#Ajustamos la búsqueda grid a los datos de entrenamiento balanceados\n",
    "busqueda_grid_logistica_balanceada.fit(X_train_undersampled, y_train_undersampled)\n",
    "\n",
    "#Obtenemos los mejores hiperparámetros y el mejor modelo de Regresión Logística balanceado\n",
    "mejores_parametros_logistica_balanceada = busqueda_grid_logistica_balanceada.best_params_\n",
    "mejor_modelo_logistica_balanceada = busqueda_grid_logistica_balanceada.best_estimator_\n",
    "\n",
    "#Evaluamos el mejor modelo de Regresión Logística balanceado en el conjunto de validación\n",
    "y_pred_validacion_logistica_balanceada = mejor_modelo_logistica_balanceada.predict(X_valid_undersampled)\n",
    "f1_validacion_logistica_balanceada = f1_score(y_valid_undersampled, y_pred_validacion_logistica_balanceada)\n",
    "\n",
    "#Predecimos en el conjunto de entrenamiento balanceado\n",
    "y_pred_entrenamiento_logistica_balanceada = mejor_modelo_logistica_balanceada.predict(X_train_undersampled)\n",
    "mae_entrenamiento_logistica_balanceada = mean_absolute_error(y_train_undersampled, y_pred_entrenamiento_logistica_balanceada)\n",
    "\n",
    "#Evaluamos el mejor modelo de Regresión Logística balanceado en el conjunto de validación\n",
    "y_pred_validacion_logistica_balanceada = mejor_modelo_logistica_balanceada.predict(X_valid_undersampled)\n",
    "mae_validacion_logistica_balanceada = mean_absolute_error(y_valid_undersampled, y_pred_validacion_logistica_balanceada)\n",
    "\n",
    "#Imprimimos los resultados\n",
    "print(\"Mejores Parámetros (Regresión Logística, Balanceado):\", mejores_parametros_logistica_balanceada)\n",
    "print(\"MAE en el Conjunto de Entrenamiento (Regresión Logística, Balanceado):\", mae_entrenamiento_logistica_balanceada)\n",
    "print(\"MAE en el Conjunto de Validación (Regresión Logística, Balanceado):\", mae_validacion_logistica_balanceada)\n",
    "print(\"F1 Score en el Conjunto de Validación (Regresión Logística, Balanceado):\", f1_validacion_logistica_balanceada)"
   ]
  },
  {
   "cell_type": "code",
   "execution_count": 124,
   "metadata": {
    "tags": []
   },
   "outputs": [
    {
     "name": "stdout",
     "output_type": "stream",
     "text": [
      "MAE en el Conjunto de Prueba (Regresión Logística): 0.21679909194097616\n",
      "F1 Score en el Conjunto de Prueba (Regresión Logística): 0.5115089514066496\n"
     ]
    }
   ],
   "source": [
    "#Calculamos el MAE en el conjunto de prueba para el modelo de Regresión Logística\n",
    "y_pred_prueba_logistica = mejor_modelo_logistica.predict(X_test_scaled)\n",
    "mae_prueba_logistica = mean_absolute_error(y_test, y_pred_prueba_logistica)\n",
    "f1_prueba_logistica = f1_score(y_test, y_pred_prueba_logistica)\n",
    "\n",
    "#Imprimimos el MAE en el conjunto de prueba para la regresión logística\n",
    "print(\"MAE en el Conjunto de Prueba (Regresión Logística):\", mae_prueba_logistica)\n",
    "\n",
    "#Imprimimos el F1 score en el conjunto de prueba para la regresión logística\n",
    "print(\"F1 Score en el Conjunto de Prueba (Regresión Logística):\", f1_prueba_logistica)"
   ]
  },
  {
   "cell_type": "code",
   "execution_count": 133,
   "metadata": {
    "tags": []
   },
   "outputs": [
    {
     "name": "stdout",
     "output_type": "stream",
     "text": [
      "MAE en el Conjunto de Prueba (Regresión Logística, Balanceado): 0.2832\n",
      "F1 Score en el Conjunto de Prueba (Regresión Logística, Balanceado): 0.7177033492822966\n"
     ]
    }
   ],
   "source": [
    "#Calculamos el MAE en el conjunto de prueba para el modelo de Regresión Logística con submuestreo\n",
    "y_pred_prueba_logistica_balanceado = mejor_modelo_logistica_balanceada.predict(X_test_undersampled)\n",
    "mae_prueba_logistica_balanceado = mean_absolute_error(y_test_undersampled, y_pred_prueba_logistica_balanceado)\n",
    "f1_prueba_logistica_balanceado = f1_score(y_test_undersampled, y_pred_prueba_logistica_balanceado)\n",
    "\n",
    "#Imprimimos el MAE en el conjunto de prueba para la regresión logística\n",
    "print(\"MAE en el Conjunto de Prueba (Regresión Logística, Balanceado):\", mae_prueba_logistica_balanceado)\n",
    "\n",
    "#Imprimimos el F1 score en el conjunto de prueba para la regresión logística\n",
    "print(\"F1 Score en el Conjunto de Prueba (Regresión Logística, Balanceado):\", f1_prueba_logistica_balanceado)"
   ]
  },
  {
   "cell_type": "markdown",
   "metadata": {},
   "source": [
    "### RandomForestClassifier"
   ]
  },
  {
   "cell_type": "code",
   "execution_count": 134,
   "metadata": {
    "tags": []
   },
   "outputs": [
    {
     "name": "stdout",
     "output_type": "stream",
     "text": [
      "Fitting 5 folds for each of 12 candidates, totalling 60 fits\n",
      "Mejores Parámetros (RandomForest): {'max_depth': 10, 'n_estimators': 300}\n",
      "Precisión en el Conjunto de Validación (RandomForest): 0.20227272727272727\n",
      "F1 Score en el Conjunto de Validación (RandomForest): 0.4331210191082802\n"
     ]
    }
   ],
   "source": [
    "#Definimos el modelo RandomForestClassifier\n",
    "random_forest = RandomForestClassifier(random_state=42)\n",
    "\n",
    "#Definimos el espacio de hiperparámetros para la sintonización\n",
    "param_grid = {\n",
    "    'n_estimators': [100, 200, 300],  #Número de árboles en el bosque\n",
    "    'max_depth': [None, 10, 20, 30],  #Profundidad máxima de los árboles\n",
    "}\n",
    "\n",
    "#Inicializamos GridSearchCV\n",
    "busqueda_grid = GridSearchCV(\n",
    "    random_forest,\n",
    "    param_grid=param_grid,\n",
    "    cv=5,  #Número de divisiones para la validación cruzada\n",
    "    scoring=puntuacion,  #Utilizamos la función de puntuación de precisión\n",
    "    verbose=1,\n",
    "    n_jobs=-1\n",
    ")\n",
    "\n",
    "#Ajustamos la búsqueda grid a los datos de entrenamiento\n",
    "busqueda_grid.fit(X_train_scaled, y_train)\n",
    "\n",
    "#Obtenemos los mejores hiperparámetros y el mejor modelo\n",
    "mejores_parametros_rf = busqueda_grid.best_params_\n",
    "mejor_modelo_rf = busqueda_grid.best_estimator_\n",
    "\n",
    "#Evaluamos el mejor modelo RandomForest en el conjunto de validación utilizando precisión\n",
    "y_pred_validacion_rf = mejor_modelo_rf.predict(X_valid_scaled)\n",
    "puntuacion_validacion_rf = mean_absolute_error(y_valid, y_pred_validacion_rf)\n",
    "\n",
    "#Calculamos el F1 score en el conjunto de validación para el modelo RandomForest\n",
    "f1_validacion_rf = f1_score(y_valid, y_pred_validacion_rf)\n",
    "\n",
    "#Imprimimos los mejores parámetros y la precisión en el conjunto de validación para RandomForest\n",
    "print(\"Mejores Parámetros (RandomForest):\", mejores_parametros_rf)\n",
    "print(\"Precisión en el Conjunto de Validación (RandomForest):\", puntuacion_validacion_rf)\n",
    "\n",
    "#Imprimimos el F1 score en el conjunto de validación para RandomForest\n",
    "print(\"F1 Score en el Conjunto de Validación (RandomForest):\", f1_validacion_rf)"
   ]
  },
  {
   "cell_type": "code",
   "execution_count": 135,
   "metadata": {
    "tags": []
   },
   "outputs": [
    {
     "name": "stdout",
     "output_type": "stream",
     "text": [
      "Fitting 5 folds for each of 12 candidates, totalling 60 fits\n",
      "Mejores Parámetros (RandomForest, Balanceado): {'max_depth': 10, 'n_estimators': 200}\n",
      "MAE en el Conjunto de Validación (RandomForest, Balanceado): 0.2328767123287671\n",
      "F1 Score en el Conjunto de Validación (RandomForest, Balanceado): 0.759433962264151\n"
     ]
    }
   ],
   "source": [
    "#Definimos el modelo RandomForestClassifier para el conjunto de datos con submuestreo\n",
    "random_forest_balanceado = RandomForestClassifier(random_state=42)\n",
    "\n",
    "#Definimos el espacio de hiperparámetros para la sintonización\n",
    "param_grid_balanceado = {\n",
    "    'n_estimators': [100, 200, 300],  # Número de árboles en el bosque\n",
    "    'max_depth': [None, 10, 20, 30],  # Profundidad máxima de los árboles\n",
    "}\n",
    "\n",
    "#Inicializamos GridSearchCV\n",
    "busqueda_grid_balanceada = GridSearchCV(\n",
    "    random_forest_balanceado,\n",
    "    param_grid=param_grid_balanceado,\n",
    "    cv=5,  #Número de divisiones para la validación cruzada\n",
    "    scoring=puntuacion,  #Utilizamos la función de puntuación de precisión\n",
    "    verbose=1,\n",
    "    n_jobs=-1\n",
    ")\n",
    "\n",
    "#Ajustamos la búsqueda grid a los datos de entrenamiento con submuestreo\n",
    "busqueda_grid_balanceada.fit(X_train_undersampled, y_train_undersampled)\n",
    "\n",
    "#Obtenemos los mejores hiperparámetros y el mejor modelo RandomForest con submuestreo\n",
    "mejores_parametros_rf_balanceado = busqueda_grid_balanceada.best_params_\n",
    "mejor_modelo_rf_balanceado = busqueda_grid_balanceada.best_estimator_\n",
    "\n",
    "#Evaluamos el mejor modelo RandomForest con submuestreo en el conjunto de validación utilizando MAE\n",
    "y_pred_validacion_rf_balanceado = mejor_modelo_rf_balanceado.predict(X_valid_undersampled)\n",
    "mae_validacion_rf_balanceado = mean_absolute_error(y_valid_undersampled, y_pred_validacion_rf_balanceado)\n",
    "\n",
    "#Calculamos el F1 score en el conjunto de validación para el modelo RandomForest con submuestreo\n",
    "f1_validacion_rf_balanceado = f1_score(y_valid_undersampled, y_pred_validacion_rf_balanceado)\n",
    "\n",
    "#Imprimimos los mejores parámetros y el MAE en el conjunto de validación para RandomForest con submuestreo\n",
    "print(\"Mejores Parámetros (RandomForest, Balanceado):\", mejores_parametros_rf_balanceado)\n",
    "print(\"MAE en el Conjunto de Validación (RandomForest, Balanceado):\", mae_validacion_rf_balanceado)\n",
    "\n",
    "#Imprimimos el F1 score en el conjunto de validación para RandomForest con submuestreo\n",
    "print(\"F1 Score en el Conjunto de Validación (RandomForest, Balanceado):\", f1_validacion_rf_balanceado)"
   ]
  },
  {
   "cell_type": "code",
   "execution_count": 136,
   "metadata": {
    "tags": []
   },
   "outputs": [
    {
     "name": "stdout",
     "output_type": "stream",
     "text": [
      "F1 Score en el Conjunto de Prueba (RandomForestClassifier): 0.3978201634877384\n",
      "MAE en el Conjunto de Prueba (RandomForestClassifier): 0.2508513053348468\n"
     ]
    }
   ],
   "source": [
    "#Calculamos el MAE en el conjunto de prueba para el modelo de RandomForestClassifier\n",
    "y_pred_prueba_rf = mejor_modelo_rf.predict(X_test_scaled)\n",
    "mae_prueba_rf = mean_absolute_error(y_test, y_pred_prueba_rf)\n",
    "\n",
    "#Calculamos el F1 score en el conjunto de prueba para el modelo RandomForestClassifier\n",
    "f1_prueba_rf = f1_score(y_test, y_pred_prueba_rf)\n",
    "\n",
    "#Imprimimos el F1 score en el conjunto de prueba para RandomForestClassifier\n",
    "print(\"F1 Score en el Conjunto de Prueba (RandomForestClassifier):\", f1_prueba_rf)\n",
    "\n",
    "#Imprimimos el MAE en el conjunto de prueba para RandomForestClassifier\n",
    "print(\"MAE en el Conjunto de Prueba (RandomForestClassifier):\", mae_prueba_rf)"
   ]
  },
  {
   "cell_type": "code",
   "execution_count": 137,
   "metadata": {
    "tags": []
   },
   "outputs": [
    {
     "name": "stdout",
     "output_type": "stream",
     "text": [
      "F1 Score en el Conjunto de Prueba (RandomForestClassifier, Balanceado): 0.7215815485996705\n",
      "MAE en el Conjunto de Prueba (RandomForestClassifier, Balanceado): 0.2704\n"
     ]
    }
   ],
   "source": [
    "#Calculamos el MAE en el conjunto de prueba para el modelo de RandomForestClassifier con submuestreo\n",
    "y_pred_prueba_rf_balanceado = mejor_modelo_rf_balanceado.predict(X_test_undersampled_scaled)\n",
    "mae_prueba_rf_balanceado = mean_absolute_error(y_test_undersampled, y_pred_prueba_rf_balanceado)\n",
    "\n",
    "#Calculamos el F1 score en el conjunto de prueba para el modelo RandomForestClassifier con submuestreo\n",
    "f1_prueba_rf_balanceado = f1_score(y_test_undersampled, y_pred_prueba_rf_balanceado)\n",
    "\n",
    "#Imprimimos el F1 score en el conjunto de prueba para RandomForestClassifier con submuestreo\n",
    "print(\"F1 Score en el Conjunto de Prueba (RandomForestClassifier, Balanceado):\", f1_prueba_rf_balanceado)\n",
    "\n",
    "#Imprimimos el MAE en el conjunto de prueba para RandomForestClassifier con submuestreo\n",
    "print(\"MAE en el Conjunto de Prueba (RandomForestClassifier, Balanceado):\", mae_prueba_rf_balanceado)"
   ]
  },
  {
   "cell_type": "markdown",
   "metadata": {},
   "source": [
    "### XGBoost"
   ]
  },
  {
   "cell_type": "code",
   "execution_count": 138,
   "metadata": {
    "tags": []
   },
   "outputs": [
    {
     "name": "stdout",
     "output_type": "stream",
     "text": [
      "Fitting 5 folds for each of 27 candidates, totalling 135 fits\n",
      "F1 Score en el Conjunto de Entrenamiento (XGBoost): 0.6002532714225411\n",
      "F1 Score en el Conjunto de Validación (XGBoost): 0.4698412698412699\n",
      "Mejores Parámetros (XGBoost): {'learning_rate': 0.2, 'max_depth': 4, 'n_estimators': 100}\n",
      "MAE en el Conjunto de Entrenamiento (XGBoost): 0.17928814842862553\n",
      "MAE en el Conjunto de Validación (XGBoost): 0.18977272727272726\n"
     ]
    }
   ],
   "source": [
    "#Definimos el modelo XGBoost\n",
    "xgb_model = xgb.XGBClassifier(random_state=42, use_label_encoder=False, eval_metric='error')\n",
    "\n",
    "#Definimos el espacio de hiperparámetros para la sintonización\n",
    "param_grid = {\n",
    "    'n_estimators': [100, 200, 300],  #Número de árboles en el modelo\n",
    "    'max_depth': [3, 4, 5],  #Profundidad máxima de los árboles\n",
    "    'learning_rate': [0.01, 0.1, 0.2],  #Tasa de aprendizaje\n",
    "}\n",
    "\n",
    "#Inicializamos GridSearchCV\n",
    "busqueda_grid = GridSearchCV(\n",
    "    xgb_model,\n",
    "    param_grid=param_grid,\n",
    "    cv=5,  #Número de divisiones para la validación cruzada\n",
    "    scoring=puntuacion,  #Utilizamos la función de puntuación personalizada\n",
    "    verbose=1,\n",
    "    n_jobs=-1\n",
    ")\n",
    "\n",
    "#Ajustamos la búsqueda grid a los datos de entrenamiento\n",
    "busqueda_grid.fit(X_train_scaled, y_train)\n",
    "\n",
    "#Obtenemos los mejores hiperparámetros y el mejor modelo\n",
    "mejores_parametros_xgb = busqueda_grid.best_params_\n",
    "mejor_modelo_xgb = busqueda_grid.best_estimator_\n",
    "\n",
    "#Evaluamos el mejor modelo XGBoost en el conjunto de entrenamiento y validación utilizando la función de puntuación personalizada\n",
    "y_pred_entrenamiento_xgb = mejor_modelo_xgb.predict(X_train_scaled)\n",
    "mae_entrenamiento_xgb = mean_absolute_error(y_train, y_pred_entrenamiento_xgb)\n",
    "\n",
    "y_pred_validacion_xgb = mejor_modelo_xgb.predict(X_valid_scaled)\n",
    "mae_validacion_xgb = mean_absolute_error(y_valid, y_pred_validacion_xgb)\n",
    "\n",
    "#Calculamos el F1 score en el conjunto de entrenamiento y validación para el modelo XGBoost\n",
    "f1_entrenamiento_xgb = f1_score(y_train, y_pred_entrenamiento_xgb)\n",
    "f1_validacion_xgb = f1_score(y_valid, y_pred_validacion_xgb)\n",
    "\n",
    "#Imprimimos el F1 score en el conjunto de entrenamiento y validación para XGBoost\n",
    "print(\"F1 Score en el Conjunto de Entrenamiento (XGBoost):\", f1_entrenamiento_xgb)\n",
    "print(\"F1 Score en el Conjunto de Validación (XGBoost):\", f1_validacion_xgb)\n",
    "\n",
    "#Imprimimos los mejores parámetros y el MAE en el conjunto de entrenamiento y validación para XGBoost\n",
    "print(\"Mejores Parámetros (XGBoost):\", mejores_parametros_xgb)\n",
    "print(\"MAE en el Conjunto de Entrenamiento (XGBoost):\", mae_entrenamiento_xgb)\n",
    "print(\"MAE en el Conjunto de Validación (XGBoost):\", mae_validacion_xgb)"
   ]
  },
  {
   "cell_type": "code",
   "execution_count": 140,
   "metadata": {
    "tags": []
   },
   "outputs": [
    {
     "name": "stdout",
     "output_type": "stream",
     "text": [
      "Fitting 5 folds for each of 27 candidates, totalling 135 fits\n",
      "Mejores Parámetros (XGBoost, Balanceado): {'learning_rate': 0.01, 'max_depth': 3, 'n_estimators': 300}\n",
      "MAE en el Conjunto de Entrenamiento (XGBoost, Balanceado): 0.24640287769784172\n",
      "MAE en el Conjunto de Validación (XGBoost, Balanceado): 0.2191780821917808\n",
      "F1 Score en el Conjunto de Validación (XGBoost, Balanceado): 0.7853949329359166\n"
     ]
    }
   ],
   "source": [
    "#Definimos el modelo XGBoost para el conjunto de datos balanceados\n",
    "xgb_model_balanceado = xgb.XGBClassifier(random_state=42, use_label_encoder=False, eval_metric='error')\n",
    "\n",
    "#Definimos el espacio de hiperparámetros para la sintonización\n",
    "param_grid_balanceado = {\n",
    "    'n_estimators': [100, 200, 300],  #Número de árboles en el modelo\n",
    "    'max_depth': [3, 4, 5],  #Profundidad máxima de los árboles\n",
    "    'learning_rate': [0.01, 0.1, 0.2],  #Tasa de aprendizaje\n",
    "}\n",
    "\n",
    "#Inicializamos GridSearchCV\n",
    "busqueda_grid_balanceado = GridSearchCV(\n",
    "    xgb_model_balanceado,\n",
    "    param_grid=param_grid_balanceado,\n",
    "    cv=5,  #Número de divisiones para la validación cruzada\n",
    "    scoring=puntuacion,  #Utilizamos la función de puntuación personalizada\n",
    "    verbose=1,\n",
    "    n_jobs=-1\n",
    ")\n",
    "\n",
    "#Ajustamos la búsqueda grid a los datos de entrenamiento balanceados\n",
    "busqueda_grid_balanceado.fit(X_train_undersampled, y_train_undersampled)\n",
    "\n",
    "#Obtenemos los mejores hiperparámetros y el mejor modelo XGBoost balanceado\n",
    "mejores_parametros_xgb_balanceado = busqueda_grid_balanceado.best_params_\n",
    "mejor_modelo_xgb_balanceado = busqueda_grid_balanceado.best_estimator_\n",
    "\n",
    "#Evaluamos el mejor modelo XGBoost balanceado en el conjunto de validación\n",
    "y_pred_validacion_xgb_balanceado = mejor_modelo_xgb_balanceado.predict(X_valid_undersampled)\n",
    "f1_validacion_xgb_balanceado = f1_score(y_valid_undersampled, y_pred_validacion_xgb_balanceado)\n",
    "\n",
    "#Predecimos en el conjunto de entrenamiento balanceado\n",
    "y_pred_entrenamiento_xgb_balanceado = mejor_modelo_xgb_balanceado.predict(X_train_undersampled)\n",
    "mae_entrenamiento_xgb_balanceado = mean_absolute_error(y_train_undersampled, y_pred_entrenamiento_xgb_balanceado)\n",
    "\n",
    "#Evaluamos el mejor modelo XGBoost balanceado en el conjunto de validación\n",
    "y_pred_validacion_xgb_balanceado = mejor_modelo_xgb_balanceado.predict(X_valid_undersampled)\n",
    "mae_validacion_xgb_balanceado = mean_absolute_error(y_valid_undersampled, y_pred_validacion_xgb_balanceado)\n",
    "\n",
    "#Imprimimos los resultados\n",
    "print(\"Mejores Parámetros (XGBoost, Balanceado):\", mejores_parametros_xgb_balanceado)\n",
    "print(\"MAE en el Conjunto de Entrenamiento (XGBoost, Balanceado):\", mae_entrenamiento_xgb_balanceado)\n",
    "print(\"MAE en el Conjunto de Validación (XGBoost, Balanceado):\", mae_validacion_xgb_balanceado)\n",
    "print(\"F1 Score en el Conjunto de Validación (XGBoost, Balanceado):\", f1_validacion_xgb_balanceado)"
   ]
  },
  {
   "cell_type": "code",
   "execution_count": 95,
   "metadata": {},
   "outputs": [
    {
     "name": "stdout",
     "output_type": "stream",
     "text": [
      "F1 Score en el Conjunto de Prueba (XGBoost): 0.5290023201856149\n",
      "MAE en el Conjunto de Prueba (XGBoost): 0.2304199772985244\n"
     ]
    }
   ],
   "source": [
    "#Calculamos el MAE en el conjunto de prueba para el modelo de XGBoost\n",
    "y_pred_prueba_xgb = mejor_modelo_xgb.predict(X_test_scaled)\n",
    "mae_prueba_xgb = mean_absolute_error(y_test, y_pred_prueba_xgb)\n",
    "\n",
    "#Calculamos el F1 score en el conjunto de prueba para el modelo XGBoost\n",
    "f1_prueba_xgb = f1_score(y_test, y_pred_prueba_xgb)\n",
    "\n",
    "#Imprimimos el F1 score en el conjunto de prueba para XGBoost\n",
    "print(\"F1 Score en el Conjunto de Prueba (XGBoost):\", f1_prueba_xgb)\n",
    "\n",
    "#Imprimimos el MAE en el conjunto de prueba para XGBoost\n",
    "print(\"MAE en el Conjunto de Prueba (XGBoost):\", mae_prueba_xgb)"
   ]
  },
  {
   "cell_type": "code",
   "execution_count": 141,
   "metadata": {
    "tags": []
   },
   "outputs": [
    {
     "name": "stdout",
     "output_type": "stream",
     "text": [
      "F1 Score en el Conjunto de Prueba (XGBoost, Balanceado): 0.7484567901234568\n",
      "MAE en el Conjunto de Prueba (XGBoost, Balanceado): 0.2608\n"
     ]
    }
   ],
   "source": [
    "#Calculamos el MAE en el conjunto de prueba para el modelo XGBoost con submuestreo\n",
    "y_pred_prueba_xgb_balanceado = mejor_modelo_xgb_balanceado.predict(X_test_undersampled)\n",
    "mae_prueba_xgb_balanceado = mean_absolute_error(y_test_undersampled, y_pred_prueba_xgb_balanceado)\n",
    "\n",
    "#Calculamos el F1 score en el conjunto de prueba para el modelo XGBoost con submuestreo\n",
    "f1_prueba_xgb_balanceado = f1_score(y_test_undersampled, y_pred_prueba_xgb_balanceado)\n",
    "\n",
    "#Imprimimos el F1 score en el conjunto de prueba para XGBoost con submuestreo\n",
    "print(\"F1 Score en el Conjunto de Prueba (XGBoost, Balanceado):\", f1_prueba_xgb_balanceado)\n",
    "\n",
    "#Imprimimos el MAE en el conjunto de prueba para XGBoost con submuestreo\n",
    "print(\"MAE en el Conjunto de Prueba (XGBoost, Balanceado):\", mae_prueba_xgb_balanceado)"
   ]
  },
  {
   "cell_type": "markdown",
   "metadata": {},
   "source": [
    "### CatBoostClassifier"
   ]
  },
  {
   "cell_type": "code",
   "execution_count": 142,
   "metadata": {
    "tags": []
   },
   "outputs": [
    {
     "name": "stdout",
     "output_type": "stream",
     "text": [
      "Fitting 5 folds for each of 27 candidates, totalling 135 fits\n",
      "F1 Score en el Conjunto de Entrenamiento (CatBoost): 0.5131637661758144\n",
      "F1 Score en el Conjunto de Validación (CatBoost): 0.4080267558528428\n",
      "Mejores Parámetros (CatBoost): {'depth': 8, 'iterations': 200, 'learning_rate': 0.01}\n",
      "MAE en el Conjunto de Entrenamiento (CatBoost): 0.20655054903445663\n",
      "MAE en el Conjunto de Validación (CatBoost): 0.20113636363636364\n"
     ]
    }
   ],
   "source": [
    "#Definimos el modelo CatBoost\n",
    "catboost_model = CatBoostClassifier(iterations=500, depth=6, learning_rate=0.1, verbose=0, random_state=42)\n",
    "\n",
    "#Definimos el espacio de hiperparámetros para la sintonización\n",
    "param_grid = {\n",
    "    'iterations': [100, 200, 500],\n",
    "    'depth': [4, 6, 8],\n",
    "    'learning_rate': [0.01, 0.1, 0.2],\n",
    "}\n",
    "\n",
    "\n",
    "#Inicializar GridSearchCV\n",
    "busqueda_grid = GridSearchCV(\n",
    "    catboost_model,\n",
    "    param_grid=param_grid,\n",
    "    cv=5,\n",
    "    scoring=puntuacion,\n",
    "    verbose=1,\n",
    "    n_jobs=-1\n",
    ")\n",
    "\n",
    "#Ajustamos la búsqueda grid a los datos de entrenamiento\n",
    "busqueda_grid.fit(X_train_scaled, y_train)\n",
    "\n",
    "#Obtenemos los mejores hiperparámetros y el mejor modelo\n",
    "mejores_parametros_catboost = busqueda_grid.best_params_\n",
    "mejor_modelo_catboost = busqueda_grid.best_estimator_\n",
    "\n",
    "#Evaluamos el mejor modelo CatBoost en los conjuntos de entrenamiento y validación utilizando MAE\n",
    "y_pred_entrenamiento_catboost = mejor_modelo_catboost.predict(X_train_scaled)\n",
    "mae_entrenamiento_catboost = mean_absolute_error(y_train, y_pred_entrenamiento_catboost)\n",
    "\n",
    "y_pred_validacion_catboost = mejor_modelo_catboost.predict(X_valid_scaled)\n",
    "mae_validacion_catboost = mean_absolute_error(y_valid, y_pred_validacion_catboost)\n",
    "\n",
    "#Calculamos el F1 score en el conjunto de entrenamiento para el modelo CatBoost\n",
    "f1_entrenamiento_catboost = f1_score(y_train, y_pred_entrenamiento_catboost)\n",
    "\n",
    "#Calculamos el F1 score en el conjunto de validación para el modelo CatBoost\n",
    "f1_validacion_catboost = f1_score(y_valid, y_pred_validacion_catboost)\n",
    "\n",
    "#Imprimimos los F1 scores en los conjuntos de entrenamiento y validación\n",
    "print(\"F1 Score en el Conjunto de Entrenamiento (CatBoost):\", f1_entrenamiento_catboost)\n",
    "print(\"F1 Score en el Conjunto de Validación (CatBoost):\", f1_validacion_catboost)\n",
    "\n",
    "#Imprimimos los mejores parámetros y el MAE en los conjuntos de entrenamiento y validación para CatBoost\n",
    "print(\"Mejores Parámetros (CatBoost):\", mejores_parametros_catboost)\n",
    "print(\"MAE en el Conjunto de Entrenamiento (CatBoost):\", mae_entrenamiento_catboost)\n",
    "print(\"MAE en el Conjunto de Validación (CatBoost):\", mae_validacion_catboost)"
   ]
  },
  {
   "cell_type": "code",
   "execution_count": 144,
   "metadata": {
    "tags": []
   },
   "outputs": [
    {
     "name": "stdout",
     "output_type": "stream",
     "text": [
      "Fitting 5 folds for each of 27 candidates, totalling 135 fits\n",
      "F1 Score en el Conjunto de Entrenamiento (CatBoost, Balanceado): 0.7596491228070176\n",
      "F1 Score en el Conjunto de Validación (CatBoost, Balanceado): 0.7649769585253456\n",
      "Mejores Parámetros (CatBoost, Balanceado): {'depth': 6, 'iterations': 500, 'learning_rate': 0.01}\n",
      "MAE en el Conjunto de Entrenamiento (CatBoost, Balanceado): 0.24640287769784172\n",
      "MAE en el Conjunto de Validación (CatBoost, Balanceado): 0.2328767123287671\n"
     ]
    }
   ],
   "source": [
    "#Definimos el modelo CatBoost para el conjunto de datos balanceados\n",
    "catboost_model_balanceado = CatBoostClassifier(iterations=500, depth=6, learning_rate=0.1, verbose=0, random_state=42)\n",
    "\n",
    "#Definimos el espacio de hiperparámetros para la sintonización\n",
    "param_grid_balanceado = {\n",
    "    'iterations': [100, 200, 500],\n",
    "    'depth': [4, 6, 8],\n",
    "    'learning_rate': [0.01, 0.1, 0.2],\n",
    "}\n",
    "\n",
    "#Inicializamos GridSearchCV\n",
    "busqueda_grid_balanceado = GridSearchCV(\n",
    "    catboost_model_balanceado,\n",
    "    param_grid=param_grid_balanceado,\n",
    "    cv=5,\n",
    "    scoring=puntuacion,\n",
    "    verbose=1,\n",
    "    n_jobs=-1\n",
    ")\n",
    "\n",
    "#Ajustamos la búsqueda grid a los datos de entrenamiento balanceados\n",
    "busqueda_grid_balanceado.fit(X_train_undersampled, y_train_undersampled)\n",
    "\n",
    "#Obtenemos los mejores hiperparámetros y el mejor modelo CatBoost balanceado\n",
    "mejores_parametros_catboost_balanceado = busqueda_grid_balanceado.best_params_\n",
    "mejor_modelo_catboost_balanceado = busqueda_grid_balanceado.best_estimator_\n",
    "\n",
    "#Evaluamos el mejor modelo CatBoost balanceado en los conjuntos de entrenamiento y validación utilizando MAE\n",
    "y_pred_entrenamiento_catboost_balanceado = mejor_modelo_catboost_balanceado.predict(X_train_undersampled)\n",
    "mae_entrenamiento_catboost_balanceado = mean_absolute_error(y_train_undersampled, y_pred_entrenamiento_catboost_balanceado)\n",
    "\n",
    "y_pred_validacion_catboost_balanceado = mejor_modelo_catboost_balanceado.predict(X_valid_undersampled)\n",
    "mae_validacion_catboost_balanceado = mean_absolute_error(y_valid_undersampled, y_pred_validacion_catboost_balanceado)\n",
    "\n",
    "#Calculamos el F1 score en el conjunto de entrenamiento para el modelo CatBoost balanceado\n",
    "f1_entrenamiento_catboost_balanceado = f1_score(y_train_undersampled, y_pred_entrenamiento_catboost_balanceado)\n",
    "\n",
    "#Calculamos el F1 score en el conjunto de validación para el modelo CatBoost balanceado\n",
    "f1_validacion_catboost_balanceado = f1_score(y_valid_undersampled, y_pred_validacion_catboost_balanceado)\n",
    "\n",
    "#Imprimimos los F1 scores en los conjuntos de entrenamiento y validación\n",
    "print(\"F1 Score en el Conjunto de Entrenamiento (CatBoost, Balanceado):\", f1_entrenamiento_catboost_balanceado)\n",
    "print(\"F1 Score en el Conjunto de Validación (CatBoost, Balanceado):\", f1_validacion_catboost_balanceado)\n",
    "\n",
    "#Imprimimos los mejores parámetros y el MAE en los conjuntos de entrenamiento y validación para CatBoost\n",
    "print(\"Mejores Parámetros (CatBoost, Balanceado):\", mejores_parametros_catboost_balanceado)\n",
    "print(\"MAE en el Conjunto de Entrenamiento (CatBoost, Balanceado):\", mae_entrenamiento_catboost_balanceado)\n",
    "print(\"MAE en el Conjunto de Validación (CatBoost, Balanceado):\", mae_validacion_catboost_balanceado)"
   ]
  },
  {
   "cell_type": "code",
   "execution_count": 145,
   "metadata": {
    "tags": []
   },
   "outputs": [
    {
     "name": "stdout",
     "output_type": "stream",
     "text": [
      "MAE en el Conjunto de Prueba (CatBoostClassifier): 0.24177071509648126\n",
      "F1 Score en el Conjunto de Prueba (CatBoost): 0.3716814159292035\n"
     ]
    }
   ],
   "source": [
    "#Calculamos el MAE en el conjunto de prueba para el modelo de CatBoostClassifier\n",
    "y_pred_prueba_catboost = mejor_modelo_catboost.predict(X_test_scaled)\n",
    "mae_prueba_catboost = mean_absolute_error(y_test, y_pred_prueba_catboost)\n",
    "\n",
    "#Calculamos el F1 score en el conjunto de prueba para el modelo CatBoost\n",
    "f1_prueba_catboost = f1_score(y_test, y_pred_prueba_catboost)\n",
    "\n",
    "#Imprimimos el MAE y F1 score en el conjunto de prueba para CatBoostClassifier\n",
    "print(\"MAE en el Conjunto de Prueba (CatBoostClassifier):\", mae_prueba_catboost)\n",
    "print(\"F1 Score en el Conjunto de Prueba (CatBoost):\", f1_prueba_catboost)"
   ]
  },
  {
   "cell_type": "code",
   "execution_count": 146,
   "metadata": {
    "tags": []
   },
   "outputs": [
    {
     "name": "stdout",
     "output_type": "stream",
     "text": [
      "MAE en el Conjunto de Prueba (CatBoostClassifier, Balanceado): 0.2664\n",
      "F1 Score en el Conjunto de Prueba (CatBoost, Balanceado): 0.7325301204819278\n"
     ]
    }
   ],
   "source": [
    "#Calculamos el MAE en el conjunto de prueba para el modelo de CatBoostClassifier balanceado\n",
    "y_pred_prueba_catboost_balanceado = mejor_modelo_catboost_balanceado.predict(X_test_undersampled)\n",
    "mae_prueba_catboost_balanceado = mean_absolute_error(y_test_undersampled, y_pred_prueba_catboost_balanceado)\n",
    "\n",
    "#Calculamos el F1 score en el conjunto de prueba para el modelo CatBoost balanceado\n",
    "f1_prueba_catboost_balanceado = f1_score(y_test_undersampled, y_pred_prueba_catboost_balanceado)\n",
    "\n",
    "#Imprimimos el MAE y F1 score en el conjunto de prueba para CatBoostClassifier balanceado\n",
    "print(\"MAE en el Conjunto de Prueba (CatBoostClassifier, Balanceado):\", mae_prueba_catboost_balanceado)\n",
    "print(\"F1 Score en el Conjunto de Prueba (CatBoost, Balanceado):\", f1_prueba_catboost_balanceado)"
   ]
  },
  {
   "cell_type": "markdown",
   "metadata": {},
   "source": [
    "### KNN"
   ]
  },
  {
   "cell_type": "code",
   "execution_count": 147,
   "metadata": {
    "tags": []
   },
   "outputs": [
    {
     "name": "stdout",
     "output_type": "stream",
     "text": [
      "Fitting 5 folds for each of 8 candidates, totalling 40 fits\n",
      "Mejores Parámetros (KNN): {'n_neighbors': 9, 'weights': 'uniform'}\n",
      "MAE en el Conjunto de Entrenamiento (KNN): 0.18269594850435442\n",
      "MAE en el Conjunto de Validación (KNN): 0.20909090909090908\n",
      "F1 Score en el Conjunto de Entrenamiento (KNN): 0.6059616169865251\n",
      "F1 Score en el Conjunto de Validación (KNN): 0.4424242424242424\n"
     ]
    }
   ],
   "source": [
    "#Definimos el modelo K-Nearest Neighbors\n",
    "knn_model = KNeighborsClassifier()\n",
    "\n",
    "#Definimos el espacio de hiperparámetros para la sintonización\n",
    "param_grid = {\n",
    "    'n_neighbors': [3, 5, 7, 9],  #Número de vecinos\n",
    "    'weights': ['uniform', 'distance'],  #Tipo de ponderación de vecinos\n",
    "}\n",
    "\n",
    "#Inicializamos GridSearchCV\n",
    "busqueda_grid = GridSearchCV(\n",
    "    knn_model,\n",
    "    param_grid=param_grid,\n",
    "    cv=5,  #Número de divisiones para la validación cruzada\n",
    "    scoring=puntuacion,  #Utilizamos la función de puntuación personalizada\n",
    "    verbose=1,\n",
    "    n_jobs=-1\n",
    ")\n",
    "\n",
    "#Ajustamos la búsqueda grid a los datos de entrenamiento\n",
    "busqueda_grid.fit(X_train_scaled, y_train)\n",
    "\n",
    "#Obtenemos los mejores hiperparámetros y el mejor modelo\n",
    "mejores_parametros_knn = busqueda_grid.best_params_\n",
    "mejor_modelo_knn = busqueda_grid.best_estimator_\n",
    "\n",
    "#Evaluamos el mejor modelo KNN en el conjunto de entrenamiento y validación utilizando la función de puntuación personalizada\n",
    "y_pred_entrenamiento_knn = mejor_modelo_knn.predict(X_train_scaled)\n",
    "mae_entrenamiento_knn = mean_absolute_error(y_train, y_pred_entrenamiento_knn)\n",
    "\n",
    "y_pred_validacion_knn = mejor_modelo_knn.predict(X_valid_scaled)\n",
    "mae_validacion_knn = mean_absolute_error(y_valid, y_pred_validacion_knn)\n",
    "\n",
    "#Calculamos el F1 score en el conjunto de entrenamiento para el modelo KNN\n",
    "f1_entrenamiento_knn = f1_score(y_train, y_pred_entrenamiento_knn)\n",
    "\n",
    "#Calculamos el F1 score en el conjunto de validación para el modelo KNN\n",
    "f1_validacion_knn = f1_score(y_valid, y_pred_validacion_knn)\n",
    "\n",
    "#Imprimimos los mejores parámetros y el MAE en el conjunto de entrenamiento y validación para KNN\n",
    "print(\"Mejores Parámetros (KNN):\", mejores_parametros_knn)\n",
    "print(\"MAE en el Conjunto de Entrenamiento (KNN):\", mae_entrenamiento_knn)\n",
    "print(\"MAE en el Conjunto de Validación (KNN):\", mae_validacion_knn)\n",
    "\n",
    "#Imprimimos los F1 scores en los conjuntos de entrenamiento y validación\n",
    "print(\"F1 Score en el Conjunto de Entrenamiento (KNN):\", f1_entrenamiento_knn)\n",
    "print(\"F1 Score en el Conjunto de Validación (KNN):\", f1_validacion_knn)"
   ]
  },
  {
   "cell_type": "code",
   "execution_count": 148,
   "metadata": {
    "tags": []
   },
   "outputs": [
    {
     "name": "stdout",
     "output_type": "stream",
     "text": [
      "Fitting 5 folds for each of 8 candidates, totalling 40 fits\n",
      "Mejores Parámetros (KNN, Submuestreado): {'n_neighbors': 9, 'weights': 'uniform'}\n",
      "MAE en el Conjunto de Entrenamiento (KNN, Submuestreado): 0.19565775950668038\n",
      "MAE en el Conjunto de Validación (KNN, Submuestreado): 0.2990867579908676\n",
      "F1 Score en el Conjunto de Entrenamiento (KNN, Submuestreado): 0.8163068387408032\n",
      "F1 Score en el Conjunto de Validación (KNN, Submuestreado): 0.6960556844547564\n"
     ]
    }
   ],
   "source": [
    "#Definimos el modelo K-Nearest Neighbors para el conjunto submuestreado\n",
    "knn_model_submuestreado = KNeighborsClassifier()\n",
    "\n",
    "#Definimos el espacio de hiperparámetros para la sintonización\n",
    "param_grid_submuestreado = {\n",
    "    'n_neighbors': [3, 5, 7, 9],  #Número de vecinos\n",
    "    'weights': ['uniform', 'distance'],  #Tipo de ponderación de vecinos\n",
    "}\n",
    "\n",
    "# Inicializamos GridSearchCV\n",
    "busqueda_grid_submuestreado = GridSearchCV(\n",
    "    knn_model_submuestreado,\n",
    "    param_grid=param_grid_submuestreado,\n",
    "    cv=5,  #Número de divisiones para la validación cruzada\n",
    "    scoring=puntuacion,  #Utilizamos la función de puntuación personalizada\n",
    "    verbose=1,\n",
    "    n_jobs=-1\n",
    ")\n",
    "\n",
    "#Ajustamos la búsqueda grid a los datos de entrenamiento submuestreados\n",
    "busqueda_grid_submuestreado.fit(X_train_undersampled, y_train_undersampled)\n",
    "\n",
    "#Obtenemos los mejores hiperparámetros y el mejor modelo para KNN submuestreado\n",
    "mejores_parametros_knn_submuestreado = busqueda_grid_submuestreado.best_params_\n",
    "mejor_modelo_knn_submuestreado = busqueda_grid_submuestreado.best_estimator_\n",
    "\n",
    "#Evaluamos el mejor modelo KNN submuestreado en el conjunto de entrenamiento y validación utilizando la función de puntuación personalizada\n",
    "y_pred_entrenamiento_knn_submuestreado = mejor_modelo_knn_submuestreado.predict(X_train_undersampled)\n",
    "mae_entrenamiento_knn_submuestreado = mean_absolute_error(y_train_undersampled, y_pred_entrenamiento_knn_submuestreado)\n",
    "\n",
    "y_pred_validacion_knn_submuestreado = mejor_modelo_knn_submuestreado.predict(X_valid_undersampled)\n",
    "mae_validacion_knn_submuestreado = mean_absolute_error(y_valid_undersampled, y_pred_validacion_knn_submuestreado)\n",
    "\n",
    "#Calculamos el F1 score en el conjunto de entrenamiento para el modelo KNN submuestreado\n",
    "f1_entrenamiento_knn_submuestreado = f1_score(y_train_undersampled, y_pred_entrenamiento_knn_submuestreado)\n",
    "\n",
    "#Calculamos el F1 score en el conjunto de validación para el modelo KNN submuestreado\n",
    "f1_validacion_knn_submuestreado = f1_score(y_valid_undersampled, y_pred_validacion_knn_submuestreado)\n",
    "\n",
    "#Imprimimos los mejores parámetros y el MAE en los conjuntos de entrenamiento y validación para KNN submuestreado\n",
    "print(\"Mejores Parámetros (KNN, Submuestreado):\", mejores_parametros_knn_submuestreado)\n",
    "print(\"MAE en el Conjunto de Entrenamiento (KNN, Submuestreado):\", mae_entrenamiento_knn_submuestreado)\n",
    "print(\"MAE en el Conjunto de Validación (KNN, Submuestreado):\", mae_validacion_knn_submuestreado)\n",
    "\n",
    "#Imprimimos los F1 scores en los conjuntos de entrenamiento y validación para KNN submuestreado\n",
    "print(\"F1 Score en el Conjunto de Entrenamiento (KNN, Submuestreado):\", f1_entrenamiento_knn_submuestreado)\n",
    "print(\"F1 Score en el Conjunto de Validación (KNN, Submuestreado):\", f1_validacion_knn_submuestreado)"
   ]
  },
  {
   "cell_type": "code",
   "execution_count": 149,
   "metadata": {
    "tags": []
   },
   "outputs": [
    {
     "name": "stdout",
     "output_type": "stream",
     "text": [
      "MAE en el Conjunto de Prueba (KNN): 0.2508513053348468\n",
      "F1 Score en el Conjunto de Prueba (KNN): 0.4075067024128686\n"
     ]
    }
   ],
   "source": [
    "#Calculamos el MAE en el conjunto de prueba para el modelo de KNN\n",
    "y_pred_prueba_knn = mejor_modelo_knn.predict(X_test_scaled)\n",
    "mae_prueba_knn = mean_absolute_error(y_test, y_pred_prueba_knn)\n",
    "\n",
    "#Calculamos el F1 score en el conjunto de prueba para el modelo KNN\n",
    "f1_prueba_knn = f1_score(y_test, y_pred_prueba_knn)\n",
    "\n",
    "#Imprimimos el MAE y F1 score en el conjunto de prueba para KNN\n",
    "print(\"MAE en el Conjunto de Prueba (KNN):\", mae_prueba_knn)\n",
    "print(\"F1 Score en el Conjunto de Prueba (KNN):\", f1_prueba_knn)"
   ]
  },
  {
   "cell_type": "code",
   "execution_count": 150,
   "metadata": {
    "tags": []
   },
   "outputs": [
    {
     "name": "stdout",
     "output_type": "stream",
     "text": [
      "MAE en el Conjunto de Prueba (KNN, Submuestreado): 0.2928\n",
      "F1 Score en el Conjunto de Prueba (KNN, Submuestreado): 0.7099841521394613\n"
     ]
    }
   ],
   "source": [
    "#Calculamos el MAE en el conjunto de prueba para el modelo KNN submuestreado\n",
    "y_pred_prueba_knn_submuestreado = mejor_modelo_knn_submuestreado.predict(X_test_undersampled)\n",
    "mae_prueba_knn_submuestreado = mean_absolute_error(y_test_undersampled, y_pred_prueba_knn_submuestreado)\n",
    "\n",
    "#Calculamos el F1 score en el conjunto de prueba para el modelo KNN submuestreado\n",
    "f1_prueba_knn_submuestreado = f1_score(y_test_undersampled, y_pred_prueba_knn_submuestreado)\n",
    "\n",
    "#Imprimimos el MAE y F1 score en el conjunto de prueba para KNN submuestreado\n",
    "print(\"MAE en el Conjunto de Prueba (KNN, Submuestreado):\", mae_prueba_knn_submuestreado)\n",
    "print(\"F1 Score en el Conjunto de Prueba (KNN, Submuestreado):\", f1_prueba_knn_submuestreado)"
   ]
  },
  {
   "cell_type": "markdown",
   "metadata": {},
   "source": [
    "<div class=\"alert alert-block alert-info\">\n",
    "<b>Respuesta del estudiante</b> Hecho! <a class=\"tocSkip\"></a>\n",
    "</div>"
   ]
  },
  {
   "cell_type": "markdown",
   "metadata": {},
   "source": [
    "## Conclusiones despues de los modelos"
   ]
  },
  {
   "cell_type": "markdown",
   "metadata": {},
   "source": [
    "Tras haber usado los modelos y haber hecho los respectivos procesos de preprocesamiento de datos (escalado), pudimos dar varias observaciones. Hicimos un modelo dummy que nos puede ayudar a comparar los resultados y funcionamiento de los modelos. Posteriormente usamos diferentes modelos, como es la Regresion Logistica, RandomForestClassifier, XGBoost, CatBoostClassifier, y K-Nearest Neighbors (KNN). Estos nos dieron diferentes resultados, entre los que destaca el modelo de XGBoost, excediendo las expectativas del umbral que pudimos visualizar al poder tener de referencia los MAE y F1 Score de entrenamiento y validacion en los otros modelos.XGBoost destaco con un puntaje de MAE y F1 (F1 Score en el Conjunto de Prueba (XGBoost, Balanceado): 0.7484567901234568) (MAE en el Conjunto de Prueba (XGBoost, Balanceado): 0.2608) respectivamente en el conjunto de prueba. Por lo tanto se puede concluir que dado a que los otros modelos tuvieron buenos resultados, pero no como XGBoost en el conjunto de prueba, se deberia usar. Al tener una mejor metrica de F1, podemos indicar que al ser un problema de diferencia de pesos de clases, pues el balanceado tuvo efecto. Se recomienda que los datos sean balanceados y escalados, pues tuvieron mejores resultados que los datos que no pasaron por este proceso."
   ]
  },
  {
   "cell_type": "markdown",
   "metadata": {},
   "source": [
    "# Conclusiones Del Proyecto"
   ]
  },
  {
   "cell_type": "markdown",
   "metadata": {},
   "source": [
    "- Pasos Realizados y Omisión de Algunos:\n",
    "\n",
    "En el proceso, llevamos a cabo varias tareas. Primero, modificamos los nombres de las columnas para hacerlos más legibles y estandarizados. Además, simplificamos la conversión de valores binarios ('yes' o 'no') a valores numéricos (1 o 0), lo que nos ahorrará recursos de cómputo más adelante. Esto facilitará la codificación con herramientas como OHE u OrdinalEncoder, ya que no tendremos que preocuparnos por estas columnas.\n",
    "\n",
    "- Desafíos y Soluciones:\n",
    "\n",
    "En el camino, enfrentamos ciertas dificultades típicas de la limpieza y el análisis de datos. Manejar los valores faltantes y adaptar el formato de las columnas fueron algunas de las tareas que demandaron tiempo. Utilizamos métodos estándar para superar estos obstáculos.\n",
    "\n",
    "- Pasos Clave:\n",
    "\n",
    "Varios pasos se destacaron durante el proceso. La limpieza y preparación de datos fue crucial, lo que incluyó el cambio de nombres de columnas y la codificación de valores binarios. Además, realizamos un análisis exploratorio de datos para comprender mejor la información y generamos visualizaciones útiles. También aplicamos técnicas de codificación para preparar datos categóricos para su uso en modelos. La evaluación de varios modelos de machine learning y la comparación de sus resultados fue un punto crucial en nuestro enfoque.\n",
    "\n",
    "- Balanceo de Clases (Submuestreo) como Paso Clave:\n",
    "\n",
    "Uno de los pasos clave que merece mención especial fue el balanceo de clases. Dado que teníamos una diferencia en la importancia de las clases, abordamos este problema para asegurarnos de que nuestro modelo se ajustara de manera equitativa y precisa a ambas clases. Este proceso resultó ser esencial para mejorar la calidad de nuestras predicciones.\n",
    "\n",
    "- Modelo Final y Calidad:\n",
    "\n",
    "El modelo XGBoost surgió como nuestro favorito. En las pruebas, obtuvo un puntaje de F1 de alrededor de 0.748 y un MAE de aproximadamente 0.2608 en el conjunto de prueba. Esto indicó un rendimiento sólido en la tarea de clasificación. El balanceo de clases contribuyó significativamente a este rendimiento equilibrado y mejorado del modelo. Es importante destacar que la calidad de un modelo puede depender de las particularidades del conjunto de datos y de las métricas de evaluación elegidas. Nuestro modelo XGBoost sobresalió en parte gracias al equilibrio de clases, resaltando la importancia de este proceso en nuestro enfoque."
   ]
  }
 ],
 "metadata": {
  "kernelspec": {
   "display_name": "Python 3 (ipykernel)",
   "language": "python",
   "name": "python3"
  },
  "language_info": {
   "codemirror_mode": {
    "name": "ipython",
    "version": 3
   },
   "file_extension": ".py",
   "mimetype": "text/x-python",
   "name": "python",
   "nbconvert_exporter": "python",
   "pygments_lexer": "ipython3",
   "version": "3.9.5"
  },
  "toc": {
   "base_numbering": 1,
   "nav_menu": {},
   "number_sections": true,
   "sideBar": true,
   "skip_h1_title": true,
   "title_cell": "Table of Contents",
   "title_sidebar": "Contents",
   "toc_cell": false,
   "toc_position": {},
   "toc_section_display": true,
   "toc_window_display": false
  }
 },
 "nbformat": 4,
 "nbformat_minor": 4
}
