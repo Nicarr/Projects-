{
 "cells": [
  {
   "cell_type": "markdown",
   "metadata": {},
   "source": [
    "**Code reviewer**\n",
    "\n",
    "¡Hola en esta nueva aventura!\n",
    "\n",
    "Mi nombre es **Ivan Hernandez** y seré tu revisor de código para este proyecto.\n",
    "\n",
    "Revisaré todo el cuaderno con preguntas o comentarios dejados atrás. Te animo a responder los comentarios con cualquier duda o solución a la recomendación o problema presentado **(con la celda en color azul)**, esa es la mejor manera de entender y aprender en este nuevo mundo de datos y programación. Seguiré la misma lista de verificación y los mismos pasos en los criterios de evaluación del proyecto.\n",
    "\n",
    " Importante, <span style=\"color:red\">por favor no cambies mis comentarios</span>, es una buena forma de seguir tu aprendizaje por mí y otros revisores de código y finalmente, pongo un ejemplo del color del código y su significado."
   ]
  },
  {
   "cell_type": "markdown",
   "metadata": {},
   "source": [
    "<div class=\"alert alert-success\">\n",
    "<h2> Comentarios del revisor </h2>\n",
    "Excelente trabajo y ejecución\n",
    "</div>"
   ]
  },
  {
   "cell_type": "markdown",
   "metadata": {},
   "source": [
    "<div class=\"alert alert-warning\">\n",
    "<h2> Comentarios del revisor </h2>\n",
    "Comentario no crítico; si hay menos de tres de tales comentarios, el proyecto puede aceptarse sin su refinamiento.</div>"
   ]
  },
  {
   "cell_type": "markdown",
   "metadata": {},
   "source": [
    "<div class=\"alert alert-danger\">\n",
    "<h2> Comentarios del revisor </h2>\n",
    "Error que debe corregirse, de lo contrario el proyecto no será aceptado.\n",
    "</div>"
   ]
  },
  {
   "cell_type": "markdown",
   "metadata": {},
   "source": [
    "<div class=\"alert alert-info\">\n",
    "<h2> Comentarios del estudiante</h2>\n",
    "Comentario de ejemplo\n",
    "</div>"
   ]
  },
  {
   "cell_type": "markdown",
   "metadata": {},
   "source": [
    "**Retroalimentación general  V1**\n",
    "\n",
    "Hay un par de errores importantes a corregir que dejé descritos, espero que sirvan de mucha ayuda y si estás muy perdido no dudes en escribirle a tú tutor/instructor con el pantallazo de los errores descritos en el proyecto. \n",
    "\n",
    "Mucha suerte!"
   ]
  },
  {
   "cell_type": "markdown",
   "metadata": {},
   "source": [
    "**Retroalimentación general  V2**\n",
    "\n",
    "Muy buen proyecto, todo claro y las correcciones hechas."
   ]
  },
  {
   "cell_type": "markdown",
   "metadata": {},
   "source": [
    "# Análisis del riesgo de incumplimiento de los prestatarios\n",
    "\n",
    "Tu proyecto consiste en preparar un informe para la división de préstamos de un banco. Deberás averiguar si el estado civil y el número de hijos de un cliente tienen un impacto en el incumplimiento de pago de un préstamo. El banco ya tiene algunos datos sobre la solvencia crediticia de los clientes.\n",
    "\n",
    "Tu informe se tendrá en cuenta al crear una **puntuación de crédito** para un cliente potencial. La **puntuación de crédito** se utiliza para evaluar la capacidad de un prestatario potencial para pagar su préstamo.\n",
    "\n",
    "En el siguiente proyecto intentare considerar si los clientes son aptos o elegibles para un prestamo, dependiendo de diferentes caracteristicas que puedan alterar su eligibilidad."
   ]
  },
  {
   "cell_type": "markdown",
   "metadata": {},
   "source": [
    "<div class=\"alert alert-danger\">\n",
    "<h2> Comentarios del revisor </h2>\n",
    "\n",
    "Justo como dice el enunciado, no olvides eliminar los comentarios con corchetes cuadrados [].\n",
    "</div>"
   ]
  },
  {
   "cell_type": "markdown",
   "metadata": {},
   "source": [
    "<div class=\"alert alert-info\">\n",
    "<h2> Comentarios del estudiante</h2>\n",
    "Hecho.\n",
    "</div>"
   ]
  },
  {
   "cell_type": "markdown",
   "metadata": {},
   "source": [
    "## Abre el archivo de datos y mira la información general. \n",
    "\n",
    "Comienzo por importar las librerias y leer el siguiente csv."
   ]
  },
  {
   "cell_type": "code",
   "execution_count": 1,
   "metadata": {
    "scrolled": true
   },
   "outputs": [],
   "source": [
    "import pandas as pd"
   ]
  },
  {
   "cell_type": "code",
   "execution_count": 2,
   "metadata": {},
   "outputs": [],
   "source": [
    "general_data = pd.read_csv('/datasets/credit_scoring_eng.csv')"
   ]
  },
  {
   "cell_type": "markdown",
   "metadata": {},
   "source": [
    "<div class=\"alert alert-danger\">\n",
    "<h2> Comentarios del revisor </h2>\n",
    "\n",
    "Importante que separes la importación de la carga de datos en celdas diferentes, luego cuando trabajes con muchas librerías te ayudará a tener más orden.\n",
    "</div>"
   ]
  },
  {
   "cell_type": "markdown",
   "metadata": {},
   "source": [
    "<div class=\"alert alert-info\">\n",
    "<h2> Comentarios del estudiante</h2>\n",
    "Listo.\n",
    "</div>"
   ]
  },
  {
   "cell_type": "markdown",
   "metadata": {},
   "source": [
    "## Ejercicio 1. Exploración de datos\n",
    "\n",
    "**Descripción de los datos**\n",
    "- `children` - el número de hijos en la familia\n",
    "- `days_employed` - experiencia laboral en días\n",
    "- `dob_years` - la edad del cliente en años\n",
    "- `education` - la educación del cliente\n",
    "- `education_id` - identificador de educación\n",
    "- `family_status` - estado civil\n",
    "- `family_status_id` - identificador de estado civil\n",
    "- `gender` - género del cliente\n",
    "- `income_type` - tipo de empleo\n",
    "- `debt` - ¿había alguna deuda en el pago de un préstamo?\n",
    "- `total_income` - ingreso mensual\n",
    "- `purpose` - el propósito de obtener un préstamo\n",
    "\n",
    "Se puede notar que hay 21525 entradas, es decir, filas, y 12 columnas."
   ]
  },
  {
   "cell_type": "code",
   "execution_count": 3,
   "metadata": {},
   "outputs": [
    {
     "name": "stdout",
     "output_type": "stream",
     "text": [
      "<class 'pandas.core.frame.DataFrame'>\n",
      "RangeIndex: 21525 entries, 0 to 21524\n",
      "Data columns (total 12 columns):\n",
      " #   Column            Non-Null Count  Dtype  \n",
      "---  ------            --------------  -----  \n",
      " 0   children          21525 non-null  int64  \n",
      " 1   days_employed     19351 non-null  float64\n",
      " 2   dob_years         21525 non-null  int64  \n",
      " 3   education         21525 non-null  object \n",
      " 4   education_id      21525 non-null  int64  \n",
      " 5   family_status     21525 non-null  object \n",
      " 6   family_status_id  21525 non-null  int64  \n",
      " 7   gender            21525 non-null  object \n",
      " 8   income_type       21525 non-null  object \n",
      " 9   debt              21525 non-null  int64  \n",
      " 10  total_income      19351 non-null  float64\n",
      " 11  purpose           21525 non-null  object \n",
      "dtypes: float64(2), int64(5), object(5)\n",
      "memory usage: 2.0+ MB\n"
     ]
    }
   ],
   "source": [
    "general_data.info()"
   ]
  },
  {
   "cell_type": "code",
   "execution_count": 4,
   "metadata": {
    "scrolled": true
   },
   "outputs": [
    {
     "data": {
      "text/html": [
       "<div>\n",
       "<style scoped>\n",
       "    .dataframe tbody tr th:only-of-type {\n",
       "        vertical-align: middle;\n",
       "    }\n",
       "\n",
       "    .dataframe tbody tr th {\n",
       "        vertical-align: top;\n",
       "    }\n",
       "\n",
       "    .dataframe thead th {\n",
       "        text-align: right;\n",
       "    }\n",
       "</style>\n",
       "<table border=\"1\" class=\"dataframe\">\n",
       "  <thead>\n",
       "    <tr style=\"text-align: right;\">\n",
       "      <th></th>\n",
       "      <th>children</th>\n",
       "      <th>days_employed</th>\n",
       "      <th>dob_years</th>\n",
       "      <th>education</th>\n",
       "      <th>education_id</th>\n",
       "      <th>family_status</th>\n",
       "      <th>family_status_id</th>\n",
       "      <th>gender</th>\n",
       "      <th>income_type</th>\n",
       "      <th>debt</th>\n",
       "      <th>total_income</th>\n",
       "      <th>purpose</th>\n",
       "    </tr>\n",
       "  </thead>\n",
       "  <tbody>\n",
       "    <tr>\n",
       "      <th>0</th>\n",
       "      <td>1</td>\n",
       "      <td>-8437.673028</td>\n",
       "      <td>42</td>\n",
       "      <td>bachelor's degree</td>\n",
       "      <td>0</td>\n",
       "      <td>married</td>\n",
       "      <td>0</td>\n",
       "      <td>F</td>\n",
       "      <td>employee</td>\n",
       "      <td>0</td>\n",
       "      <td>40620.102</td>\n",
       "      <td>purchase of the house</td>\n",
       "    </tr>\n",
       "    <tr>\n",
       "      <th>1</th>\n",
       "      <td>1</td>\n",
       "      <td>-4024.803754</td>\n",
       "      <td>36</td>\n",
       "      <td>secondary education</td>\n",
       "      <td>1</td>\n",
       "      <td>married</td>\n",
       "      <td>0</td>\n",
       "      <td>F</td>\n",
       "      <td>employee</td>\n",
       "      <td>0</td>\n",
       "      <td>17932.802</td>\n",
       "      <td>car purchase</td>\n",
       "    </tr>\n",
       "    <tr>\n",
       "      <th>2</th>\n",
       "      <td>0</td>\n",
       "      <td>-5623.422610</td>\n",
       "      <td>33</td>\n",
       "      <td>Secondary Education</td>\n",
       "      <td>1</td>\n",
       "      <td>married</td>\n",
       "      <td>0</td>\n",
       "      <td>M</td>\n",
       "      <td>employee</td>\n",
       "      <td>0</td>\n",
       "      <td>23341.752</td>\n",
       "      <td>purchase of the house</td>\n",
       "    </tr>\n",
       "    <tr>\n",
       "      <th>3</th>\n",
       "      <td>3</td>\n",
       "      <td>-4124.747207</td>\n",
       "      <td>32</td>\n",
       "      <td>secondary education</td>\n",
       "      <td>1</td>\n",
       "      <td>married</td>\n",
       "      <td>0</td>\n",
       "      <td>M</td>\n",
       "      <td>employee</td>\n",
       "      <td>0</td>\n",
       "      <td>42820.568</td>\n",
       "      <td>supplementary education</td>\n",
       "    </tr>\n",
       "    <tr>\n",
       "      <th>4</th>\n",
       "      <td>0</td>\n",
       "      <td>340266.072047</td>\n",
       "      <td>53</td>\n",
       "      <td>secondary education</td>\n",
       "      <td>1</td>\n",
       "      <td>civil partnership</td>\n",
       "      <td>1</td>\n",
       "      <td>F</td>\n",
       "      <td>retiree</td>\n",
       "      <td>0</td>\n",
       "      <td>25378.572</td>\n",
       "      <td>to have a wedding</td>\n",
       "    </tr>\n",
       "    <tr>\n",
       "      <th>5</th>\n",
       "      <td>0</td>\n",
       "      <td>-926.185831</td>\n",
       "      <td>27</td>\n",
       "      <td>bachelor's degree</td>\n",
       "      <td>0</td>\n",
       "      <td>civil partnership</td>\n",
       "      <td>1</td>\n",
       "      <td>M</td>\n",
       "      <td>business</td>\n",
       "      <td>0</td>\n",
       "      <td>40922.170</td>\n",
       "      <td>purchase of the house</td>\n",
       "    </tr>\n",
       "    <tr>\n",
       "      <th>6</th>\n",
       "      <td>0</td>\n",
       "      <td>-2879.202052</td>\n",
       "      <td>43</td>\n",
       "      <td>bachelor's degree</td>\n",
       "      <td>0</td>\n",
       "      <td>married</td>\n",
       "      <td>0</td>\n",
       "      <td>F</td>\n",
       "      <td>business</td>\n",
       "      <td>0</td>\n",
       "      <td>38484.156</td>\n",
       "      <td>housing transactions</td>\n",
       "    </tr>\n",
       "    <tr>\n",
       "      <th>7</th>\n",
       "      <td>0</td>\n",
       "      <td>-152.779569</td>\n",
       "      <td>50</td>\n",
       "      <td>SECONDARY EDUCATION</td>\n",
       "      <td>1</td>\n",
       "      <td>married</td>\n",
       "      <td>0</td>\n",
       "      <td>M</td>\n",
       "      <td>employee</td>\n",
       "      <td>0</td>\n",
       "      <td>21731.829</td>\n",
       "      <td>education</td>\n",
       "    </tr>\n",
       "    <tr>\n",
       "      <th>8</th>\n",
       "      <td>2</td>\n",
       "      <td>-6929.865299</td>\n",
       "      <td>35</td>\n",
       "      <td>BACHELOR'S DEGREE</td>\n",
       "      <td>0</td>\n",
       "      <td>civil partnership</td>\n",
       "      <td>1</td>\n",
       "      <td>F</td>\n",
       "      <td>employee</td>\n",
       "      <td>0</td>\n",
       "      <td>15337.093</td>\n",
       "      <td>having a wedding</td>\n",
       "    </tr>\n",
       "    <tr>\n",
       "      <th>9</th>\n",
       "      <td>0</td>\n",
       "      <td>-2188.756445</td>\n",
       "      <td>41</td>\n",
       "      <td>secondary education</td>\n",
       "      <td>1</td>\n",
       "      <td>married</td>\n",
       "      <td>0</td>\n",
       "      <td>M</td>\n",
       "      <td>employee</td>\n",
       "      <td>0</td>\n",
       "      <td>23108.150</td>\n",
       "      <td>purchase of the house for my family</td>\n",
       "    </tr>\n",
       "  </tbody>\n",
       "</table>\n",
       "</div>"
      ],
      "text/plain": [
       "   children  days_employed  dob_years            education  education_id  \\\n",
       "0         1   -8437.673028         42    bachelor's degree             0   \n",
       "1         1   -4024.803754         36  secondary education             1   \n",
       "2         0   -5623.422610         33  Secondary Education             1   \n",
       "3         3   -4124.747207         32  secondary education             1   \n",
       "4         0  340266.072047         53  secondary education             1   \n",
       "5         0    -926.185831         27    bachelor's degree             0   \n",
       "6         0   -2879.202052         43    bachelor's degree             0   \n",
       "7         0    -152.779569         50  SECONDARY EDUCATION             1   \n",
       "8         2   -6929.865299         35    BACHELOR'S DEGREE             0   \n",
       "9         0   -2188.756445         41  secondary education             1   \n",
       "\n",
       "       family_status  family_status_id gender income_type  debt  total_income  \\\n",
       "0            married                 0      F    employee     0     40620.102   \n",
       "1            married                 0      F    employee     0     17932.802   \n",
       "2            married                 0      M    employee     0     23341.752   \n",
       "3            married                 0      M    employee     0     42820.568   \n",
       "4  civil partnership                 1      F     retiree     0     25378.572   \n",
       "5  civil partnership                 1      M    business     0     40922.170   \n",
       "6            married                 0      F    business     0     38484.156   \n",
       "7            married                 0      M    employee     0     21731.829   \n",
       "8  civil partnership                 1      F    employee     0     15337.093   \n",
       "9            married                 0      M    employee     0     23108.150   \n",
       "\n",
       "                               purpose  \n",
       "0                purchase of the house  \n",
       "1                         car purchase  \n",
       "2                purchase of the house  \n",
       "3              supplementary education  \n",
       "4                    to have a wedding  \n",
       "5                purchase of the house  \n",
       "6                 housing transactions  \n",
       "7                            education  \n",
       "8                     having a wedding  \n",
       "9  purchase of the house for my family  "
      ]
     },
     "execution_count": 4,
     "metadata": {},
     "output_type": "execute_result"
    }
   ],
   "source": [
    "general_data.head(10)\n",
    "\n"
   ]
  },
  {
   "cell_type": "markdown",
   "metadata": {},
   "source": [
    "Se nota que hay valores ausentes al ver que hay ciertos datos que no se muestran o no son simetricos con las demas columnas, en este caso en days_employed y total_income."
   ]
  },
  {
   "cell_type": "code",
   "execution_count": 5,
   "metadata": {
    "scrolled": false
   },
   "outputs": [
    {
     "data": {
      "text/plain": [
       "children               0\n",
       "days_employed       2174\n",
       "dob_years              0\n",
       "education              0\n",
       "education_id           0\n",
       "family_status          0\n",
       "family_status_id       0\n",
       "gender                 0\n",
       "income_type            0\n",
       "debt                   0\n",
       "total_income        2174\n",
       "purpose                0\n",
       "dtype: int64"
      ]
     },
     "execution_count": 5,
     "metadata": {},
     "output_type": "execute_result"
    }
   ],
   "source": [
    "general_data.isnull().sum()\n"
   ]
  },
  {
   "cell_type": "markdown",
   "metadata": {},
   "source": [
    "Parece que los valores ausentes son simetricos, pues tienen algun tipo de correlacion ya que siempre cuando days_employed es NaN, total_income tambien lo sera."
   ]
  },
  {
   "cell_type": "code",
   "execution_count": 6,
   "metadata": {
    "scrolled": true
   },
   "outputs": [
    {
     "data": {
      "text/html": [
       "<div>\n",
       "<style scoped>\n",
       "    .dataframe tbody tr th:only-of-type {\n",
       "        vertical-align: middle;\n",
       "    }\n",
       "\n",
       "    .dataframe tbody tr th {\n",
       "        vertical-align: top;\n",
       "    }\n",
       "\n",
       "    .dataframe thead th {\n",
       "        text-align: right;\n",
       "    }\n",
       "</style>\n",
       "<table border=\"1\" class=\"dataframe\">\n",
       "  <thead>\n",
       "    <tr style=\"text-align: right;\">\n",
       "      <th></th>\n",
       "      <th>children</th>\n",
       "      <th>days_employed</th>\n",
       "      <th>dob_years</th>\n",
       "      <th>education</th>\n",
       "      <th>education_id</th>\n",
       "      <th>family_status</th>\n",
       "      <th>family_status_id</th>\n",
       "      <th>gender</th>\n",
       "      <th>income_type</th>\n",
       "      <th>debt</th>\n",
       "      <th>total_income</th>\n",
       "      <th>purpose</th>\n",
       "    </tr>\n",
       "  </thead>\n",
       "  <tbody>\n",
       "    <tr>\n",
       "      <th>12</th>\n",
       "      <td>0</td>\n",
       "      <td>NaN</td>\n",
       "      <td>65</td>\n",
       "      <td>secondary education</td>\n",
       "      <td>1</td>\n",
       "      <td>civil partnership</td>\n",
       "      <td>1</td>\n",
       "      <td>M</td>\n",
       "      <td>retiree</td>\n",
       "      <td>0</td>\n",
       "      <td>NaN</td>\n",
       "      <td>to have a wedding</td>\n",
       "    </tr>\n",
       "    <tr>\n",
       "      <th>26</th>\n",
       "      <td>0</td>\n",
       "      <td>NaN</td>\n",
       "      <td>41</td>\n",
       "      <td>secondary education</td>\n",
       "      <td>1</td>\n",
       "      <td>married</td>\n",
       "      <td>0</td>\n",
       "      <td>M</td>\n",
       "      <td>civil servant</td>\n",
       "      <td>0</td>\n",
       "      <td>NaN</td>\n",
       "      <td>education</td>\n",
       "    </tr>\n",
       "    <tr>\n",
       "      <th>29</th>\n",
       "      <td>0</td>\n",
       "      <td>NaN</td>\n",
       "      <td>63</td>\n",
       "      <td>secondary education</td>\n",
       "      <td>1</td>\n",
       "      <td>unmarried</td>\n",
       "      <td>4</td>\n",
       "      <td>F</td>\n",
       "      <td>retiree</td>\n",
       "      <td>0</td>\n",
       "      <td>NaN</td>\n",
       "      <td>building a real estate</td>\n",
       "    </tr>\n",
       "    <tr>\n",
       "      <th>41</th>\n",
       "      <td>0</td>\n",
       "      <td>NaN</td>\n",
       "      <td>50</td>\n",
       "      <td>secondary education</td>\n",
       "      <td>1</td>\n",
       "      <td>married</td>\n",
       "      <td>0</td>\n",
       "      <td>F</td>\n",
       "      <td>civil servant</td>\n",
       "      <td>0</td>\n",
       "      <td>NaN</td>\n",
       "      <td>second-hand car purchase</td>\n",
       "    </tr>\n",
       "    <tr>\n",
       "      <th>55</th>\n",
       "      <td>0</td>\n",
       "      <td>NaN</td>\n",
       "      <td>54</td>\n",
       "      <td>secondary education</td>\n",
       "      <td>1</td>\n",
       "      <td>civil partnership</td>\n",
       "      <td>1</td>\n",
       "      <td>F</td>\n",
       "      <td>retiree</td>\n",
       "      <td>1</td>\n",
       "      <td>NaN</td>\n",
       "      <td>to have a wedding</td>\n",
       "    </tr>\n",
       "    <tr>\n",
       "      <th>...</th>\n",
       "      <td>...</td>\n",
       "      <td>...</td>\n",
       "      <td>...</td>\n",
       "      <td>...</td>\n",
       "      <td>...</td>\n",
       "      <td>...</td>\n",
       "      <td>...</td>\n",
       "      <td>...</td>\n",
       "      <td>...</td>\n",
       "      <td>...</td>\n",
       "      <td>...</td>\n",
       "      <td>...</td>\n",
       "    </tr>\n",
       "    <tr>\n",
       "      <th>21489</th>\n",
       "      <td>2</td>\n",
       "      <td>NaN</td>\n",
       "      <td>47</td>\n",
       "      <td>Secondary Education</td>\n",
       "      <td>1</td>\n",
       "      <td>married</td>\n",
       "      <td>0</td>\n",
       "      <td>M</td>\n",
       "      <td>business</td>\n",
       "      <td>0</td>\n",
       "      <td>NaN</td>\n",
       "      <td>purchase of a car</td>\n",
       "    </tr>\n",
       "    <tr>\n",
       "      <th>21495</th>\n",
       "      <td>1</td>\n",
       "      <td>NaN</td>\n",
       "      <td>50</td>\n",
       "      <td>secondary education</td>\n",
       "      <td>1</td>\n",
       "      <td>civil partnership</td>\n",
       "      <td>1</td>\n",
       "      <td>F</td>\n",
       "      <td>employee</td>\n",
       "      <td>0</td>\n",
       "      <td>NaN</td>\n",
       "      <td>wedding ceremony</td>\n",
       "    </tr>\n",
       "    <tr>\n",
       "      <th>21497</th>\n",
       "      <td>0</td>\n",
       "      <td>NaN</td>\n",
       "      <td>48</td>\n",
       "      <td>BACHELOR'S DEGREE</td>\n",
       "      <td>0</td>\n",
       "      <td>married</td>\n",
       "      <td>0</td>\n",
       "      <td>F</td>\n",
       "      <td>business</td>\n",
       "      <td>0</td>\n",
       "      <td>NaN</td>\n",
       "      <td>building a property</td>\n",
       "    </tr>\n",
       "    <tr>\n",
       "      <th>21502</th>\n",
       "      <td>1</td>\n",
       "      <td>NaN</td>\n",
       "      <td>42</td>\n",
       "      <td>secondary education</td>\n",
       "      <td>1</td>\n",
       "      <td>married</td>\n",
       "      <td>0</td>\n",
       "      <td>F</td>\n",
       "      <td>employee</td>\n",
       "      <td>0</td>\n",
       "      <td>NaN</td>\n",
       "      <td>building a real estate</td>\n",
       "    </tr>\n",
       "    <tr>\n",
       "      <th>21510</th>\n",
       "      <td>2</td>\n",
       "      <td>NaN</td>\n",
       "      <td>28</td>\n",
       "      <td>secondary education</td>\n",
       "      <td>1</td>\n",
       "      <td>married</td>\n",
       "      <td>0</td>\n",
       "      <td>F</td>\n",
       "      <td>employee</td>\n",
       "      <td>0</td>\n",
       "      <td>NaN</td>\n",
       "      <td>car purchase</td>\n",
       "    </tr>\n",
       "  </tbody>\n",
       "</table>\n",
       "<p>2174 rows × 12 columns</p>\n",
       "</div>"
      ],
      "text/plain": [
       "       children  days_employed  dob_years            education  education_id  \\\n",
       "12            0            NaN         65  secondary education             1   \n",
       "26            0            NaN         41  secondary education             1   \n",
       "29            0            NaN         63  secondary education             1   \n",
       "41            0            NaN         50  secondary education             1   \n",
       "55            0            NaN         54  secondary education             1   \n",
       "...         ...            ...        ...                  ...           ...   \n",
       "21489         2            NaN         47  Secondary Education             1   \n",
       "21495         1            NaN         50  secondary education             1   \n",
       "21497         0            NaN         48    BACHELOR'S DEGREE             0   \n",
       "21502         1            NaN         42  secondary education             1   \n",
       "21510         2            NaN         28  secondary education             1   \n",
       "\n",
       "           family_status  family_status_id gender    income_type  debt  \\\n",
       "12     civil partnership                 1      M        retiree     0   \n",
       "26               married                 0      M  civil servant     0   \n",
       "29             unmarried                 4      F        retiree     0   \n",
       "41               married                 0      F  civil servant     0   \n",
       "55     civil partnership                 1      F        retiree     1   \n",
       "...                  ...               ...    ...            ...   ...   \n",
       "21489            married                 0      M       business     0   \n",
       "21495  civil partnership                 1      F       employee     0   \n",
       "21497            married                 0      F       business     0   \n",
       "21502            married                 0      F       employee     0   \n",
       "21510            married                 0      F       employee     0   \n",
       "\n",
       "       total_income                   purpose  \n",
       "12              NaN         to have a wedding  \n",
       "26              NaN                 education  \n",
       "29              NaN    building a real estate  \n",
       "41              NaN  second-hand car purchase  \n",
       "55              NaN         to have a wedding  \n",
       "...             ...                       ...  \n",
       "21489           NaN         purchase of a car  \n",
       "21495           NaN          wedding ceremony  \n",
       "21497           NaN       building a property  \n",
       "21502           NaN    building a real estate  \n",
       "21510           NaN              car purchase  \n",
       "\n",
       "[2174 rows x 12 columns]"
      ]
     },
     "execution_count": 6,
     "metadata": {},
     "output_type": "execute_result"
    }
   ],
   "source": [
    "general_data[general_data['days_employed'].isna()]\n",
    "\n"
   ]
  },
  {
   "cell_type": "markdown",
   "metadata": {},
   "source": [
    "Pues parece que la hipotesis de que ambas columnas tienen una correlacion, por lo que se puede hacer mayor investigacion para poder ver si tienen algun tipo de relacion con otro tipo de columnas, de esta manera podiendo ayudar en el proceso de lidiar con los valores ausentes."
   ]
  },
  {
   "cell_type": "code",
   "execution_count": 7,
   "metadata": {},
   "outputs": [
    {
     "name": "stdout",
     "output_type": "stream",
     "text": [
      "<class 'pandas.core.frame.DataFrame'>\n",
      "Int64Index: 2174 entries, 12 to 21510\n",
      "Data columns (total 12 columns):\n",
      " #   Column            Non-Null Count  Dtype  \n",
      "---  ------            --------------  -----  \n",
      " 0   children          2174 non-null   int64  \n",
      " 1   days_employed     0 non-null      float64\n",
      " 2   dob_years         2174 non-null   int64  \n",
      " 3   education         2174 non-null   object \n",
      " 4   education_id      2174 non-null   int64  \n",
      " 5   family_status     2174 non-null   object \n",
      " 6   family_status_id  2174 non-null   int64  \n",
      " 7   gender            2174 non-null   object \n",
      " 8   income_type       2174 non-null   object \n",
      " 9   debt              2174 non-null   int64  \n",
      " 10  total_income      0 non-null      float64\n",
      " 11  purpose           2174 non-null   object \n",
      "dtypes: float64(2), int64(5), object(5)\n",
      "memory usage: 220.8+ KB\n"
     ]
    }
   ],
   "source": [
    "missing_values = general_data[(general_data['days_employed'].isna()) & (general_data['total_income'].isna())]\n",
    "missing_values.info()"
   ]
  },
  {
   "cell_type": "markdown",
   "metadata": {},
   "source": [
    "<div class=\"alert alert-success\">\n",
    "<h2> Comentarios del revisor </h2>\n",
    "\n",
    "Muy buen trabajo!\n",
    "</div>"
   ]
  },
  {
   "cell_type": "markdown",
   "metadata": {},
   "source": [
    "**Conclusión intermedia**\n",
    "\n",
    "Pues para poder ver la relacion es mejor sacar un porcentaje de la cantidad de valores ausentes en relacion a la totalidad de datos en el dataframe, por lo que voy a usar f-strings para poder mostrar el porcentaje de valores ausentes. Si este llegase a ser mas de 10%, puede significar que tenga algo de relevancia para nuestra investigacion.\n",
    "\n",
    "En este caso voy a tomar de referencia a la columna de \"education\", pues creo que puede tener algo que ver con el tipo de educacion que tiene cada individuo."
   ]
  },
  {
   "cell_type": "code",
   "execution_count": 8,
   "metadata": {},
   "outputs": [
    {
     "name": "stdout",
     "output_type": "stream",
     "text": [
      "El porcentaje de valores ausentes en comparacion a la totalidad de datos es: 10.099884%.\n"
     ]
    }
   ],
   "source": [
    "total_missing_values = (len(general_data[general_data['days_employed'].isna()])) & (len(general_data[general_data['total_income'].isna()]))\n",
    "total_values = len(general_data)\n",
    "missing_values_percentage = (total_missing_values/total_values)\n",
    "print(f'El porcentaje de valores ausentes en comparacion a la totalidad de datos es: {missing_values_percentage:%}.')"
   ]
  },
  {
   "cell_type": "code",
   "execution_count": 9,
   "metadata": {},
   "outputs": [
    {
     "data": {
      "text/plain": [
       "array([\"bachelor's degree\", 'secondary education', 'Secondary Education',\n",
       "       'SECONDARY EDUCATION', \"BACHELOR'S DEGREE\", 'some college',\n",
       "       'primary education', \"Bachelor's Degree\", 'SOME COLLEGE',\n",
       "       'Some College', 'PRIMARY EDUCATION', 'Primary Education',\n",
       "       'Graduate Degree', 'GRADUATE DEGREE', 'graduate degree'],\n",
       "      dtype=object)"
      ]
     },
     "execution_count": 9,
     "metadata": {},
     "output_type": "execute_result"
    }
   ],
   "source": [
    "general_data['education'].unique()"
   ]
  },
  {
   "cell_type": "code",
   "execution_count": 10,
   "metadata": {},
   "outputs": [
    {
     "data": {
      "text/plain": [
       "array([\"bachelor's degree\", 'secondary education', 'some college',\n",
       "       'primary education', 'graduate degree'], dtype=object)"
      ]
     },
     "execution_count": 10,
     "metadata": {},
     "output_type": "execute_result"
    }
   ],
   "source": [
    "general_data['education'] = general_data['education'].str.lower()\n",
    "general_data['education'].unique()"
   ]
  },
  {
   "cell_type": "code",
   "execution_count": 11,
   "metadata": {},
   "outputs": [
    {
     "name": "stdout",
     "output_type": "stream",
     "text": [
      "1540\n",
      "21\n",
      "544\n",
      "69\n"
     ]
    },
    {
     "data": {
      "text/plain": [
       "2174"
      ]
     },
     "execution_count": 11,
     "metadata": {},
     "output_type": "execute_result"
    }
   ],
   "source": [
    "second_edu_mv = len(general_data[(general_data['education'] == \"secondary education\") & (general_data['days_employed'].isna())])\n",
    "prim_edu_mv = len(general_data[(general_data['education'] == \"primary education\") & (general_data['days_employed'].isna())])\n",
    "bach_degree_mv = len(general_data[(general_data['education'] == \"bachelor's degree\") & (general_data['days_employed'].isna())])\n",
    "some_college_mv = len(general_data[(general_data['education'] == \"some college\") & (general_data['days_employed'].isna())])\n",
    "total_ed_missing_values = (second_edu_mv+prim_edu_mv+bach_degree_mv+some_college_mv)\n",
    "print(second_edu_mv)\n",
    "print(prim_edu_mv)\n",
    "print(bach_degree_mv)\n",
    "print(some_college_mv)\n",
    "total_ed_missing_values"
   ]
  },
  {
   "cell_type": "code",
   "execution_count": 12,
   "metadata": {},
   "outputs": [
    {
     "data": {
      "text/html": [
       "<div>\n",
       "<style scoped>\n",
       "    .dataframe tbody tr th:only-of-type {\n",
       "        vertical-align: middle;\n",
       "    }\n",
       "\n",
       "    .dataframe tbody tr th {\n",
       "        vertical-align: top;\n",
       "    }\n",
       "\n",
       "    .dataframe thead th {\n",
       "        text-align: right;\n",
       "    }\n",
       "</style>\n",
       "<table border=\"1\" class=\"dataframe\">\n",
       "  <thead>\n",
       "    <tr style=\"text-align: right;\">\n",
       "      <th></th>\n",
       "      <th>children</th>\n",
       "      <th>days_employed</th>\n",
       "      <th>dob_years</th>\n",
       "      <th>education</th>\n",
       "      <th>education_id</th>\n",
       "      <th>family_status</th>\n",
       "      <th>family_status_id</th>\n",
       "      <th>gender</th>\n",
       "      <th>income_type</th>\n",
       "      <th>debt</th>\n",
       "      <th>total_income</th>\n",
       "      <th>purpose</th>\n",
       "    </tr>\n",
       "  </thead>\n",
       "  <tbody>\n",
       "    <tr>\n",
       "      <th>2963</th>\n",
       "      <td>0</td>\n",
       "      <td>337584.815560</td>\n",
       "      <td>69</td>\n",
       "      <td>graduate degree</td>\n",
       "      <td>4</td>\n",
       "      <td>married</td>\n",
       "      <td>0</td>\n",
       "      <td>M</td>\n",
       "      <td>retiree</td>\n",
       "      <td>0</td>\n",
       "      <td>15800.399</td>\n",
       "      <td>buy residential real estate</td>\n",
       "    </tr>\n",
       "    <tr>\n",
       "      <th>4170</th>\n",
       "      <td>0</td>\n",
       "      <td>-409.200149</td>\n",
       "      <td>45</td>\n",
       "      <td>graduate degree</td>\n",
       "      <td>4</td>\n",
       "      <td>unmarried</td>\n",
       "      <td>4</td>\n",
       "      <td>M</td>\n",
       "      <td>employee</td>\n",
       "      <td>0</td>\n",
       "      <td>31771.321</td>\n",
       "      <td>transactions with commercial real estate</td>\n",
       "    </tr>\n",
       "    <tr>\n",
       "      <th>6551</th>\n",
       "      <td>0</td>\n",
       "      <td>-5352.038180</td>\n",
       "      <td>58</td>\n",
       "      <td>graduate degree</td>\n",
       "      <td>4</td>\n",
       "      <td>married</td>\n",
       "      <td>0</td>\n",
       "      <td>M</td>\n",
       "      <td>employee</td>\n",
       "      <td>0</td>\n",
       "      <td>42945.794</td>\n",
       "      <td>going to university</td>\n",
       "    </tr>\n",
       "    <tr>\n",
       "      <th>12021</th>\n",
       "      <td>3</td>\n",
       "      <td>-5968.075884</td>\n",
       "      <td>36</td>\n",
       "      <td>graduate degree</td>\n",
       "      <td>4</td>\n",
       "      <td>married</td>\n",
       "      <td>0</td>\n",
       "      <td>F</td>\n",
       "      <td>civil servant</td>\n",
       "      <td>0</td>\n",
       "      <td>17822.757</td>\n",
       "      <td>purchase of the house</td>\n",
       "    </tr>\n",
       "    <tr>\n",
       "      <th>12786</th>\n",
       "      <td>0</td>\n",
       "      <td>376276.219531</td>\n",
       "      <td>62</td>\n",
       "      <td>graduate degree</td>\n",
       "      <td>4</td>\n",
       "      <td>married</td>\n",
       "      <td>0</td>\n",
       "      <td>F</td>\n",
       "      <td>retiree</td>\n",
       "      <td>0</td>\n",
       "      <td>40868.031</td>\n",
       "      <td>buy residential real estate</td>\n",
       "    </tr>\n",
       "    <tr>\n",
       "      <th>21519</th>\n",
       "      <td>1</td>\n",
       "      <td>-2351.431934</td>\n",
       "      <td>37</td>\n",
       "      <td>graduate degree</td>\n",
       "      <td>4</td>\n",
       "      <td>divorced</td>\n",
       "      <td>3</td>\n",
       "      <td>M</td>\n",
       "      <td>employee</td>\n",
       "      <td>0</td>\n",
       "      <td>18551.846</td>\n",
       "      <td>buy commercial real estate</td>\n",
       "    </tr>\n",
       "  </tbody>\n",
       "</table>\n",
       "</div>"
      ],
      "text/plain": [
       "       children  days_employed  dob_years        education  education_id  \\\n",
       "2963          0  337584.815560         69  graduate degree             4   \n",
       "4170          0    -409.200149         45  graduate degree             4   \n",
       "6551          0   -5352.038180         58  graduate degree             4   \n",
       "12021         3   -5968.075884         36  graduate degree             4   \n",
       "12786         0  376276.219531         62  graduate degree             4   \n",
       "21519         1   -2351.431934         37  graduate degree             4   \n",
       "\n",
       "      family_status  family_status_id gender    income_type  debt  \\\n",
       "2963        married                 0      M        retiree     0   \n",
       "4170      unmarried                 4      M       employee     0   \n",
       "6551        married                 0      M       employee     0   \n",
       "12021       married                 0      F  civil servant     0   \n",
       "12786       married                 0      F        retiree     0   \n",
       "21519      divorced                 3      M       employee     0   \n",
       "\n",
       "       total_income                                   purpose  \n",
       "2963      15800.399               buy residential real estate  \n",
       "4170      31771.321  transactions with commercial real estate  \n",
       "6551      42945.794                       going to university  \n",
       "12021     17822.757                     purchase of the house  \n",
       "12786     40868.031               buy residential real estate  \n",
       "21519     18551.846                buy commercial real estate  "
      ]
     },
     "execution_count": 12,
     "metadata": {},
     "output_type": "execute_result"
    }
   ],
   "source": [
    "general_data[(general_data['education'] == \"graduate degree\")]\n",
    "# Vamos a investigar a los clientes que no tienen datos sobre la característica identificada y la columna con los valores ausentes\n",
    "\n"
   ]
  },
  {
   "cell_type": "code",
   "execution_count": 13,
   "metadata": {
    "scrolled": true
   },
   "outputs": [
    {
     "data": {
      "text/html": [
       "<div>\n",
       "<style scoped>\n",
       "    .dataframe tbody tr th:only-of-type {\n",
       "        vertical-align: middle;\n",
       "    }\n",
       "\n",
       "    .dataframe tbody tr th {\n",
       "        vertical-align: top;\n",
       "    }\n",
       "\n",
       "    .dataframe thead th {\n",
       "        text-align: right;\n",
       "    }\n",
       "</style>\n",
       "<table border=\"1\" class=\"dataframe\">\n",
       "  <thead>\n",
       "    <tr style=\"text-align: right;\">\n",
       "      <th></th>\n",
       "      <th>children</th>\n",
       "      <th>days_employed</th>\n",
       "      <th>debt</th>\n",
       "      <th>dob_years</th>\n",
       "      <th>education_id</th>\n",
       "      <th>family_status</th>\n",
       "      <th>family_status_id</th>\n",
       "      <th>gender</th>\n",
       "      <th>income_type</th>\n",
       "      <th>purpose</th>\n",
       "      <th>total_income</th>\n",
       "    </tr>\n",
       "    <tr>\n",
       "      <th>education</th>\n",
       "      <th></th>\n",
       "      <th></th>\n",
       "      <th></th>\n",
       "      <th></th>\n",
       "      <th></th>\n",
       "      <th></th>\n",
       "      <th></th>\n",
       "      <th></th>\n",
       "      <th></th>\n",
       "      <th></th>\n",
       "      <th></th>\n",
       "    </tr>\n",
       "  </thead>\n",
       "  <tbody>\n",
       "    <tr>\n",
       "      <th>bachelor's degree</th>\n",
       "      <td>5260</td>\n",
       "      <td>4716</td>\n",
       "      <td>5260</td>\n",
       "      <td>5260</td>\n",
       "      <td>5260</td>\n",
       "      <td>5260</td>\n",
       "      <td>5260</td>\n",
       "      <td>5260</td>\n",
       "      <td>5260</td>\n",
       "      <td>5260</td>\n",
       "      <td>4716</td>\n",
       "    </tr>\n",
       "    <tr>\n",
       "      <th>graduate degree</th>\n",
       "      <td>6</td>\n",
       "      <td>6</td>\n",
       "      <td>6</td>\n",
       "      <td>6</td>\n",
       "      <td>6</td>\n",
       "      <td>6</td>\n",
       "      <td>6</td>\n",
       "      <td>6</td>\n",
       "      <td>6</td>\n",
       "      <td>6</td>\n",
       "      <td>6</td>\n",
       "    </tr>\n",
       "    <tr>\n",
       "      <th>primary education</th>\n",
       "      <td>282</td>\n",
       "      <td>261</td>\n",
       "      <td>282</td>\n",
       "      <td>282</td>\n",
       "      <td>282</td>\n",
       "      <td>282</td>\n",
       "      <td>282</td>\n",
       "      <td>282</td>\n",
       "      <td>282</td>\n",
       "      <td>282</td>\n",
       "      <td>261</td>\n",
       "    </tr>\n",
       "    <tr>\n",
       "      <th>secondary education</th>\n",
       "      <td>15233</td>\n",
       "      <td>13693</td>\n",
       "      <td>15233</td>\n",
       "      <td>15233</td>\n",
       "      <td>15233</td>\n",
       "      <td>15233</td>\n",
       "      <td>15233</td>\n",
       "      <td>15233</td>\n",
       "      <td>15233</td>\n",
       "      <td>15233</td>\n",
       "      <td>13693</td>\n",
       "    </tr>\n",
       "    <tr>\n",
       "      <th>some college</th>\n",
       "      <td>744</td>\n",
       "      <td>675</td>\n",
       "      <td>744</td>\n",
       "      <td>744</td>\n",
       "      <td>744</td>\n",
       "      <td>744</td>\n",
       "      <td>744</td>\n",
       "      <td>744</td>\n",
       "      <td>744</td>\n",
       "      <td>744</td>\n",
       "      <td>675</td>\n",
       "    </tr>\n",
       "  </tbody>\n",
       "</table>\n",
       "</div>"
      ],
      "text/plain": [
       "                     children  days_employed   debt  dob_years  education_id  \\\n",
       "education                                                                      \n",
       "bachelor's degree        5260           4716   5260       5260          5260   \n",
       "graduate degree             6              6      6          6             6   \n",
       "primary education         282            261    282        282           282   \n",
       "secondary education     15233          13693  15233      15233         15233   \n",
       "some college              744            675    744        744           744   \n",
       "\n",
       "                     family_status  family_status_id  gender  income_type  \\\n",
       "education                                                                   \n",
       "bachelor's degree             5260              5260    5260         5260   \n",
       "graduate degree                  6                 6       6            6   \n",
       "primary education              282               282     282          282   \n",
       "secondary education          15233             15233   15233        15233   \n",
       "some college                   744               744     744          744   \n",
       "\n",
       "                     purpose  total_income  \n",
       "education                                   \n",
       "bachelor's degree       5260          4716  \n",
       "graduate degree            6             6  \n",
       "primary education        282           261  \n",
       "secondary education    15233         13693  \n",
       "some college             744           675  "
      ]
     },
     "execution_count": 13,
     "metadata": {},
     "output_type": "execute_result"
    }
   ],
   "source": [
    "# Comprobación de la distribución\n",
    "pivot_table1= general_data.pivot_table(values= general_data[(general_data['days_employed'].isna()) & (general_data['total_income'].isna())], index= 'education', aggfunc= 'count')\n",
    "pivot_table1"
   ]
  },
  {
   "cell_type": "markdown",
   "metadata": {},
   "source": [
    "Teniendo en cuenta que el porcentaje de \"graduate degree\" referente al total de valores es muy bajo, puede significar que haya una correlación alta si tomamos otros valores que no sean \"graduate degree\", pero para ser mas  certeros se puede seguir buscando patrones.]\n",
    "\n",
    "**Posibles razones por las que hay valores ausentes en los datos**\n",
    "\n",
    "\n",
    "Puedo decir que hasta ahora parece que los valores ausentes parecen ser aleatorios, pues gran relacion entre los datos de \"education\" no hay. Se puede seguir buscando patrones, pero probablemente sean un error aleatorio.\n"
   ]
  },
  {
   "cell_type": "markdown",
   "metadata": {},
   "source": [
    "**Conclusión intermedia**\n",
    "\n",
    "Voy a buscar patrones en el tipo de trabajo que tiene cada cliente para ver si tiene relevancia con los valores ausentes, pues son los ingresos y dias de trabajo, cosa que puede tener relacion con el empleo de cada individuo."
   ]
  },
  {
   "cell_type": "code",
   "execution_count": 14,
   "metadata": {},
   "outputs": [
    {
     "name": "stdout",
     "output_type": "stream",
     "text": [
      "1105\n",
      "413\n",
      "508\n",
      "147\n",
      "0\n",
      "1\n",
      "0\n",
      "0\n",
      "El porcentaje de relacion entre \"income_type\" y valores ausentes es: 10.099884%\n"
     ]
    }
   ],
   "source": [
    "# Comprueba otras razones y patrones que podrían llevar a valores ausentes\n",
    "employee_mv = len(general_data[(general_data['income_type'] == \"employee\") & (general_data['days_employed'].isna())])\n",
    "retiree_mv = len(general_data[(general_data['income_type'] == \"retiree\") & (general_data['days_employed'].isna())])\n",
    "business_mv = len(general_data[(general_data['income_type'] == \"business\") & (general_data['days_employed'].isna())])\n",
    "civil_servant_mv = len(general_data[(general_data['income_type'] == \"civil servant\") & (general_data['days_employed'].isna())])\n",
    "unemployed_mv = len(general_data[(general_data['income_type'] == \"unemployed\") & (general_data['days_employed'].isna())])\n",
    "entrepreneur_mv = len(general_data[(general_data['income_type'] == \"entrepreneur\") & (general_data['days_employed'].isna())])\n",
    "student_mv = len(general_data[(general_data['income_type'] == \"student\") & (general_data['days_employed'].isna())])\n",
    "paternity_maternity_mv = len(general_data[(general_data['income_type'] == \"paternity / maternity leave\") & (general_data['days_employed'].isna())])\n",
    "print(employee_mv)\n",
    "print(retiree_mv)\n",
    "print(business_mv)\n",
    "print(civil_servant_mv)\n",
    "print(unemployed_mv)\n",
    "print(entrepreneur_mv)\n",
    "print(student_mv)\n",
    "print(paternity_maternity_mv)\n",
    "\n",
    "total_income_type_missing_values = (employee_mv+retiree_mv+business_mv+civil_servant_mv+unemployed_mv+entrepreneur_mv+student_mv+paternity_maternity_mv)\n",
    "print(f'El porcentaje de relacion entre \"income_type\" y valores ausentes es: {(total_income_type_missing_values/total_values):%}')"
   ]
  },
  {
   "cell_type": "markdown",
   "metadata": {},
   "source": [
    "**Conclusión intermedia**\n",
    "\n",
    "Se puede confirmar que los valores ausentes son accidentales, pues la relevancia entre el tipo de educacion y tipo de empleo dicen que no tiene mucha relevancia estos datos con los valores ausentes."
   ]
  },
  {
   "cell_type": "code",
   "execution_count": 15,
   "metadata": {
    "scrolled": true
   },
   "outputs": [
    {
     "data": {
      "text/html": [
       "<div>\n",
       "<style scoped>\n",
       "    .dataframe tbody tr th:only-of-type {\n",
       "        vertical-align: middle;\n",
       "    }\n",
       "\n",
       "    .dataframe tbody tr th {\n",
       "        vertical-align: top;\n",
       "    }\n",
       "\n",
       "    .dataframe thead th {\n",
       "        text-align: right;\n",
       "    }\n",
       "</style>\n",
       "<table border=\"1\" class=\"dataframe\">\n",
       "  <thead>\n",
       "    <tr style=\"text-align: right;\">\n",
       "      <th></th>\n",
       "      <th>children</th>\n",
       "      <th>days_employed</th>\n",
       "      <th>dob_years</th>\n",
       "      <th>education</th>\n",
       "      <th>education_id</th>\n",
       "      <th>family_status</th>\n",
       "      <th>family_status_id</th>\n",
       "      <th>gender</th>\n",
       "      <th>income_type</th>\n",
       "      <th>debt</th>\n",
       "      <th>total_income</th>\n",
       "      <th>purpose</th>\n",
       "    </tr>\n",
       "  </thead>\n",
       "  <tbody>\n",
       "    <tr>\n",
       "      <th>82</th>\n",
       "      <td>2</td>\n",
       "      <td>NaN</td>\n",
       "      <td>50</td>\n",
       "      <td>bachelor's degree</td>\n",
       "      <td>0</td>\n",
       "      <td>married</td>\n",
       "      <td>0</td>\n",
       "      <td>F</td>\n",
       "      <td>employee</td>\n",
       "      <td>0</td>\n",
       "      <td>NaN</td>\n",
       "      <td>housing</td>\n",
       "    </tr>\n",
       "    <tr>\n",
       "      <th>83</th>\n",
       "      <td>0</td>\n",
       "      <td>NaN</td>\n",
       "      <td>52</td>\n",
       "      <td>secondary education</td>\n",
       "      <td>1</td>\n",
       "      <td>married</td>\n",
       "      <td>0</td>\n",
       "      <td>M</td>\n",
       "      <td>employee</td>\n",
       "      <td>0</td>\n",
       "      <td>NaN</td>\n",
       "      <td>housing</td>\n",
       "    </tr>\n",
       "    <tr>\n",
       "      <th>90</th>\n",
       "      <td>2</td>\n",
       "      <td>NaN</td>\n",
       "      <td>35</td>\n",
       "      <td>bachelor's degree</td>\n",
       "      <td>0</td>\n",
       "      <td>married</td>\n",
       "      <td>0</td>\n",
       "      <td>F</td>\n",
       "      <td>employee</td>\n",
       "      <td>0</td>\n",
       "      <td>NaN</td>\n",
       "      <td>housing transactions</td>\n",
       "    </tr>\n",
       "    <tr>\n",
       "      <th>96</th>\n",
       "      <td>0</td>\n",
       "      <td>NaN</td>\n",
       "      <td>44</td>\n",
       "      <td>secondary education</td>\n",
       "      <td>1</td>\n",
       "      <td>married</td>\n",
       "      <td>0</td>\n",
       "      <td>F</td>\n",
       "      <td>employee</td>\n",
       "      <td>0</td>\n",
       "      <td>NaN</td>\n",
       "      <td>buy residential real estate</td>\n",
       "    </tr>\n",
       "    <tr>\n",
       "      <th>97</th>\n",
       "      <td>0</td>\n",
       "      <td>NaN</td>\n",
       "      <td>47</td>\n",
       "      <td>bachelor's degree</td>\n",
       "      <td>0</td>\n",
       "      <td>married</td>\n",
       "      <td>0</td>\n",
       "      <td>F</td>\n",
       "      <td>employee</td>\n",
       "      <td>0</td>\n",
       "      <td>NaN</td>\n",
       "      <td>profile education</td>\n",
       "    </tr>\n",
       "    <tr>\n",
       "      <th>...</th>\n",
       "      <td>...</td>\n",
       "      <td>...</td>\n",
       "      <td>...</td>\n",
       "      <td>...</td>\n",
       "      <td>...</td>\n",
       "      <td>...</td>\n",
       "      <td>...</td>\n",
       "      <td>...</td>\n",
       "      <td>...</td>\n",
       "      <td>...</td>\n",
       "      <td>...</td>\n",
       "      <td>...</td>\n",
       "    </tr>\n",
       "    <tr>\n",
       "      <th>21432</th>\n",
       "      <td>1</td>\n",
       "      <td>NaN</td>\n",
       "      <td>38</td>\n",
       "      <td>some college</td>\n",
       "      <td>2</td>\n",
       "      <td>unmarried</td>\n",
       "      <td>4</td>\n",
       "      <td>F</td>\n",
       "      <td>employee</td>\n",
       "      <td>0</td>\n",
       "      <td>NaN</td>\n",
       "      <td>housing transactions</td>\n",
       "    </tr>\n",
       "    <tr>\n",
       "      <th>21463</th>\n",
       "      <td>1</td>\n",
       "      <td>NaN</td>\n",
       "      <td>35</td>\n",
       "      <td>bachelor's degree</td>\n",
       "      <td>0</td>\n",
       "      <td>civil partnership</td>\n",
       "      <td>1</td>\n",
       "      <td>M</td>\n",
       "      <td>employee</td>\n",
       "      <td>0</td>\n",
       "      <td>NaN</td>\n",
       "      <td>having a wedding</td>\n",
       "    </tr>\n",
       "    <tr>\n",
       "      <th>21495</th>\n",
       "      <td>1</td>\n",
       "      <td>NaN</td>\n",
       "      <td>50</td>\n",
       "      <td>secondary education</td>\n",
       "      <td>1</td>\n",
       "      <td>civil partnership</td>\n",
       "      <td>1</td>\n",
       "      <td>F</td>\n",
       "      <td>employee</td>\n",
       "      <td>0</td>\n",
       "      <td>NaN</td>\n",
       "      <td>wedding ceremony</td>\n",
       "    </tr>\n",
       "    <tr>\n",
       "      <th>21502</th>\n",
       "      <td>1</td>\n",
       "      <td>NaN</td>\n",
       "      <td>42</td>\n",
       "      <td>secondary education</td>\n",
       "      <td>1</td>\n",
       "      <td>married</td>\n",
       "      <td>0</td>\n",
       "      <td>F</td>\n",
       "      <td>employee</td>\n",
       "      <td>0</td>\n",
       "      <td>NaN</td>\n",
       "      <td>building a real estate</td>\n",
       "    </tr>\n",
       "    <tr>\n",
       "      <th>21510</th>\n",
       "      <td>2</td>\n",
       "      <td>NaN</td>\n",
       "      <td>28</td>\n",
       "      <td>secondary education</td>\n",
       "      <td>1</td>\n",
       "      <td>married</td>\n",
       "      <td>0</td>\n",
       "      <td>F</td>\n",
       "      <td>employee</td>\n",
       "      <td>0</td>\n",
       "      <td>NaN</td>\n",
       "      <td>car purchase</td>\n",
       "    </tr>\n",
       "  </tbody>\n",
       "</table>\n",
       "<p>1105 rows × 12 columns</p>\n",
       "</div>"
      ],
      "text/plain": [
       "       children  days_employed  dob_years            education  education_id  \\\n",
       "82            2            NaN         50    bachelor's degree             0   \n",
       "83            0            NaN         52  secondary education             1   \n",
       "90            2            NaN         35    bachelor's degree             0   \n",
       "96            0            NaN         44  secondary education             1   \n",
       "97            0            NaN         47    bachelor's degree             0   \n",
       "...         ...            ...        ...                  ...           ...   \n",
       "21432         1            NaN         38         some college             2   \n",
       "21463         1            NaN         35    bachelor's degree             0   \n",
       "21495         1            NaN         50  secondary education             1   \n",
       "21502         1            NaN         42  secondary education             1   \n",
       "21510         2            NaN         28  secondary education             1   \n",
       "\n",
       "           family_status  family_status_id gender income_type  debt  \\\n",
       "82               married                 0      F    employee     0   \n",
       "83               married                 0      M    employee     0   \n",
       "90               married                 0      F    employee     0   \n",
       "96               married                 0      F    employee     0   \n",
       "97               married                 0      F    employee     0   \n",
       "...                  ...               ...    ...         ...   ...   \n",
       "21432          unmarried                 4      F    employee     0   \n",
       "21463  civil partnership                 1      M    employee     0   \n",
       "21495  civil partnership                 1      F    employee     0   \n",
       "21502            married                 0      F    employee     0   \n",
       "21510            married                 0      F    employee     0   \n",
       "\n",
       "       total_income                      purpose  \n",
       "82              NaN                      housing  \n",
       "83              NaN                      housing  \n",
       "90              NaN         housing transactions  \n",
       "96              NaN  buy residential real estate  \n",
       "97              NaN            profile education  \n",
       "...             ...                          ...  \n",
       "21432           NaN         housing transactions  \n",
       "21463           NaN             having a wedding  \n",
       "21495           NaN             wedding ceremony  \n",
       "21502           NaN       building a real estate  \n",
       "21510           NaN                 car purchase  \n",
       "\n",
       "[1105 rows x 12 columns]"
      ]
     },
     "execution_count": 15,
     "metadata": {},
     "output_type": "execute_result"
    }
   ],
   "source": [
    "# Comprobación de otros patrones: explica cuáles\n",
    "general_data[(general_data['income_type'] == \"employee\") & (general_data['days_employed'].isna())]"
   ]
  },
  {
   "cell_type": "markdown",
   "metadata": {},
   "source": [
    "**Conclusiones**\n",
    "\n",
    "\n",
    "Se encontro que cuando son trabajadores (employee), o tienen hasta educacion secundaria tienen mas valores ausentes. Con esto logro ver que no hay un patron como tal, pero es util indagar mas datos sobre los valores ausentes.\n",
    "\n",
    "Los valores ausentes se pueden lidiar de varias maneras, en este caso intentare agrupar datos que tengan relevancia con \"total_income\" y \"days_employed\". Al terminar de agruparlos se podra lograr reemplazar los datos con mediana o promedio, dependiendo cual convenga mas.\n",
    "\n"
   ]
  },
  {
   "cell_type": "markdown",
   "metadata": {},
   "source": [
    "## Transformación de datos\n",
    "\n",
    "\n",
    "# Los siguientes pasos de educacion ya se hicieron previamente"
   ]
  },
  {
   "cell_type": "code",
   "execution_count": 16,
   "metadata": {},
   "outputs": [],
   "source": [
    "# Veamos todos los valores en la columna de educación para verificar si será necesario corregir la ortografía y qué habrá que corregir exactamente\n"
   ]
  },
  {
   "cell_type": "code",
   "execution_count": 17,
   "metadata": {
    "scrolled": true
   },
   "outputs": [],
   "source": [
    "# Arregla los registros si es necesario\n"
   ]
  },
  {
   "cell_type": "code",
   "execution_count": 18,
   "metadata": {},
   "outputs": [],
   "source": [
    "# Comprobar todos los valores en la columna para asegurarnos de que los hayamos corregido\n",
    "\n"
   ]
  },
  {
   "cell_type": "code",
   "execution_count": 19,
   "metadata": {},
   "outputs": [
    {
     "data": {
      "text/plain": [
       "array([ 1,  0,  3,  2, -1,  4, 20,  5])"
      ]
     },
     "execution_count": 19,
     "metadata": {},
     "output_type": "execute_result"
    }
   ],
   "source": [
    "general_data['children'].unique()\n"
   ]
  },
  {
   "cell_type": "markdown",
   "metadata": {},
   "source": [
    "Hay datos que son erroneos o muy poco probables, como tener negativo numero de hijos, o tener 20 hijos. Para reemplazar estos datos, voy a reemplazar estos valores con la mediana de \"children\" ya que un promedio daria un dato float, y no se puede tener un hijo y medio."
   ]
  },
  {
   "cell_type": "code",
   "execution_count": 20,
   "metadata": {},
   "outputs": [],
   "source": [
    "children_median = general_data['children'].median()\n",
    "children_median_int = children_median.astype('int64')\n",
    "general_data['children'] = general_data['children'].replace([20, -1], children_median_int)\n",
    "# [arregla los datos según tu decisión]\n"
   ]
  },
  {
   "cell_type": "code",
   "execution_count": 21,
   "metadata": {},
   "outputs": [
    {
     "data": {
      "text/plain": [
       "array([1, 0, 3, 2, 4, 5])"
      ]
     },
     "execution_count": 21,
     "metadata": {},
     "output_type": "execute_result"
    }
   ],
   "source": [
    "general_data['children'].unique()\n",
    "# Comprobar la columna `children` de nuevo para asegurarnos de que todo está arreglado\n",
    "\n"
   ]
  },
  {
   "cell_type": "markdown",
   "metadata": {},
   "source": [
    "<div class=\"alert alert-success\">\n",
    "<h2> Comentarios del revisor </h2>\n",
    "\n",
    "Muy buen trabajo!\n",
    "</div>"
   ]
  },
  {
   "cell_type": "markdown",
   "metadata": {},
   "source": [
    "[Hay datos negativos en \"days employed\" lo cual es imposible, pues puedes o haber trabajado en tu vida o no.]\n",
    "\n",
    "# Encuentra datos problemáticos en `days_employed`, si existen, y calcula el porcentaje\n"
   ]
  },
  {
   "cell_type": "markdown",
   "metadata": {},
   "source": [
    "Se puede visualizar que los dias de empleo son valores muy altos, por lo que se tomara en cuenta que estan escritos en horas, entonces se dividira aquellos que superen 60 años que es lo minimo que puede haber trabajado uno de los clientes, pues tiene 75 años de edad (asumiendo que se trabaja desde los 15), por 24, lo que es un día en horas"
   ]
  },
  {
   "cell_type": "code",
   "execution_count": 22,
   "metadata": {},
   "outputs": [
    {
     "data": {
      "text/plain": [
       "count     19351.000000\n",
       "mean      63046.497661\n",
       "std      140827.311974\n",
       "min      -18388.949901\n",
       "25%       -2747.423625\n",
       "50%       -1203.369529\n",
       "75%        -291.095954\n",
       "max      401755.400475\n",
       "Name: days_employed, dtype: float64"
      ]
     },
     "execution_count": 22,
     "metadata": {},
     "output_type": "execute_result"
    }
   ],
   "source": [
    "general_data['days_employed'].describe()"
   ]
  },
  {
   "cell_type": "code",
   "execution_count": 23,
   "metadata": {},
   "outputs": [
    {
     "name": "stdout",
     "output_type": "stream",
     "text": [
      "El porcentaje de valores erroneos en days employed es 73.895470%.\n"
     ]
    }
   ],
   "source": [
    "negative_days_employed = len(general_data[general_data['days_employed'] < 0])\n",
    "print(f'El porcentaje de valores erroneos en days employed es {(negative_days_employed/total_values):%}.')"
   ]
  },
  {
   "cell_type": "code",
   "execution_count": 24,
   "metadata": {},
   "outputs": [],
   "source": [
    "# Aborda los valores problemáticos, si existen.\n",
    "general_data['days_employed'] = general_data['days_employed'].abs()"
   ]
  },
  {
   "cell_type": "code",
   "execution_count": 25,
   "metadata": {},
   "outputs": [],
   "source": [
    "def hours_to_day_days_employed(x):\n",
    "    if x > 2195:\n",
    "        return (x/24)\n",
    "    else:\n",
    "        return x\n",
    "\n",
    "general_data['days_employed'] = general_data['days_employed'].apply(hours_to_day_days_employed)"
   ]
  },
  {
   "cell_type": "code",
   "execution_count": 26,
   "metadata": {},
   "outputs": [
    {
     "data": {
      "text/plain": [
       "count    19351.000000\n",
       "mean      3258.411829\n",
       "std       5600.674988\n",
       "min         24.141633\n",
       "25%        192.373997\n",
       "50%        660.253676\n",
       "75%       1723.578811\n",
       "max      16739.808353\n",
       "Name: days_employed, dtype: float64"
      ]
     },
     "execution_count": 26,
     "metadata": {},
     "output_type": "execute_result"
    }
   ],
   "source": [
    "general_data['days_employed'].describe()"
   ]
  },
  {
   "cell_type": "code",
   "execution_count": 27,
   "metadata": {},
   "outputs": [
    {
     "data": {
      "text/plain": [
       "children            0\n",
       "days_employed       0\n",
       "dob_years           0\n",
       "education           0\n",
       "education_id        0\n",
       "family_status       0\n",
       "family_status_id    0\n",
       "gender              0\n",
       "income_type         0\n",
       "debt                0\n",
       "total_income        0\n",
       "purpose             0\n",
       "dtype: int64"
      ]
     },
     "execution_count": 27,
     "metadata": {},
     "output_type": "execute_result"
    }
   ],
   "source": [
    "# Comprueba el resultado - asegúrate de que esté arreglado\n",
    "general_data[general_data['days_employed'] < 0].count()"
   ]
  },
  {
   "cell_type": "markdown",
   "metadata": {},
   "source": [
    "\n",
    "Aparecen datos que contienen edad '0', y pues no pueden haber personas con edad 0 en un conjunto de datos, ya que serian no existentes. Para solucionarlo se usara la mediana, pues se esta usando las edades como integros, y el promedio daria un dato tipo float."
   ]
  },
  {
   "cell_type": "markdown",
   "metadata": {},
   "source": [
    "<div class=\"alert alert-danger\">\n",
    "<h2> Comentarios del revisor V1</h2>\n",
    "\n",
    "Una vez que aplicaste describe, observas que hay valores anormalmente altos, que corresponden a 1100 años o 401755 días. En este caso debes imputarlos o asumir que están en horas y corregirlos. Lo puedes hacer a través del método `.loc[condicional, 'days_employed']` y asignar el valor correcto. \n",
    "    \n",
    "Es muy importante corregirlo, debido a que estás usando estos datos para generar conclusiones.\n",
    "</div>"
   ]
  },
  {
   "cell_type": "markdown",
   "metadata": {},
   "source": [
    "<div class=\"alert alert-info\">\n",
    "<h2> Comentarios del estudiante</h2>\n",
    "Listo, transformados a dias considerando que estan en horas y que el maximo de edad es 75, pues se considero como 60 años como la cantidad máxima de años de trabajo.\n",
    "</div>"
   ]
  },
  {
   "cell_type": "code",
   "execution_count": 28,
   "metadata": {
    "scrolled": true
   },
   "outputs": [
    {
     "data": {
      "text/plain": [
       "array([42, 36, 33, 32, 53, 27, 43, 50, 35, 41, 40, 65, 54, 56, 26, 48, 24,\n",
       "       21, 57, 67, 28, 63, 62, 47, 34, 68, 25, 31, 30, 20, 49, 37, 45, 61,\n",
       "       64, 44, 52, 46, 23, 38, 39, 51,  0, 59, 29, 60, 55, 58, 71, 22, 73,\n",
       "       66, 69, 19, 72, 70, 74, 75])"
      ]
     },
     "execution_count": 28,
     "metadata": {},
     "output_type": "execute_result"
    }
   ],
   "source": [
    "general_data['dob_years'].unique()"
   ]
  },
  {
   "cell_type": "code",
   "execution_count": 29,
   "metadata": {},
   "outputs": [],
   "source": [
    "dob_years_median = general_data['dob_years'].median()\n",
    "dob_years_median_int = dob_years_median.astype('int64')\n",
    "general_data['dob_years'] = general_data['dob_years'].replace([0], dob_years_median_int)\n",
    "# Resuelve los problemas en la columna `dob_years`, si existen\n"
   ]
  },
  {
   "cell_type": "code",
   "execution_count": 30,
   "metadata": {},
   "outputs": [
    {
     "data": {
      "text/plain": [
       "children            0\n",
       "days_employed       0\n",
       "dob_years           0\n",
       "education           0\n",
       "education_id        0\n",
       "family_status       0\n",
       "family_status_id    0\n",
       "gender              0\n",
       "income_type         0\n",
       "debt                0\n",
       "total_income        0\n",
       "purpose             0\n",
       "dtype: int64"
      ]
     },
     "execution_count": 30,
     "metadata": {},
     "output_type": "execute_result"
    }
   ],
   "source": [
    "general_data[general_data['dob_years'] == 0].count()\n",
    "# Comprueba el resultado - asegúrate de que esté arreglado\n"
   ]
  },
  {
   "cell_type": "markdown",
   "metadata": {},
   "source": [
    "No se logra visualizar datos que puedan causar problemas en la columna \"family status\", por lo que no se usara ningun tipo de accion."
   ]
  },
  {
   "cell_type": "code",
   "execution_count": 31,
   "metadata": {},
   "outputs": [
    {
     "data": {
      "text/plain": [
       "array([<class 'str'>], dtype=object)"
      ]
     },
     "execution_count": 31,
     "metadata": {},
     "output_type": "execute_result"
    }
   ],
   "source": [
    "# Veamos los valores de la columna\n",
    "general_data['family_status'].apply(type).unique()"
   ]
  },
  {
   "cell_type": "code",
   "execution_count": 32,
   "metadata": {},
   "outputs": [],
   "source": [
    "# Aborda los valores problemáticos en `family_status`, si existen\n",
    "\n"
   ]
  },
  {
   "cell_type": "code",
   "execution_count": 33,
   "metadata": {},
   "outputs": [],
   "source": [
    "# Comprueba el resultado - asegúrate de que esté arreglado\n"
   ]
  },
  {
   "cell_type": "markdown",
   "metadata": {},
   "source": [
    "Hay un valor \"XNA\" en la columna \"gender\", por lo que al ver que es solo un valor, se eliminara esa columna ya que no tendra mucha relevancia con nuestro analisis y puede malograrlo si se deja intacto."
   ]
  },
  {
   "cell_type": "code",
   "execution_count": 34,
   "metadata": {},
   "outputs": [
    {
     "data": {
      "text/plain": [
       "array(['F', 'M', 'XNA'], dtype=object)"
      ]
     },
     "execution_count": 34,
     "metadata": {},
     "output_type": "execute_result"
    }
   ],
   "source": [
    "# Veamos los valores en la columna\n",
    "general_data['gender'].unique()"
   ]
  },
  {
   "cell_type": "code",
   "execution_count": 35,
   "metadata": {},
   "outputs": [
    {
     "data": {
      "text/html": [
       "<div>\n",
       "<style scoped>\n",
       "    .dataframe tbody tr th:only-of-type {\n",
       "        vertical-align: middle;\n",
       "    }\n",
       "\n",
       "    .dataframe tbody tr th {\n",
       "        vertical-align: top;\n",
       "    }\n",
       "\n",
       "    .dataframe thead th {\n",
       "        text-align: right;\n",
       "    }\n",
       "</style>\n",
       "<table border=\"1\" class=\"dataframe\">\n",
       "  <thead>\n",
       "    <tr style=\"text-align: right;\">\n",
       "      <th></th>\n",
       "      <th>children</th>\n",
       "      <th>days_employed</th>\n",
       "      <th>dob_years</th>\n",
       "      <th>education</th>\n",
       "      <th>education_id</th>\n",
       "      <th>family_status</th>\n",
       "      <th>family_status_id</th>\n",
       "      <th>gender</th>\n",
       "      <th>income_type</th>\n",
       "      <th>debt</th>\n",
       "      <th>total_income</th>\n",
       "      <th>purpose</th>\n",
       "    </tr>\n",
       "  </thead>\n",
       "  <tbody>\n",
       "    <tr>\n",
       "      <th>10701</th>\n",
       "      <td>0</td>\n",
       "      <td>98.275021</td>\n",
       "      <td>24</td>\n",
       "      <td>some college</td>\n",
       "      <td>2</td>\n",
       "      <td>civil partnership</td>\n",
       "      <td>1</td>\n",
       "      <td>XNA</td>\n",
       "      <td>business</td>\n",
       "      <td>0</td>\n",
       "      <td>32624.825</td>\n",
       "      <td>buy real estate</td>\n",
       "    </tr>\n",
       "  </tbody>\n",
       "</table>\n",
       "</div>"
      ],
      "text/plain": [
       "       children  days_employed  dob_years     education  education_id  \\\n",
       "10701         0      98.275021         24  some college             2   \n",
       "\n",
       "           family_status  family_status_id gender income_type  debt  \\\n",
       "10701  civil partnership                 1    XNA    business     0   \n",
       "\n",
       "       total_income          purpose  \n",
       "10701     32624.825  buy real estate  "
      ]
     },
     "execution_count": 35,
     "metadata": {},
     "output_type": "execute_result"
    }
   ],
   "source": [
    "general_data[general_data['gender'] == 'XNA']"
   ]
  },
  {
   "cell_type": "code",
   "execution_count": 36,
   "metadata": {},
   "outputs": [],
   "source": [
    "# Aborda los valores problemáticos, si existen\n",
    "general_data.drop(10701, axis=0, inplace=True)"
   ]
  },
  {
   "cell_type": "code",
   "execution_count": 37,
   "metadata": {},
   "outputs": [
    {
     "data": {
      "text/plain": [
       "array(['F', 'M'], dtype=object)"
      ]
     },
     "execution_count": 37,
     "metadata": {},
     "output_type": "execute_result"
    }
   ],
   "source": [
    "# Comprueba el resultado - asegúrate de que esté arreglado\n",
    "general_data['gender'].unique()\n"
   ]
  },
  {
   "cell_type": "markdown",
   "metadata": {},
   "source": [
    "No se logra visualizar datos que puedan causar problemas en la columna \"income_type\", por lo que no se usara ningun tipo de accion."
   ]
  },
  {
   "cell_type": "code",
   "execution_count": 38,
   "metadata": {},
   "outputs": [
    {
     "data": {
      "text/plain": [
       "array([<class 'str'>], dtype=object)"
      ]
     },
     "execution_count": 38,
     "metadata": {},
     "output_type": "execute_result"
    }
   ],
   "source": [
    "# Veamos los valores en la columna\n",
    "general_data['income_type'].apply(type).unique()"
   ]
  },
  {
   "cell_type": "code",
   "execution_count": 39,
   "metadata": {},
   "outputs": [],
   "source": [
    "# Aborda los valores problemáticos, si existen"
   ]
  },
  {
   "cell_type": "code",
   "execution_count": 40,
   "metadata": {},
   "outputs": [],
   "source": [
    "# Comprueba el resultado - asegúrate de que esté arreglado\n",
    "\n"
   ]
  },
  {
   "cell_type": "markdown",
   "metadata": {},
   "source": [
    "<div class=\"alert alert-success\">\n",
    "<h2> Comentarios del revisor V1</h2>\n",
    "\n",
    "Muy buena decisión eliminando ese género inconsistente y reemplazando el valor de 0 en `dob_years`.\n",
    "\n",
    "</div>"
   ]
  },
  {
   "cell_type": "markdown",
   "metadata": {},
   "source": [
    "Lo que podria considerar duplicados seria el proposito para el prestamo, es decir, la columna \"purpose\". Para solucionarlo voy a reemplazar los valores unicos que son relacionados un solo valor que los represente."
   ]
  },
  {
   "cell_type": "code",
   "execution_count": 41,
   "metadata": {},
   "outputs": [
    {
     "data": {
      "text/plain": [
       "count                21524\n",
       "unique                  38\n",
       "top       wedding ceremony\n",
       "freq                   797\n",
       "Name: purpose, dtype: object"
      ]
     },
     "execution_count": 41,
     "metadata": {},
     "output_type": "execute_result"
    }
   ],
   "source": [
    "# Comprobar los duplicados\n",
    "general_data['purpose'].describe()"
   ]
  },
  {
   "cell_type": "code",
   "execution_count": 42,
   "metadata": {},
   "outputs": [],
   "source": [
    "# Aborda los duplicados, si existen\n",
    "for x in general_data['purpose']:\n",
    "    if 'car' in x:\n",
    "        general_data['purpose'] = general_data['purpose'].replace(['car purchase', 'buying a second-hand car', 'buying my own car', 'cars', 'to own a car', 'purchase of a car', 'to buy a car' ], 'car')\n",
    "    elif 'real estate' in x:\n",
    "        general_data['purpose'] = general_data['purpose'].replace(['buy real estate', 'buy residential real estate', 'buy commercial real estate', 'transactions with commercial real estate', 'building a real estate', 'transactions with my real estate', 'real estate transactions'], 'real estate')\n",
    "    elif 'education' in x:\n",
    "        general_data['purpose'] = general_data['purpose'].replace(['supplementary education', 'education', 'getting an education', 'to get a supplementary education', 'getting higher education', 'profile education', 'university education'], 'education motives')\n",
    "    elif 'educated' in x:\n",
    "        general_data['purpose'] = general_data['purpose'].replace(['to become educated'], 'education motives')\n",
    "    elif 'housing' in x:\n",
    "        general_data['purpose'] = general_data['purpose'].replace(['housing transactions', 'housing', 'housing renovation'], 'housing')\n",
    "    elif 'wedding' in x:\n",
    "        general_data['purpose'] = general_data['purpose'].replace(['to have a wedding', 'having a wedding', 'wedding ceremony'], 'wedding')\n",
    "    elif 'house' in x:\n",
    "        general_data['purpose'] = general_data['purpose'].replace(['purchase of the house', 'purchase of the house for my family', 'purchase of my own house'], 'house purchase')\n",
    "    elif 'property' in x:\n",
    "        general_data['purpose'] = general_data['purpose'].replace(['construction of own property', 'property', 'building a property', 'buying property for renting out'], 'property')\n"
   ]
  },
  {
   "cell_type": "code",
   "execution_count": 43,
   "metadata": {},
   "outputs": [
    {
     "data": {
      "text/plain": [
       "count           21524\n",
       "unique              9\n",
       "top       real estate\n",
       "freq             4477\n",
       "Name: purpose, dtype: object"
      ]
     },
     "execution_count": 43,
     "metadata": {},
     "output_type": "execute_result"
    }
   ],
   "source": [
    "# Última comprobación para ver si tenemos duplicados\n",
    "general_data['purpose'].describe()"
   ]
  },
  {
   "cell_type": "code",
   "execution_count": 44,
   "metadata": {},
   "outputs": [
    {
     "data": {
      "text/plain": [
       "258288"
      ]
     },
     "execution_count": 44,
     "metadata": {},
     "output_type": "execute_result"
    }
   ],
   "source": [
    "# Comprueba el tamaño del conjunto de datos que tienes ahora, después de haber ejecutado estas primeras manipulaciones\n",
    "general_data.size"
   ]
  },
  {
   "cell_type": "markdown",
   "metadata": {},
   "source": [
    "Ha cambiado el dataframe, pues datos problematicos que puedan afectar nuestro analisis han sido eliminados o sustituidos por otros, especificamente se ha eliminado una fila o entrada del dataframe."
   ]
  },
  {
   "cell_type": "markdown",
   "metadata": {},
   "source": [
    "# Trabajar con valores ausentes"
   ]
  },
  {
   "cell_type": "markdown",
   "metadata": {},
   "source": [
    "Se puede agrupar el tipo de educacion y el estado civil por valores que estan representados en la misma tabla, que son sus respectivos IDs."
   ]
  },
  {
   "cell_type": "code",
   "execution_count": 45,
   "metadata": {},
   "outputs": [
    {
     "name": "stdout",
     "output_type": "stream",
     "text": [
      "{\"bachelor's degree\": 0, 'secondary education': 1, 'some college': 2, 'primary education': 3, 'graduate degree': 4}\n",
      "{'married': 0, 'civil partnership': 1, 'widow / widower': 2, 'divorced': 3, 'unmarried': 4}\n"
     ]
    }
   ],
   "source": [
    "# Encuentra los diccionarios\n",
    "print(general_data.set_index('education')['education_id'].to_dict())\n",
    "print(general_data.set_index('family_status')['family_status_id'].to_dict())\n"
   ]
  },
  {
   "cell_type": "markdown",
   "metadata": {},
   "source": [
    "### Restaurar valores ausentes en `total_income`"
   ]
  },
  {
   "cell_type": "markdown",
   "metadata": {},
   "source": [
    "Voy a crear una categoria de edad que los separa en grupos desde un adulto joven a un adulto mayor. Esto nos ayudara para poder clasificarlos y en caso sea necesario usar esta clasificacion para restaurar los valores ausentes ya sea en total_income o days_employed\n"
   ]
  },
  {
   "cell_type": "code",
   "execution_count": 46,
   "metadata": {},
   "outputs": [],
   "source": [
    "# Vamos a escribir una función que calcule la categoría de edad\n",
    "def age_group(x):\n",
    "    if 0 <= x <=30:\n",
    "        return 'young adult'\n",
    "    elif 30 <= x <= 59:\n",
    "        return 'mid adult'\n",
    "    elif 60 <= x <= 90:\n",
    "        return 'third age'"
   ]
  },
  {
   "cell_type": "code",
   "execution_count": 47,
   "metadata": {},
   "outputs": [
    {
     "data": {
      "text/plain": [
       "'mid adult'"
      ]
     },
     "execution_count": 47,
     "metadata": {},
     "output_type": "execute_result"
    }
   ],
   "source": [
    "# Prueba si la función funciona bien\n",
    "age_group(50)"
   ]
  },
  {
   "cell_type": "code",
   "execution_count": 48,
   "metadata": {},
   "outputs": [],
   "source": [
    "# Crear una nueva columna basada en la función\n",
    "general_data['age_group'] = general_data['dob_years'].apply(age_group)"
   ]
  },
  {
   "cell_type": "code",
   "execution_count": 49,
   "metadata": {},
   "outputs": [
    {
     "data": {
      "text/html": [
       "<div>\n",
       "<style scoped>\n",
       "    .dataframe tbody tr th:only-of-type {\n",
       "        vertical-align: middle;\n",
       "    }\n",
       "\n",
       "    .dataframe tbody tr th {\n",
       "        vertical-align: top;\n",
       "    }\n",
       "\n",
       "    .dataframe thead th {\n",
       "        text-align: right;\n",
       "    }\n",
       "</style>\n",
       "<table border=\"1\" class=\"dataframe\">\n",
       "  <thead>\n",
       "    <tr style=\"text-align: right;\">\n",
       "      <th></th>\n",
       "      <th>dob_years</th>\n",
       "    </tr>\n",
       "    <tr>\n",
       "      <th>age_group</th>\n",
       "      <th></th>\n",
       "    </tr>\n",
       "  </thead>\n",
       "  <tbody>\n",
       "    <tr>\n",
       "      <th>mid adult</th>\n",
       "      <td>15285</td>\n",
       "    </tr>\n",
       "    <tr>\n",
       "      <th>third age</th>\n",
       "      <td>2517</td>\n",
       "    </tr>\n",
       "    <tr>\n",
       "      <th>young adult</th>\n",
       "      <td>3722</td>\n",
       "    </tr>\n",
       "  </tbody>\n",
       "</table>\n",
       "</div>"
      ],
      "text/plain": [
       "             dob_years\n",
       "age_group             \n",
       "mid adult        15285\n",
       "third age         2517\n",
       "young adult       3722"
      ]
     },
     "execution_count": 49,
     "metadata": {},
     "output_type": "execute_result"
    }
   ],
   "source": [
    "# Comprobar cómo los valores en la nueva columna\n",
    "general_data.groupby('age_group')[['dob_years']].count()\n"
   ]
  },
  {
   "cell_type": "code",
   "execution_count": 50,
   "metadata": {},
   "outputs": [
    {
     "name": "stdout",
     "output_type": "stream",
     "text": [
      "<class 'pandas.core.frame.DataFrame'>\n",
      "Int64Index: 19350 entries, 0 to 21524\n",
      "Data columns (total 13 columns):\n",
      " #   Column            Non-Null Count  Dtype  \n",
      "---  ------            --------------  -----  \n",
      " 0   children          19350 non-null  int64  \n",
      " 1   days_employed     19350 non-null  float64\n",
      " 2   dob_years         19350 non-null  int64  \n",
      " 3   education         19350 non-null  object \n",
      " 4   education_id      19350 non-null  int64  \n",
      " 5   family_status     19350 non-null  object \n",
      " 6   family_status_id  19350 non-null  int64  \n",
      " 7   gender            19350 non-null  object \n",
      " 8   income_type       19350 non-null  object \n",
      " 9   debt              19350 non-null  int64  \n",
      " 10  total_income      19350 non-null  float64\n",
      " 11  purpose           19350 non-null  object \n",
      " 12  age_group         19350 non-null  object \n",
      "dtypes: float64(2), int64(5), object(6)\n",
      "memory usage: 2.1+ MB\n"
     ]
    }
   ],
   "source": [
    "# Crea una tabla sin valores ausentes y muestra algunas de sus filas para asegurarte de que se ve bien\n",
    "second_table = general_data[general_data['days_employed'].notnull()]\n",
    "second_table.info()"
   ]
  },
  {
   "cell_type": "code",
   "execution_count": 51,
   "metadata": {
    "scrolled": true
   },
   "outputs": [
    {
     "data": {
      "text/html": [
       "<div>\n",
       "<style scoped>\n",
       "    .dataframe tbody tr th:only-of-type {\n",
       "        vertical-align: middle;\n",
       "    }\n",
       "\n",
       "    .dataframe tbody tr th {\n",
       "        vertical-align: top;\n",
       "    }\n",
       "\n",
       "    .dataframe thead th {\n",
       "        text-align: right;\n",
       "    }\n",
       "</style>\n",
       "<table border=\"1\" class=\"dataframe\">\n",
       "  <thead>\n",
       "    <tr style=\"text-align: right;\">\n",
       "      <th></th>\n",
       "      <th>education_id</th>\n",
       "      <th>family_status_id</th>\n",
       "      <th>total_income</th>\n",
       "    </tr>\n",
       "  </thead>\n",
       "  <tbody>\n",
       "    <tr>\n",
       "      <th>0</th>\n",
       "      <td>0</td>\n",
       "      <td>0</td>\n",
       "      <td>33719.993035</td>\n",
       "    </tr>\n",
       "    <tr>\n",
       "      <th>1</th>\n",
       "      <td>0</td>\n",
       "      <td>1</td>\n",
       "      <td>32982.368398</td>\n",
       "    </tr>\n",
       "    <tr>\n",
       "      <th>2</th>\n",
       "      <td>0</td>\n",
       "      <td>2</td>\n",
       "      <td>28042.941435</td>\n",
       "    </tr>\n",
       "    <tr>\n",
       "      <th>3</th>\n",
       "      <td>0</td>\n",
       "      <td>3</td>\n",
       "      <td>32963.499089</td>\n",
       "    </tr>\n",
       "    <tr>\n",
       "      <th>4</th>\n",
       "      <td>0</td>\n",
       "      <td>4</td>\n",
       "      <td>32066.666118</td>\n",
       "    </tr>\n",
       "    <tr>\n",
       "      <th>5</th>\n",
       "      <td>1</td>\n",
       "      <td>0</td>\n",
       "      <td>24706.166301</td>\n",
       "    </tr>\n",
       "    <tr>\n",
       "      <th>6</th>\n",
       "      <td>1</td>\n",
       "      <td>1</td>\n",
       "      <td>24739.490095</td>\n",
       "    </tr>\n",
       "    <tr>\n",
       "      <th>7</th>\n",
       "      <td>1</td>\n",
       "      <td>2</td>\n",
       "      <td>22260.731241</td>\n",
       "    </tr>\n",
       "    <tr>\n",
       "      <th>8</th>\n",
       "      <td>1</td>\n",
       "      <td>3</td>\n",
       "      <td>24876.901784</td>\n",
       "    </tr>\n",
       "    <tr>\n",
       "      <th>9</th>\n",
       "      <td>1</td>\n",
       "      <td>4</td>\n",
       "      <td>24685.396198</td>\n",
       "    </tr>\n",
       "    <tr>\n",
       "      <th>10</th>\n",
       "      <td>2</td>\n",
       "      <td>0</td>\n",
       "      <td>29849.812029</td>\n",
       "    </tr>\n",
       "    <tr>\n",
       "      <th>11</th>\n",
       "      <td>2</td>\n",
       "      <td>1</td>\n",
       "      <td>27984.916629</td>\n",
       "    </tr>\n",
       "    <tr>\n",
       "      <th>12</th>\n",
       "      <td>2</td>\n",
       "      <td>2</td>\n",
       "      <td>24420.224846</td>\n",
       "    </tr>\n",
       "    <tr>\n",
       "      <th>13</th>\n",
       "      <td>2</td>\n",
       "      <td>3</td>\n",
       "      <td>34811.298308</td>\n",
       "    </tr>\n",
       "    <tr>\n",
       "      <th>14</th>\n",
       "      <td>2</td>\n",
       "      <td>4</td>\n",
       "      <td>27985.427769</td>\n",
       "    </tr>\n",
       "    <tr>\n",
       "      <th>15</th>\n",
       "      <td>3</td>\n",
       "      <td>0</td>\n",
       "      <td>22489.557931</td>\n",
       "    </tr>\n",
       "    <tr>\n",
       "      <th>16</th>\n",
       "      <td>3</td>\n",
       "      <td>1</td>\n",
       "      <td>20026.139920</td>\n",
       "    </tr>\n",
       "    <tr>\n",
       "      <th>17</th>\n",
       "      <td>3</td>\n",
       "      <td>2</td>\n",
       "      <td>18001.459679</td>\n",
       "    </tr>\n",
       "    <tr>\n",
       "      <th>18</th>\n",
       "      <td>3</td>\n",
       "      <td>3</td>\n",
       "      <td>19433.435750</td>\n",
       "    </tr>\n",
       "    <tr>\n",
       "      <th>19</th>\n",
       "      <td>3</td>\n",
       "      <td>4</td>\n",
       "      <td>21208.299563</td>\n",
       "    </tr>\n",
       "    <tr>\n",
       "      <th>20</th>\n",
       "      <td>4</td>\n",
       "      <td>0</td>\n",
       "      <td>29359.245250</td>\n",
       "    </tr>\n",
       "    <tr>\n",
       "      <th>21</th>\n",
       "      <td>4</td>\n",
       "      <td>3</td>\n",
       "      <td>18551.846000</td>\n",
       "    </tr>\n",
       "    <tr>\n",
       "      <th>22</th>\n",
       "      <td>4</td>\n",
       "      <td>4</td>\n",
       "      <td>31771.321000</td>\n",
       "    </tr>\n",
       "  </tbody>\n",
       "</table>\n",
       "</div>"
      ],
      "text/plain": [
       "    education_id  family_status_id  total_income\n",
       "0              0                 0  33719.993035\n",
       "1              0                 1  32982.368398\n",
       "2              0                 2  28042.941435\n",
       "3              0                 3  32963.499089\n",
       "4              0                 4  32066.666118\n",
       "5              1                 0  24706.166301\n",
       "6              1                 1  24739.490095\n",
       "7              1                 2  22260.731241\n",
       "8              1                 3  24876.901784\n",
       "9              1                 4  24685.396198\n",
       "10             2                 0  29849.812029\n",
       "11             2                 1  27984.916629\n",
       "12             2                 2  24420.224846\n",
       "13             2                 3  34811.298308\n",
       "14             2                 4  27985.427769\n",
       "15             3                 0  22489.557931\n",
       "16             3                 1  20026.139920\n",
       "17             3                 2  18001.459679\n",
       "18             3                 3  19433.435750\n",
       "19             3                 4  21208.299563\n",
       "20             4                 0  29359.245250\n",
       "21             4                 3  18551.846000\n",
       "22             4                 4  31771.321000"
      ]
     },
     "execution_count": 51,
     "metadata": {},
     "output_type": "execute_result"
    }
   ],
   "source": [
    "# Examina los valores medios de los ingresos en función de los factores que identificaste\n",
    "general_data.groupby(['education_id', 'family_status_id'])[['total_income']].mean().reset_index()"
   ]
  },
  {
   "cell_type": "code",
   "execution_count": 52,
   "metadata": {
    "scrolled": true
   },
   "outputs": [
    {
     "data": {
      "text/html": [
       "<div>\n",
       "<style scoped>\n",
       "    .dataframe tbody tr th:only-of-type {\n",
       "        vertical-align: middle;\n",
       "    }\n",
       "\n",
       "    .dataframe tbody tr th {\n",
       "        vertical-align: top;\n",
       "    }\n",
       "\n",
       "    .dataframe thead th {\n",
       "        text-align: right;\n",
       "    }\n",
       "</style>\n",
       "<table border=\"1\" class=\"dataframe\">\n",
       "  <thead>\n",
       "    <tr style=\"text-align: right;\">\n",
       "      <th></th>\n",
       "      <th>education_id</th>\n",
       "      <th>family_status_id</th>\n",
       "      <th>total_income</th>\n",
       "    </tr>\n",
       "  </thead>\n",
       "  <tbody>\n",
       "    <tr>\n",
       "      <th>0</th>\n",
       "      <td>0</td>\n",
       "      <td>0</td>\n",
       "      <td>28466.2870</td>\n",
       "    </tr>\n",
       "    <tr>\n",
       "      <th>1</th>\n",
       "      <td>0</td>\n",
       "      <td>1</td>\n",
       "      <td>28353.3245</td>\n",
       "    </tr>\n",
       "    <tr>\n",
       "      <th>2</th>\n",
       "      <td>0</td>\n",
       "      <td>2</td>\n",
       "      <td>23789.3965</td>\n",
       "    </tr>\n",
       "    <tr>\n",
       "      <th>3</th>\n",
       "      <td>0</td>\n",
       "      <td>3</td>\n",
       "      <td>27632.7540</td>\n",
       "    </tr>\n",
       "    <tr>\n",
       "      <th>4</th>\n",
       "      <td>0</td>\n",
       "      <td>4</td>\n",
       "      <td>27262.2795</td>\n",
       "    </tr>\n",
       "    <tr>\n",
       "      <th>5</th>\n",
       "      <td>1</td>\n",
       "      <td>0</td>\n",
       "      <td>21987.1500</td>\n",
       "    </tr>\n",
       "    <tr>\n",
       "      <th>6</th>\n",
       "      <td>1</td>\n",
       "      <td>1</td>\n",
       "      <td>21847.7850</td>\n",
       "    </tr>\n",
       "    <tr>\n",
       "      <th>7</th>\n",
       "      <td>1</td>\n",
       "      <td>2</td>\n",
       "      <td>20363.1200</td>\n",
       "    </tr>\n",
       "    <tr>\n",
       "      <th>8</th>\n",
       "      <td>1</td>\n",
       "      <td>3</td>\n",
       "      <td>21914.2800</td>\n",
       "    </tr>\n",
       "    <tr>\n",
       "      <th>9</th>\n",
       "      <td>1</td>\n",
       "      <td>4</td>\n",
       "      <td>21731.8650</td>\n",
       "    </tr>\n",
       "    <tr>\n",
       "      <th>10</th>\n",
       "      <td>2</td>\n",
       "      <td>0</td>\n",
       "      <td>26113.4020</td>\n",
       "    </tr>\n",
       "    <tr>\n",
       "      <th>11</th>\n",
       "      <td>2</td>\n",
       "      <td>1</td>\n",
       "      <td>25709.8980</td>\n",
       "    </tr>\n",
       "    <tr>\n",
       "      <th>12</th>\n",
       "      <td>2</td>\n",
       "      <td>2</td>\n",
       "      <td>20531.8480</td>\n",
       "    </tr>\n",
       "    <tr>\n",
       "      <th>13</th>\n",
       "      <td>2</td>\n",
       "      <td>3</td>\n",
       "      <td>31349.2795</td>\n",
       "    </tr>\n",
       "    <tr>\n",
       "      <th>14</th>\n",
       "      <td>2</td>\n",
       "      <td>4</td>\n",
       "      <td>24563.6940</td>\n",
       "    </tr>\n",
       "    <tr>\n",
       "      <th>15</th>\n",
       "      <td>3</td>\n",
       "      <td>0</td>\n",
       "      <td>20012.3570</td>\n",
       "    </tr>\n",
       "    <tr>\n",
       "      <th>16</th>\n",
       "      <td>3</td>\n",
       "      <td>1</td>\n",
       "      <td>16885.4175</td>\n",
       "    </tr>\n",
       "    <tr>\n",
       "      <th>17</th>\n",
       "      <td>3</td>\n",
       "      <td>2</td>\n",
       "      <td>16632.7265</td>\n",
       "    </tr>\n",
       "    <tr>\n",
       "      <th>18</th>\n",
       "      <td>3</td>\n",
       "      <td>3</td>\n",
       "      <td>18401.2060</td>\n",
       "    </tr>\n",
       "    <tr>\n",
       "      <th>19</th>\n",
       "      <td>3</td>\n",
       "      <td>4</td>\n",
       "      <td>18868.4855</td>\n",
       "    </tr>\n",
       "    <tr>\n",
       "      <th>20</th>\n",
       "      <td>4</td>\n",
       "      <td>0</td>\n",
       "      <td>29345.3940</td>\n",
       "    </tr>\n",
       "    <tr>\n",
       "      <th>21</th>\n",
       "      <td>4</td>\n",
       "      <td>3</td>\n",
       "      <td>18551.8460</td>\n",
       "    </tr>\n",
       "    <tr>\n",
       "      <th>22</th>\n",
       "      <td>4</td>\n",
       "      <td>4</td>\n",
       "      <td>31771.3210</td>\n",
       "    </tr>\n",
       "  </tbody>\n",
       "</table>\n",
       "</div>"
      ],
      "text/plain": [
       "    education_id  family_status_id  total_income\n",
       "0              0                 0    28466.2870\n",
       "1              0                 1    28353.3245\n",
       "2              0                 2    23789.3965\n",
       "3              0                 3    27632.7540\n",
       "4              0                 4    27262.2795\n",
       "5              1                 0    21987.1500\n",
       "6              1                 1    21847.7850\n",
       "7              1                 2    20363.1200\n",
       "8              1                 3    21914.2800\n",
       "9              1                 4    21731.8650\n",
       "10             2                 0    26113.4020\n",
       "11             2                 1    25709.8980\n",
       "12             2                 2    20531.8480\n",
       "13             2                 3    31349.2795\n",
       "14             2                 4    24563.6940\n",
       "15             3                 0    20012.3570\n",
       "16             3                 1    16885.4175\n",
       "17             3                 2    16632.7265\n",
       "18             3                 3    18401.2060\n",
       "19             3                 4    18868.4855\n",
       "20             4                 0    29345.3940\n",
       "21             4                 3    18551.8460\n",
       "22             4                 4    31771.3210"
      ]
     },
     "execution_count": 52,
     "metadata": {},
     "output_type": "execute_result"
    }
   ],
   "source": [
    "# Examina los valores medianos de los ingresos en función de los factores que identificaste\n",
    "general_data.groupby(['education_id', 'family_status_id'])[['total_income']].median().reset_index()"
   ]
  },
  {
   "cell_type": "markdown",
   "metadata": {},
   "source": [
    "Pienso que la columna que tiene mas relacion es el tipo de trabajo que tienen, pues tiene mucho que ver con los dias trabajados y tipo de ingreso, ya que depende mucho de si una persona esta retirada, etc.\n"
   ]
  },
  {
   "cell_type": "code",
   "execution_count": 53,
   "metadata": {},
   "outputs": [],
   "source": [
    "#  Escribe una función que usaremos para completar los valores ausentes\n",
    "median_results_total_income = general_data.groupby('income_type')['total_income'].median()\n",
    "def total_income_mean_income_type(row):\n",
    "    row_income_type = row['income_type']\n",
    "    row_total_income = row['total_income']\n",
    "    \n",
    "    if pd.isna(row_total_income):\n",
    "        return median_results_total_income[row_income_type]\n",
    "    else:\n",
    "        return row_total_income"
   ]
  },
  {
   "cell_type": "code",
   "execution_count": 54,
   "metadata": {},
   "outputs": [
    {
     "data": {
      "text/plain": [
       "18962.318"
      ]
     },
     "execution_count": 54,
     "metadata": {},
     "output_type": "execute_result"
    }
   ],
   "source": [
    "# Comprueba si funciona\n",
    "total_income_mean_income_type(general_data.loc[12])"
   ]
  },
  {
   "cell_type": "code",
   "execution_count": 55,
   "metadata": {},
   "outputs": [],
   "source": [
    "# Aplícalo a cada fila\n",
    "general_data['total_income_clean'] = general_data.apply(total_income_mean_income_type, axis=1)"
   ]
  },
  {
   "cell_type": "code",
   "execution_count": 56,
   "metadata": {},
   "outputs": [
    {
     "name": "stdout",
     "output_type": "stream",
     "text": [
      "<class 'pandas.core.frame.DataFrame'>\n",
      "Int64Index: 21524 entries, 0 to 21524\n",
      "Data columns (total 14 columns):\n",
      " #   Column              Non-Null Count  Dtype  \n",
      "---  ------              --------------  -----  \n",
      " 0   children            21524 non-null  int64  \n",
      " 1   days_employed       19350 non-null  float64\n",
      " 2   dob_years           21524 non-null  int64  \n",
      " 3   education           21524 non-null  object \n",
      " 4   education_id        21524 non-null  int64  \n",
      " 5   family_status       21524 non-null  object \n",
      " 6   family_status_id    21524 non-null  int64  \n",
      " 7   gender              21524 non-null  object \n",
      " 8   income_type         21524 non-null  object \n",
      " 9   debt                21524 non-null  int64  \n",
      " 10  total_income        19350 non-null  float64\n",
      " 11  purpose             21524 non-null  object \n",
      " 12  age_group           21524 non-null  object \n",
      " 13  total_income_clean  21524 non-null  float64\n",
      "dtypes: float64(3), int64(5), object(6)\n",
      "memory usage: 3.0+ MB\n"
     ]
    }
   ],
   "source": [
    "# Comprueba si tenemos algún error\n",
    "general_data.info()"
   ]
  },
  {
   "cell_type": "markdown",
   "metadata": {},
   "source": [
    "Por ahora no se ha encontrado ningun error, por lo que no se ve necesario hacer el siguiente paso.\n"
   ]
  },
  {
   "cell_type": "code",
   "execution_count": 57,
   "metadata": {},
   "outputs": [],
   "source": [
    "# Reemplazar los valores ausentes si hay algún error\n"
   ]
  },
  {
   "cell_type": "code",
   "execution_count": 58,
   "metadata": {},
   "outputs": [
    {
     "name": "stdout",
     "output_type": "stream",
     "text": [
      "Las entradas totales en total_income_clean_count son: 21524, y en children: 21524, por lo tanto es acertado decir que fue exitosa la funcion.\n"
     ]
    }
   ],
   "source": [
    "# Comprobar el número de entradas en las columnas\n",
    "total_income_clean_count = general_data['total_income_clean'].count()\n",
    "children_count = general_data['children'].count()\n",
    "\n",
    "print(f'Las entradas totales en total_income_clean_count son: {total_income_clean_count}, y en children: {children_count}, por lo tanto es acertado decir que fue exitosa la funcion.')"
   ]
  },
  {
   "cell_type": "markdown",
   "metadata": {},
   "source": [
    "<div class=\"alert alert-success\">\n",
    "<h2> Comentarios del revisor V1</h2>\n",
    "\n",
    "Muy buen trabajo!\n",
    "</div>"
   ]
  },
  {
   "cell_type": "markdown",
   "metadata": {},
   "source": [
    "###  Restaurar valores en `days_employed`"
   ]
  },
  {
   "cell_type": "code",
   "execution_count": 59,
   "metadata": {
    "pycharm": {
     "name": "#%%\n"
    }
   },
   "outputs": [],
   "source": [
    "# Distribución de las medianas de `days_employed` en función de los parámetros identificados\n",
    "median_results_days_employed = general_data.groupby('income_type')['days_employed'].median()"
   ]
  },
  {
   "cell_type": "code",
   "execution_count": 60,
   "metadata": {},
   "outputs": [],
   "source": [
    "# Distribución de las medias de `days_employed` en función de los parámetros identificados\n",
    "mean_results_days_employed = general_data.groupby('income_type')['days_employed'].mean()"
   ]
  },
  {
   "cell_type": "markdown",
   "metadata": {},
   "source": [
    "Voy a utilizar el promedio, ya que seria lo apropiado, pues es una medida cuantitativa."
   ]
  },
  {
   "cell_type": "code",
   "execution_count": 61,
   "metadata": {},
   "outputs": [],
   "source": [
    "# Escribamos una función que calcule medias o medianas (dependiendo de tu decisión) según el parámetro identificado\n",
    "def days_employed_mean_income_type(row):\n",
    "    row_income_type = row['income_type']\n",
    "    row_days_employed = row['days_employed']\n",
    "    \n",
    "    if pd.isna(row_days_employed):\n",
    "        return mean_results_days_employed[row_income_type]\n",
    "    else:\n",
    "        return row_days_employed"
   ]
  },
  {
   "cell_type": "code",
   "execution_count": 62,
   "metadata": {},
   "outputs": [
    {
     "data": {
      "text/plain": [
       "15208.478801869218"
      ]
     },
     "execution_count": 62,
     "metadata": {},
     "output_type": "execute_result"
    }
   ],
   "source": [
    "# Comprueba que la función funciona\n",
    "days_employed_mean_income_type(general_data.loc[12])"
   ]
  },
  {
   "cell_type": "code",
   "execution_count": 63,
   "metadata": {},
   "outputs": [],
   "source": [
    "# Aplicar la función al income_type\n",
    "# Ya fue aplicado arriba"
   ]
  },
  {
   "cell_type": "code",
   "execution_count": 64,
   "metadata": {},
   "outputs": [
    {
     "data": {
      "text/plain": [
       "15208.478801869218"
      ]
     },
     "execution_count": 64,
     "metadata": {},
     "output_type": "execute_result"
    }
   ],
   "source": [
    "# Comprueba si la función funcionó\n",
    "days_employed_mean_income_type(general_data.loc[12])"
   ]
  },
  {
   "cell_type": "markdown",
   "metadata": {},
   "source": [
    "<div class=\"alert alert-danger\">\n",
    "<h2> Comentarios del revisor</h2>\n",
    "\n",
    "Creo que hay código duplicado que genera un error, eliminando la última función debería arreglarse.\n",
    "</div>"
   ]
  },
  {
   "cell_type": "markdown",
   "metadata": {},
   "source": [
    "<div class=\"alert alert-info\">\n",
    "<h2> Comentarios del estudiante</h2>\n",
    "Si, habia un codigo duplicado, esta corregido ahora.\n",
    "</div>"
   ]
  },
  {
   "cell_type": "code",
   "execution_count": 65,
   "metadata": {},
   "outputs": [
    {
     "name": "stdout",
     "output_type": "stream",
     "text": [
      "<class 'pandas.core.frame.DataFrame'>\n",
      "Int64Index: 21524 entries, 0 to 21524\n",
      "Data columns (total 15 columns):\n",
      " #   Column               Non-Null Count  Dtype  \n",
      "---  ------               --------------  -----  \n",
      " 0   children             21524 non-null  int64  \n",
      " 1   days_employed        19350 non-null  float64\n",
      " 2   dob_years            21524 non-null  int64  \n",
      " 3   education            21524 non-null  object \n",
      " 4   education_id         21524 non-null  int64  \n",
      " 5   family_status        21524 non-null  object \n",
      " 6   family_status_id     21524 non-null  int64  \n",
      " 7   gender               21524 non-null  object \n",
      " 8   income_type          21524 non-null  object \n",
      " 9   debt                 21524 non-null  int64  \n",
      " 10  total_income         19350 non-null  float64\n",
      " 11  purpose              21524 non-null  object \n",
      " 12  age_group            21524 non-null  object \n",
      " 13  total_income_clean   21524 non-null  float64\n",
      " 14  days_employed_clean  21524 non-null  float64\n",
      "dtypes: float64(4), int64(5), object(6)\n",
      "memory usage: 3.1+ MB\n"
     ]
    }
   ],
   "source": [
    "# Reemplazar valores ausentes\n",
    "general_data['days_employed_clean'] = general_data.apply(days_employed_mean_income_type, axis=1)\n",
    "general_data.info()\n"
   ]
  },
  {
   "cell_type": "code",
   "execution_count": 66,
   "metadata": {},
   "outputs": [
    {
     "name": "stdout",
     "output_type": "stream",
     "text": [
      "Las entradas totales en days_employed_clean_count son: 21524, y en children: 21524, por lo tanto es acertado decir que fue exitosa la funcion.\n"
     ]
    }
   ],
   "source": [
    "# Comprueba las entradas en todas las columnas: asegúrate de que hayamos corregido todos los valores ausentes\n",
    "days_employed_clean_count = general_data['days_employed_clean'].count()\n",
    "children_count = general_data['children'].count()\n",
    "\n",
    "print(f'Las entradas totales en days_employed_clean_count son: {days_employed_clean_count}, y en children: {children_count}, por lo tanto es acertado decir que fue exitosa la funcion.')"
   ]
  },
  {
   "cell_type": "code",
   "execution_count": 67,
   "metadata": {
    "scrolled": true
   },
   "outputs": [
    {
     "data": {
      "text/plain": [
       "count           21524\n",
       "unique              9\n",
       "top       real estate\n",
       "freq             4477\n",
       "Name: purpose, dtype: object"
      ]
     },
     "execution_count": 67,
     "metadata": {},
     "output_type": "execute_result"
    }
   ],
   "source": [
    "# Muestra los valores de los datos seleccionados para la clasificación\n",
    "general_data['purpose'].describe()\n"
   ]
  },
  {
   "cell_type": "markdown",
   "metadata": {},
   "source": [
    "Vamos a comprobar los valores únicos"
   ]
  },
  {
   "cell_type": "code",
   "execution_count": 68,
   "metadata": {},
   "outputs": [
    {
     "data": {
      "text/plain": [
       "array(['house purchase', 'car', 'education motives', 'wedding', 'housing',\n",
       "       'real estate', 'property', 'second-hand car purchase',\n",
       "       'going to university'], dtype=object)"
      ]
     },
     "execution_count": 68,
     "metadata": {},
     "output_type": "execute_result"
    }
   ],
   "source": [
    "# Comprobar los valores únicos\n",
    "general_data['purpose'].unique()"
   ]
  },
  {
   "cell_type": "markdown",
   "metadata": {},
   "source": [
    "Como antes se reemplazo los valores de purpose por temas en comun, no es absolutamente necesario agruparlos en categorias, ya que no hay valores similares, pero por el proposito del proyecto de todas maneras se lo puede realizar.\n"
   ]
  },
  {
   "cell_type": "code",
   "execution_count": 69,
   "metadata": {},
   "outputs": [],
   "source": [
    "# Escribamos una función para clasificar los datos en función de temas comunes\n",
    "def purpose_group(x):\n",
    "    if 'car' in x:\n",
    "        return 'car'\n",
    "    elif 'real estate' in x:\n",
    "        return 'real estate motives'\n",
    "    elif 'education' in x:\n",
    "        return 'education motives'\n",
    "    elif 'educated' in x:\n",
    "        return 'education motives'\n",
    "    elif 'housing' in x:\n",
    "        return 'house purposes'\n",
    "    elif 'wedding' in x:\n",
    "        return 'wedding fonds'\n",
    "    elif 'house' in x:\n",
    "        return 'house purchase'\n",
    "    elif 'property' in x:\n",
    "        return 'house purposes'\n",
    "    elif 'university' in x:\n",
    "        return 'education motives'"
   ]
  },
  {
   "cell_type": "code",
   "execution_count": 70,
   "metadata": {},
   "outputs": [
    {
     "data": {
      "text/plain": [
       "real estate motives    4477\n",
       "house purposes         4454\n",
       "car                    4315\n",
       "education motives      4022\n",
       "wedding fonds          2348\n",
       "house purchase         1908\n",
       "Name: purpose_group, dtype: int64"
      ]
     },
     "execution_count": 70,
     "metadata": {},
     "output_type": "execute_result"
    }
   ],
   "source": [
    "# Crea una columna con las categorías y cuenta los valores en ellas\n",
    "\n",
    "general_data['purpose_group'] = general_data['purpose'].apply(purpose_group)\n",
    "general_data['purpose_group'].value_counts()"
   ]
  },
  {
   "cell_type": "code",
   "execution_count": 71,
   "metadata": {},
   "outputs": [
    {
     "name": "stdout",
     "output_type": "stream",
     "text": [
      "<class 'pandas.core.frame.DataFrame'>\n",
      "Int64Index: 21524 entries, 0 to 21524\n",
      "Data columns (total 16 columns):\n",
      " #   Column               Non-Null Count  Dtype  \n",
      "---  ------               --------------  -----  \n",
      " 0   children             21524 non-null  int64  \n",
      " 1   days_employed        19350 non-null  float64\n",
      " 2   dob_years            21524 non-null  int64  \n",
      " 3   education            21524 non-null  object \n",
      " 4   education_id         21524 non-null  int64  \n",
      " 5   family_status        21524 non-null  object \n",
      " 6   family_status_id     21524 non-null  int64  \n",
      " 7   gender               21524 non-null  object \n",
      " 8   income_type          21524 non-null  object \n",
      " 9   debt                 21524 non-null  int64  \n",
      " 10  total_income         19350 non-null  float64\n",
      " 11  purpose              21524 non-null  object \n",
      " 12  age_group            21524 non-null  object \n",
      " 13  total_income_clean   21524 non-null  float64\n",
      " 14  days_employed_clean  21524 non-null  float64\n",
      " 15  purpose_group        21524 non-null  object \n",
      "dtypes: float64(4), int64(5), object(7)\n",
      "memory usage: 3.3+ MB\n"
     ]
    }
   ],
   "source": [
    "# Revisar todos los datos numéricos en la columna seleccionada para la clasificación\n",
    "general_data.info()"
   ]
  },
  {
   "cell_type": "code",
   "execution_count": 72,
   "metadata": {},
   "outputs": [
    {
     "data": {
      "text/plain": [
       "count     21524.000000\n",
       "mean      26435.618312\n",
       "std       15687.283573\n",
       "min        3306.762000\n",
       "25%       17247.356500\n",
       "50%       22815.103500\n",
       "75%       31287.232000\n",
       "max      362496.645000\n",
       "Name: total_income_clean, dtype: float64"
      ]
     },
     "execution_count": 72,
     "metadata": {},
     "output_type": "execute_result"
    }
   ],
   "source": [
    "# Obtener estadísticas resumidas para la columna\n",
    "general_data['total_income_clean'].describe()\n"
   ]
  },
  {
   "cell_type": "markdown",
   "metadata": {},
   "source": [
    "Para la cantidad de hijos voy a usar de 1 a 3 como la cantidad promedio(average), mientras que para salarios voy a usar los valores de 0 al 25% para un salario bajo, de 25% al 50% para un salario promedio, y finalmente de 50% para arriba como un salario alto."
   ]
  },
  {
   "cell_type": "code",
   "execution_count": 73,
   "metadata": {},
   "outputs": [],
   "source": [
    "# Crear una función para clasificar en diferentes grupos numéricos basándose en rangos\n",
    "def children_group(x):\n",
    "    if x == 0:\n",
    "        return 'no kids'\n",
    "    if 0 < x <= 3:\n",
    "        return 'average'\n",
    "    if 3 <= x <= 5:\n",
    "        return 'high'\n",
    "\n",
    "def salary_group(x):\n",
    "    if 0 <= x <= 17247.356500:\n",
    "        return 'low salary'\n",
    "    if 17247.356500 <= x <= 22815.103500:\n",
    "        return 'average salary'\n",
    "    if 22815.103500 <= x:\n",
    "        return 'high salary'"
   ]
  },
  {
   "cell_type": "code",
   "execution_count": 74,
   "metadata": {},
   "outputs": [],
   "source": [
    "# Crear una columna con categorías\n",
    "general_data['children_group'] = general_data['children'].apply(children_group)\n",
    "general_data['salary_group'] = general_data['total_income_clean'].apply(salary_group)"
   ]
  },
  {
   "cell_type": "code",
   "execution_count": 75,
   "metadata": {
    "scrolled": true
   },
   "outputs": [
    {
     "name": "stdout",
     "output_type": "stream",
     "text": [
      "no kids    14271\n",
      "average     7203\n",
      "high          50\n",
      "Name: children_group, dtype: int64\n",
      "high salary       10619\n",
      "average salary     5524\n",
      "low salary         5381\n",
      "Name: salary_group, dtype: int64\n"
     ]
    }
   ],
   "source": [
    "# Contar los valores de cada categoría para ver la distribución\n",
    "print(general_data['children_group'].value_counts())\n",
    "print(general_data['salary_group'].value_counts())"
   ]
  },
  {
   "cell_type": "markdown",
   "metadata": {},
   "source": [
    "## Comprobación de las hipótesis\n"
   ]
  },
  {
   "cell_type": "markdown",
   "metadata": {},
   "source": [
    "**¿Existe una correlación entre tener hijos y pagar a tiempo?**"
   ]
  },
  {
   "cell_type": "code",
   "execution_count": 76,
   "metadata": {},
   "outputs": [],
   "source": [
    "children_group_1 = (general_data[(general_data['children_group'] == 'no kids') & (general_data['debt'] == 0)].count())\n",
    "children_group_2 = (general_data[(general_data['children_group'] == 'average') & (general_data['debt'] == 0)].count())\n",
    "children_group_3 = (general_data[(general_data['children_group'] == 'high') & (general_data['debt'] == 0)].count())\n",
    "children_group_1_debt = (general_data[(general_data['children_group'] == 'no kids') & (general_data['debt'] == 1)].count())\n",
    "children_group_2_debt = (general_data[(general_data['children_group'] == 'average') & (general_data['debt'] == 1)].count())\n",
    "children_group_3_debt = (general_data[(general_data['children_group'] == 'high') & (general_data['debt'] == 1)].count())"
   ]
  },
  {
   "cell_type": "code",
   "execution_count": 77,
   "metadata": {},
   "outputs": [
    {
     "name": "stdout",
     "output_type": "stream",
     "text": [
      "La tasa de incumplimiento cuando tienen 0 hijos es: 8.121827%.\n",
      "La tasa de incumplimiento cuando tienen de 1 a 3 hijos es: 10.171306%.\n",
      "La tasa de incumplimiento cuando tienen de 3 a 5 hijos es: 8.695652%.\n",
      "La tasa de incumplimiento cuando tienen hijos y cuando no es: 10.74513097259564.\n"
     ]
    }
   ],
   "source": [
    "# Comprueba los datos sobre los hijos y los pagos puntuales\n",
    "children_group_1_total = 13199\n",
    "children_group_2_total = 6538\n",
    "children_group_3_total = 46\n",
    "children_group_1_debt_total = 1072\n",
    "children_group_2_debt_total = 665\n",
    "children_group_3_debt_total = 4\n",
    "# Calcular la tasa de incumplimiento en función del número de hijos\n",
    "print(f'La tasa de incumplimiento cuando tienen 0 hijos es: {(children_group_1_debt_total/children_group_1_total):%}.')\n",
    "print(f'La tasa de incumplimiento cuando tienen de 1 a 3 hijos es: {(children_group_2_debt_total/children_group_2_total):%}.')\n",
    "print(f'La tasa de incumplimiento cuando tienen de 3 a 5 hijos es: {(children_group_3_debt_total/children_group_3_total):%}.')\n",
    "grupo_1 = (children_group_2_debt_total/children_group_2_total) * 100\n",
    "grupo_2 = (children_group_3_debt_total/children_group_3_total) * 100\n",
    "total_deuda_hijos = (grupo_1+grupo_2)\n",
    "print(f'La tasa de incumplimiento cuando tienen hijos y cuando no es: {(total_deuda_hijos-((children_group_1_debt_total/children_group_1_total)) * 100)}.')"
   ]
  },
  {
   "cell_type": "markdown",
   "metadata": {},
   "source": [
    "**Conclusión**\n",
    "\n",
    "Las personas que tienen de 1 a 3 hijos son las personas que menos cumplen con sus deudas, mientras las que mas cumplen son las personas que no tienen hijos."
   ]
  },
  {
   "cell_type": "markdown",
   "metadata": {},
   "source": [
    "**¿Existe una correlación entre la situación familiar y el pago a tiempo?**"
   ]
  },
  {
   "cell_type": "code",
   "execution_count": 78,
   "metadata": {},
   "outputs": [],
   "source": [
    "family_status_0 = (general_data[(general_data['family_status_id'] == 0) & (general_data['debt'] == 0)].count())\n",
    "family_status_1 = (general_data[(general_data['family_status_id'] == 1) & (general_data['debt'] == 0)].count())\n",
    "family_status_2 = (general_data[(general_data['family_status_id'] == 2) & (general_data['debt'] == 0)].count())\n",
    "family_status_3 = (general_data[(general_data['family_status_id'] == 3) & (general_data['debt'] == 0)].count())\n",
    "family_status_4 = (general_data[(general_data['family_status_id'] == 4) & (general_data['debt'] == 0)].count())\n",
    "family_status_0_debt = (general_data[(general_data['family_status_id'] == 0) & (general_data['debt'] == 1)].count())\n",
    "family_status_1_debt = (general_data[(general_data['family_status_id'] == 1) & (general_data['debt'] == 1)].count())\n",
    "family_status_2_debt = (general_data[(general_data['family_status_id'] == 2) & (general_data['debt'] == 1)].count())\n",
    "family_status_3_debt = (general_data[(general_data['family_status_id'] == 3) & (general_data['debt'] == 1)].count())\n",
    "family_status_4_debt = (general_data[(general_data['family_status_id'] == 4) & (general_data['debt'] == 1)].count())"
   ]
  },
  {
   "cell_type": "code",
   "execution_count": 79,
   "metadata": {},
   "outputs": [
    {
     "name": "stdout",
     "output_type": "stream",
     "text": [
      "La tasa de incumplimiento cuando son casados es: 8.131715%.\n",
      "La tasa de incumplimiento cuando son unidos es: 10.242872%.\n",
      "La tasa de incumplimiento cuando son viudos/viudas es: 7.023411%.\n",
      "La tasa de incumplimiento cuando son divorciados es: 7.657658%.\n",
      "La tasa de incumplimiento cuando son solteros es: 10.791650%.\n"
     ]
    }
   ],
   "source": [
    "# Comprueba los datos del estado familiar y los pagos a tiempo\n",
    "family_status_0_total = 11449\n",
    "family_status_1_total = 3788\n",
    "family_status_2_total = 897\n",
    "family_status_3_total = 1110\n",
    "family_status_4_total = 2539\n",
    "family_status_0_debt_total = 931\n",
    "family_status_1_debt_total = 388\n",
    "family_status_2_debt_total = 63\n",
    "family_status_3_debt_total = 85\n",
    "family_status_4_debt_total = 274\n",
    "# Calcular la tasa de incumplimiento basada en el estado familiar\n",
    "print(f'La tasa de incumplimiento cuando son casados es: {(family_status_0_debt_total/family_status_0_total):%}.')\n",
    "print(f'La tasa de incumplimiento cuando son unidos es: {(family_status_1_debt_total/family_status_1_total):%}.')\n",
    "print(f'La tasa de incumplimiento cuando son viudos/viudas es: {(family_status_2_debt_total/family_status_2_total):%}.')\n",
    "print(f'La tasa de incumplimiento cuando son divorciados es: {(family_status_3_debt_total/family_status_3_total):%}.')\n",
    "print(f'La tasa de incumplimiento cuando son solteros es: {(family_status_4_debt_total/family_status_4_total):%}.')"
   ]
  },
  {
   "cell_type": "markdown",
   "metadata": {},
   "source": [
    "**Conclusión**\n",
    "\n",
    "Las personas solteras son las que menos tienen responsabilidad con sus deudas, mientras que los mas responsables con sus deudad son los viudos/viudas."
   ]
  },
  {
   "cell_type": "markdown",
   "metadata": {},
   "source": [
    "**¿Existe una correlación entre el nivel de ingresos y el pago a tiempo?**"
   ]
  },
  {
   "cell_type": "code",
   "execution_count": 80,
   "metadata": {},
   "outputs": [],
   "source": [
    "salary_group_1 = (general_data[(general_data['salary_group'] == 'low salary') & (general_data['debt'] == 0)].count())\n",
    "salary_group_2 = (general_data[(general_data['salary_group'] == 'average salary') & (general_data['debt'] == 0)].count())\n",
    "salary_group_3 = (general_data[(general_data['salary_group'] == 'high salary') & (general_data['debt'] == 0)].count())\n",
    "salary_group_debt_1 = (general_data[(general_data['salary_group'] == 'low salary') & (general_data['debt'] == 1)].count())\n",
    "salary_group_debt_2 = (general_data[(general_data['salary_group'] == 'average salary') & (general_data['debt'] == 1)].count())\n",
    "salary_group_debt_3 = (general_data[(general_data['salary_group'] == 'high salary') & (general_data['debt'] == 1)].count())"
   ]
  },
  {
   "cell_type": "code",
   "execution_count": 81,
   "metadata": {},
   "outputs": [
    {
     "name": "stdout",
     "output_type": "stream",
     "text": [
      "La tasa de incumplimiento cuando tienen un salario bajo es: 8.619298%.\n",
      "La tasa de incumplimiento cuando tienen un salario promedio es: 9.581432%.\n",
      "La tasa de incumplimiento cuando tienen un salario alto es: 8.489988%.\n"
     ]
    }
   ],
   "source": [
    "# Comprueba los datos del nivel de ingresos y los pagos a tiempo\n",
    "salary_1_total = 4954\n",
    "salary_2_total = 5041\n",
    "salary_3_total = 9788\n",
    "salary_1_debt_total = 427\n",
    "salary_2_debt_total = 483\n",
    "salary_3_debt_total = 831\n",
    "# Calcular la tasa de incumplimiento basada en el nivel de ingresos\n",
    "print(f'La tasa de incumplimiento cuando tienen un salario bajo es: {(salary_1_debt_total/salary_1_total):%}.')\n",
    "print(f'La tasa de incumplimiento cuando tienen un salario promedio es: {(salary_2_debt_total/salary_2_total):%}.')\n",
    "print(f'La tasa de incumplimiento cuando tienen un salario alto es: {(salary_3_debt_total/salary_3_total):%}.')"
   ]
  },
  {
   "cell_type": "markdown",
   "metadata": {},
   "source": [
    "**Conclusión**\n",
    "\n",
    "Las personas con un salario promedio son las que tienden a no cumplir con sus deudas, mientras que los que mas cumplen con esta obligacion son los de salario alto."
   ]
  },
  {
   "cell_type": "markdown",
   "metadata": {},
   "source": [
    "**¿Cómo afecta el propósito del crédito a la tasa de incumplimiento?**"
   ]
  },
  {
   "cell_type": "code",
   "execution_count": 82,
   "metadata": {},
   "outputs": [],
   "source": [
    "house_purchase = (general_data[(general_data['purpose_group'] == 'house purchase') & (general_data['debt'] == 0)].count())\n",
    "car = (general_data[(general_data['purpose_group'] == 'car') & (general_data['debt'] == 0)].count())\n",
    "education_motives = (general_data[(general_data['purpose_group'] == 'education motives') & (general_data['debt'] == 0)].count())\n",
    "wedding = (general_data[(general_data['purpose_group'] == 'wedding fonds') & (general_data['debt'] == 0)].count())\n",
    "house_purposes = (general_data[(general_data['purpose_group'] == 'house purposes') & (general_data['debt'] == 0)].count())\n",
    "real_estate_motives = (general_data[(general_data['purpose_group'] == 'real estate motives') & (general_data['debt'] == 0)].count())\n",
    "house_purchase_debt = (general_data[(general_data['purpose_group'] == 'house purchase') & (general_data['debt'] == 1)].count())\n",
    "car_debt = (general_data[(general_data['purpose_group'] == 'car') & (general_data['debt'] == 1)].count())\n",
    "education_motives_debt = (general_data[(general_data['purpose_group'] == 'education motives') & (general_data['debt'] == 1)].count())\n",
    "wedding_debt = (general_data[(general_data['purpose_group'] == 'wedding fonds') & (general_data['debt'] == 1)].count())\n",
    "house_purposes_debt = (general_data[(general_data['purpose_group'] == 'house purposes') & (general_data['debt'] == 1)].count())\n",
    "real_estate_motives_debt = (general_data[(general_data['purpose_group'] == 'real estate motives') & (general_data['debt'] == 1)].count())"
   ]
  },
  {
   "cell_type": "code",
   "execution_count": 83,
   "metadata": {},
   "outputs": [
    {
     "name": "stdout",
     "output_type": "stream",
     "text": [
      "La tasa de incumplimiento cuando quieren comprarse una casa es: 7.130825%.\n",
      "La tasa de incumplimiento cuando quieren comprarse un carro es: 10.301636%.\n",
      "La tasa de incumplimiento cuando quieren invertir en educacion es: 10.131435%.\n",
      "La tasa de incumplimiento cuando quieren invertir en fondos para boda es: 8.603145%.\n",
      "La tasa de incumplimiento cuando quieren invertir en propiedades es: 7.714631%.\n",
      "La tasa de incumplimiento cuando quieren invertir en bienes raices es: 8.113982%.\n"
     ]
    }
   ],
   "source": [
    "# Consulta los porcentajes de tasa de incumplimiento para cada propósito del crédito y analízalos\n",
    "house_purchase_total = 1781\n",
    "car_total = 3912\n",
    "education_motives_total = 3652\n",
    "wedding_total = 2162\n",
    "house_purposes_total = 4135\n",
    "real_estate_motives_total = 4141\n",
    "house_purchase_debt_total = 127\n",
    "car_debt_total = 403\n",
    "education_motives_debt_total = 370\n",
    "wedding_debt_total = 186\n",
    "house_purposes_debt_total = 319\n",
    "real_estate_motives_debt_total = 336\n",
    "print(f'La tasa de incumplimiento cuando quieren comprarse una casa es: {(house_purchase_debt_total/house_purchase_total):%}.')\n",
    "print(f'La tasa de incumplimiento cuando quieren comprarse un carro es: {(car_debt_total/car_total):%}.')\n",
    "print(f'La tasa de incumplimiento cuando quieren invertir en educacion es: {(education_motives_debt_total/education_motives_total):%}.')\n",
    "print(f'La tasa de incumplimiento cuando quieren invertir en fondos para boda es: {(wedding_debt_total/wedding_total):%}.')\n",
    "print(f'La tasa de incumplimiento cuando quieren invertir en propiedades es: {(house_purposes_debt_total/house_purposes_total):%}.')\n",
    "print(f'La tasa de incumplimiento cuando quieren invertir en bienes raices es: {(real_estate_motives_debt_total/real_estate_motives_total):%}.')"
   ]
  },
  {
   "cell_type": "markdown",
   "metadata": {},
   "source": [
    "<div class=\"alert alert-success\">\n",
    "<h2> Comentarios del revisor V1</h2>\n",
    "\n",
    "Felicitaciones, muy buen trabajo en general!\n",
    "</div>"
   ]
  },
  {
   "cell_type": "markdown",
   "metadata": {},
   "source": [
    "<div class=\"alert alert-success\">\n",
    "<h2> Comentarios del revisor V2</h2>\n",
    "\n",
    "Excelente trabajo, tienes todo muy claro!\n",
    "</div>"
   ]
  },
  {
   "cell_type": "markdown",
   "metadata": {},
   "source": [
    "**Conclusión**\n",
    "\n",
    "Las personas que quieren comprarse un carro en este caso son los que menos cumplen con su deuda, mientras que los que mas cumplen son los que quieren comprarse una casa.\n"
   ]
  },
  {
   "cell_type": "markdown",
   "metadata": {},
   "source": [
    "# Conclusión general \n",
    "\n",
    "\n",
    "# 1.- La correlacion entre tener hijos y tener deudas, a no tener hijos y tener deudas existe y fue 10.74513097259564%.\n",
    "\n",
    "# 2.- La correlacion entre el estado civil y estar endeudados existe y fue allado previamente.\n",
    "\n",
    "# 3.- La correlacion entre el tipo de salario que gana cada persona y tener deudas existe, siendo los que tienen salario promedio los que menos cumplen con sus deudas, y los que tienen mejor salario cumplen mas con sus deudas.\n",
    "\n",
    "# 4 .- El proposito de prestamo tambien afecta al si tienen deuda o no, pues los que quieren comprarse carros tienen menos tendencia a cumplir con su obligacion, mientras que los que quieren comprarse una casa cumplen mas con esta.\n",
    "\n",
    "# Conclusion .- La conclusion general es que dependiendo de muchos factores es posible examinar si un candidato es apto para el prestamo, pues depende de sus ingresos, cantidad de hijos, estado civil, entre otros. "
   ]
  }
 ],
 "metadata": {
  "ExecuteTimeLog": [
   {
    "duration": 2741,
    "start_time": "2021-10-21T01:08:49.480Z"
   },
   {
    "duration": 52,
    "start_time": "2021-10-21T01:08:53.315Z"
   },
   {
    "duration": 49,
    "start_time": "2021-10-21T01:08:57.432Z"
   },
   {
    "duration": 70,
    "start_time": "2021-10-21T01:09:07.706Z"
   }
  ],
  "kernelspec": {
   "display_name": "Python 3 (ipykernel)",
   "language": "python",
   "name": "python3"
  },
  "language_info": {
   "codemirror_mode": {
    "name": "ipython",
    "version": 3
   },
   "file_extension": ".py",
   "mimetype": "text/x-python",
   "name": "python",
   "nbconvert_exporter": "python",
   "pygments_lexer": "ipython3",
   "version": "3.9.19"
  },
  "toc": {
   "base_numbering": 1,
   "nav_menu": {},
   "number_sections": true,
   "sideBar": true,
   "skip_h1_title": true,
   "title_cell": "Table of Contents",
   "title_sidebar": "Contents",
   "toc_cell": false,
   "toc_position": {},
   "toc_section_display": true,
   "toc_window_display": false
  }
 },
 "nbformat": 4,
 "nbformat_minor": 2
}
