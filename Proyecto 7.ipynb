{
 "cells": [
  {
   "cell_type": "markdown",
   "metadata": {},
   "source": [
    "**Code reviewer**\n",
    "\n",
    "¡Hola en esta nueva aventura!\n",
    "\n",
    "Mi nombre es **Ivan Hernandez** y seré tu revisor de código para este proyecto.\n",
    "\n",
    "Revisaré todo el cuaderno con preguntas o comentarios dejados atrás. Te animo a responder los comentarios con cualquier duda o solución a la recomendación o problema presentado **(con la celda en color azul)**, esa es la mejor manera de entender y aprender en este nuevo mundo de datos y programación. Seguiré la misma lista de verificación y los mismos pasos en los criterios de evaluación del proyecto.\n",
    "\n",
    " Importante, <span style=\"color:red\">por favor no cambies mis comentarios</span>, es una buena forma de seguir tu aprendizaje por mí y otros revisores de código y finalmente, pongo un ejemplo del color del código y su significado."
   ]
  },
  {
   "cell_type": "markdown",
   "metadata": {},
   "source": [
    "<div class=\"alert alert-success\">\n",
    "<h1> Comentarios del revisor </h1>\n",
    "Excelente trabajo y ejecución\n",
    "</div>"
   ]
  },
  {
   "cell_type": "markdown",
   "metadata": {},
   "source": [
    "<div class=\"alert alert-warning\">\n",
    "<h1> Comentarios del revisor </h1>\n",
    "Comentario no crítico; si hay menos de tres de tales comentarios, el proyecto puede aceptarse sin su refinamiento.</div>"
   ]
  },
  {
   "cell_type": "markdown",
   "metadata": {},
   "source": [
    "<div class=\"alert alert-danger\">\n",
    "<h1> Comentarios del revisor </h1>\n",
    "Error que debe corregirse, de lo contrario el proyecto no será aceptado.\n",
    "</div>"
   ]
  },
  {
   "cell_type": "markdown",
   "metadata": {},
   "source": [
    "<div class=\"alert alert-info\">\n",
    "<h1> Comentarios del estudiante</h1>\n",
    "Comentario de ejemplo\n",
    "</div>"
   ]
  },
  {
   "cell_type": "markdown",
   "metadata": {},
   "source": [
    "# Analisis Empresarial\n",
    "\n",
    "No estoy satisfecho con el hecho de que muchos de nuestros clientes estén usando planes heredados en la compañía móvil Megaline. Me gustaría desarrollar un modelo que pueda analizar el comportamiento de nuestros clientes y recomendar uno de los nuevos planes de Megaline: Smart o Ultra.\n",
    "\n",
    "Para esta tarea de clasificación, debo crear un modelo que pueda elegir el plan adecuado. Ya he completado el paso de procesamiento de datos, así que puedo empezar directamente a crear el modelo."
   ]
  },
  {
   "cell_type": "markdown",
   "metadata": {},
   "source": [
    "## Importacion de librerias\n",
    "\n",
    "Vamos a cargar las librerias y separar los datos dependiendo de nuestro objetivo para los conjuntos de entrenamiento, validacion y prueba."
   ]
  },
  {
   "cell_type": "code",
   "execution_count": 1,
   "metadata": {},
   "outputs": [],
   "source": [
    "#Importamos todas las librerias que nos puedan ser utiles\n",
    "import pandas as pd\n",
    "from sklearn.tree import DecisionTreeClassifier\n",
    "from sklearn.metrics import accuracy_score\n",
    "from sklearn.model_selection import train_test_split\n",
    "from sklearn.metrics import mean_squared_error\n",
    "from sklearn.tree import DecisionTreeRegressor\n",
    "from sklearn.ensemble import RandomForestRegressor\n",
    "from sklearn.linear_model import LinearRegression\n",
    "from sklearn.ensemble import RandomForestClassifier\n",
    "from sklearn.linear_model import LogisticRegression"
   ]
  },
  {
   "cell_type": "markdown",
   "metadata": {},
   "source": [
    "## Visualizacion y segmentacion de datos"
   ]
  },
  {
   "cell_type": "markdown",
   "metadata": {},
   "source": [
    "### Visualizacion"
   ]
  },
  {
   "cell_type": "code",
   "execution_count": 2,
   "metadata": {},
   "outputs": [],
   "source": [
    "#Cargamos el dataframe en una variable\n",
    "df = pd.read_csv('/datasets/users_behavior.csv')"
   ]
  },
  {
   "cell_type": "code",
   "execution_count": 3,
   "metadata": {},
   "outputs": [
    {
     "name": "stdout",
     "output_type": "stream",
     "text": [
      "<class 'pandas.core.frame.DataFrame'>\n",
      "RangeIndex: 3214 entries, 0 to 3213\n",
      "Data columns (total 5 columns):\n",
      " #   Column    Non-Null Count  Dtype  \n",
      "---  ------    --------------  -----  \n",
      " 0   calls     3214 non-null   float64\n",
      " 1   minutes   3214 non-null   float64\n",
      " 2   messages  3214 non-null   float64\n",
      " 3   mb_used   3214 non-null   float64\n",
      " 4   is_ultra  3214 non-null   int64  \n",
      "dtypes: float64(4), int64(1)\n",
      "memory usage: 125.7 KB\n"
     ]
    }
   ],
   "source": [
    "#Visualizamos informacion del dataframe\n",
    "df.info()"
   ]
  },
  {
   "cell_type": "code",
   "execution_count": 4,
   "metadata": {},
   "outputs": [
    {
     "data": {
      "text/html": [
       "<div>\n",
       "<style scoped>\n",
       "    .dataframe tbody tr th:only-of-type {\n",
       "        vertical-align: middle;\n",
       "    }\n",
       "\n",
       "    .dataframe tbody tr th {\n",
       "        vertical-align: top;\n",
       "    }\n",
       "\n",
       "    .dataframe thead th {\n",
       "        text-align: right;\n",
       "    }\n",
       "</style>\n",
       "<table border=\"1\" class=\"dataframe\">\n",
       "  <thead>\n",
       "    <tr style=\"text-align: right;\">\n",
       "      <th></th>\n",
       "      <th>calls</th>\n",
       "      <th>minutes</th>\n",
       "      <th>messages</th>\n",
       "      <th>mb_used</th>\n",
       "      <th>is_ultra</th>\n",
       "    </tr>\n",
       "  </thead>\n",
       "  <tbody>\n",
       "    <tr>\n",
       "      <th>count</th>\n",
       "      <td>3214.000000</td>\n",
       "      <td>3214.000000</td>\n",
       "      <td>3214.000000</td>\n",
       "      <td>3214.000000</td>\n",
       "      <td>3214.000000</td>\n",
       "    </tr>\n",
       "    <tr>\n",
       "      <th>mean</th>\n",
       "      <td>63.038892</td>\n",
       "      <td>438.208787</td>\n",
       "      <td>38.281269</td>\n",
       "      <td>17207.673836</td>\n",
       "      <td>0.306472</td>\n",
       "    </tr>\n",
       "    <tr>\n",
       "      <th>std</th>\n",
       "      <td>33.236368</td>\n",
       "      <td>234.569872</td>\n",
       "      <td>36.148326</td>\n",
       "      <td>7570.968246</td>\n",
       "      <td>0.461100</td>\n",
       "    </tr>\n",
       "    <tr>\n",
       "      <th>min</th>\n",
       "      <td>0.000000</td>\n",
       "      <td>0.000000</td>\n",
       "      <td>0.000000</td>\n",
       "      <td>0.000000</td>\n",
       "      <td>0.000000</td>\n",
       "    </tr>\n",
       "    <tr>\n",
       "      <th>25%</th>\n",
       "      <td>40.000000</td>\n",
       "      <td>274.575000</td>\n",
       "      <td>9.000000</td>\n",
       "      <td>12491.902500</td>\n",
       "      <td>0.000000</td>\n",
       "    </tr>\n",
       "    <tr>\n",
       "      <th>50%</th>\n",
       "      <td>62.000000</td>\n",
       "      <td>430.600000</td>\n",
       "      <td>30.000000</td>\n",
       "      <td>16943.235000</td>\n",
       "      <td>0.000000</td>\n",
       "    </tr>\n",
       "    <tr>\n",
       "      <th>75%</th>\n",
       "      <td>82.000000</td>\n",
       "      <td>571.927500</td>\n",
       "      <td>57.000000</td>\n",
       "      <td>21424.700000</td>\n",
       "      <td>1.000000</td>\n",
       "    </tr>\n",
       "    <tr>\n",
       "      <th>max</th>\n",
       "      <td>244.000000</td>\n",
       "      <td>1632.060000</td>\n",
       "      <td>224.000000</td>\n",
       "      <td>49745.730000</td>\n",
       "      <td>1.000000</td>\n",
       "    </tr>\n",
       "  </tbody>\n",
       "</table>\n",
       "</div>"
      ],
      "text/plain": [
       "             calls      minutes     messages       mb_used     is_ultra\n",
       "count  3214.000000  3214.000000  3214.000000   3214.000000  3214.000000\n",
       "mean     63.038892   438.208787    38.281269  17207.673836     0.306472\n",
       "std      33.236368   234.569872    36.148326   7570.968246     0.461100\n",
       "min       0.000000     0.000000     0.000000      0.000000     0.000000\n",
       "25%      40.000000   274.575000     9.000000  12491.902500     0.000000\n",
       "50%      62.000000   430.600000    30.000000  16943.235000     0.000000\n",
       "75%      82.000000   571.927500    57.000000  21424.700000     1.000000\n",
       "max     244.000000  1632.060000   224.000000  49745.730000     1.000000"
      ]
     },
     "execution_count": 4,
     "metadata": {},
     "output_type": "execute_result"
    }
   ],
   "source": [
    "#Una descripcion del dataframe\n",
    "df.describe()"
   ]
  },
  {
   "cell_type": "code",
   "execution_count": 5,
   "metadata": {},
   "outputs": [
    {
     "data": {
      "text/html": [
       "<div>\n",
       "<style scoped>\n",
       "    .dataframe tbody tr th:only-of-type {\n",
       "        vertical-align: middle;\n",
       "    }\n",
       "\n",
       "    .dataframe tbody tr th {\n",
       "        vertical-align: top;\n",
       "    }\n",
       "\n",
       "    .dataframe thead th {\n",
       "        text-align: right;\n",
       "    }\n",
       "</style>\n",
       "<table border=\"1\" class=\"dataframe\">\n",
       "  <thead>\n",
       "    <tr style=\"text-align: right;\">\n",
       "      <th></th>\n",
       "      <th>calls</th>\n",
       "      <th>minutes</th>\n",
       "      <th>messages</th>\n",
       "      <th>mb_used</th>\n",
       "      <th>is_ultra</th>\n",
       "    </tr>\n",
       "  </thead>\n",
       "  <tbody>\n",
       "    <tr>\n",
       "      <th>0</th>\n",
       "      <td>40.0</td>\n",
       "      <td>311.90</td>\n",
       "      <td>83.0</td>\n",
       "      <td>19915.42</td>\n",
       "      <td>0</td>\n",
       "    </tr>\n",
       "    <tr>\n",
       "      <th>1</th>\n",
       "      <td>85.0</td>\n",
       "      <td>516.75</td>\n",
       "      <td>56.0</td>\n",
       "      <td>22696.96</td>\n",
       "      <td>0</td>\n",
       "    </tr>\n",
       "    <tr>\n",
       "      <th>2</th>\n",
       "      <td>77.0</td>\n",
       "      <td>467.66</td>\n",
       "      <td>86.0</td>\n",
       "      <td>21060.45</td>\n",
       "      <td>0</td>\n",
       "    </tr>\n",
       "    <tr>\n",
       "      <th>3</th>\n",
       "      <td>106.0</td>\n",
       "      <td>745.53</td>\n",
       "      <td>81.0</td>\n",
       "      <td>8437.39</td>\n",
       "      <td>1</td>\n",
       "    </tr>\n",
       "    <tr>\n",
       "      <th>4</th>\n",
       "      <td>66.0</td>\n",
       "      <td>418.74</td>\n",
       "      <td>1.0</td>\n",
       "      <td>14502.75</td>\n",
       "      <td>0</td>\n",
       "    </tr>\n",
       "    <tr>\n",
       "      <th>...</th>\n",
       "      <td>...</td>\n",
       "      <td>...</td>\n",
       "      <td>...</td>\n",
       "      <td>...</td>\n",
       "      <td>...</td>\n",
       "    </tr>\n",
       "    <tr>\n",
       "      <th>3209</th>\n",
       "      <td>122.0</td>\n",
       "      <td>910.98</td>\n",
       "      <td>20.0</td>\n",
       "      <td>35124.90</td>\n",
       "      <td>1</td>\n",
       "    </tr>\n",
       "    <tr>\n",
       "      <th>3210</th>\n",
       "      <td>25.0</td>\n",
       "      <td>190.36</td>\n",
       "      <td>0.0</td>\n",
       "      <td>3275.61</td>\n",
       "      <td>0</td>\n",
       "    </tr>\n",
       "    <tr>\n",
       "      <th>3211</th>\n",
       "      <td>97.0</td>\n",
       "      <td>634.44</td>\n",
       "      <td>70.0</td>\n",
       "      <td>13974.06</td>\n",
       "      <td>0</td>\n",
       "    </tr>\n",
       "    <tr>\n",
       "      <th>3212</th>\n",
       "      <td>64.0</td>\n",
       "      <td>462.32</td>\n",
       "      <td>90.0</td>\n",
       "      <td>31239.78</td>\n",
       "      <td>0</td>\n",
       "    </tr>\n",
       "    <tr>\n",
       "      <th>3213</th>\n",
       "      <td>80.0</td>\n",
       "      <td>566.09</td>\n",
       "      <td>6.0</td>\n",
       "      <td>29480.52</td>\n",
       "      <td>1</td>\n",
       "    </tr>\n",
       "  </tbody>\n",
       "</table>\n",
       "<p>3214 rows × 5 columns</p>\n",
       "</div>"
      ],
      "text/plain": [
       "      calls  minutes  messages   mb_used  is_ultra\n",
       "0      40.0   311.90      83.0  19915.42         0\n",
       "1      85.0   516.75      56.0  22696.96         0\n",
       "2      77.0   467.66      86.0  21060.45         0\n",
       "3     106.0   745.53      81.0   8437.39         1\n",
       "4      66.0   418.74       1.0  14502.75         0\n",
       "...     ...      ...       ...       ...       ...\n",
       "3209  122.0   910.98      20.0  35124.90         1\n",
       "3210   25.0   190.36       0.0   3275.61         0\n",
       "3211   97.0   634.44      70.0  13974.06         0\n",
       "3212   64.0   462.32      90.0  31239.78         0\n",
       "3213   80.0   566.09       6.0  29480.52         1\n",
       "\n",
       "[3214 rows x 5 columns]"
      ]
     },
     "execution_count": 5,
     "metadata": {},
     "output_type": "execute_result"
    }
   ],
   "source": [
    "#Una muestra del dataframe\n",
    "df"
   ]
  },
  {
   "cell_type": "markdown",
   "metadata": {},
   "source": [
    "Vemos que el conjunto de datos no tiene datos problematicos, pues ya ha pasado por el preprocesamiento de datos. Eso significa que podemos ir directo a nuestro analisis."
   ]
  },
  {
   "cell_type": "markdown",
   "metadata": {},
   "source": [
    "### Segmentacion de datos"
   ]
  },
  {
   "cell_type": "code",
   "execution_count": 6,
   "metadata": {},
   "outputs": [],
   "source": [
    "#Separemos los datos de entrenamiento y validacion\n",
    "df_train, df_valid = train_test_split(df, test_size=0.25, random_state=54321)\n",
    "\n",
    "#Separemos el grupo de testeo\n",
    "\n",
    "\n",
    "#Hagamos los features y target\n",
    "features_train = df_train.drop(['is_ultra'], axis=1)\n",
    "target_train = df_train['is_ultra']\n",
    "features_valid = df_valid.drop(['is_ultra'], axis=1)\n",
    "target_valid = df_valid['is_ultra']"
   ]
  },
  {
   "cell_type": "markdown",
   "metadata": {},
   "source": [
    "<div class=\"alert alert-success\">\n",
    "<h1> Comentarios del revisor </h1>\n",
    "Muy buen trabajo!\n",
    "</div>"
   ]
  },
  {
   "cell_type": "markdown",
   "metadata": {},
   "source": [
    "## Prueba de modelos\n",
    "\n",
    "Vamos a comenzar por probar los modelos que puedan ayudarnos mas, es decir, los que puedan clasificar como son: DecisionTreeClassifier y RandomForestClassifier."
   ]
  },
  {
   "cell_type": "markdown",
   "metadata": {},
   "source": [
    "### DecisionTreeClassifier"
   ]
  },
  {
   "cell_type": "code",
   "execution_count": 7,
   "metadata": {},
   "outputs": [
    {
     "name": "stdout",
     "output_type": "stream",
     "text": [
      "Exactitud del mejor modelo en el conjunto de validacion (depth= 8): 0.7947761194029851\n"
     ]
    }
   ],
   "source": [
    "best_model = 0\n",
    "best_result = 0\n",
    "score_1 = 0\n",
    "for depth in range(1, 50):\n",
    "    model_1 = DecisionTreeClassifier(random_state=54321, max_depth=depth) # crea un modelo con la profundidad proporcionada\n",
    "    model_1.fit(features_train, target_train) # entrena el modelo \n",
    "    score_1 = model_1.score(features_valid, target_valid)\n",
    "    if score_1 > best_model:\n",
    "        best_model = score_1\n",
    "        best_result = depth\n",
    "        \n",
    "print(\"Exactitud del mejor modelo en el conjunto de validacion (depth= {}): {}\".format(best_result, best_model))"
   ]
  },
  {
   "cell_type": "code",
   "execution_count": 8,
   "metadata": {},
   "outputs": [
    {
     "name": "stdout",
     "output_type": "stream",
     "text": [
      "Exactitud en el conjunto de prueba: 0.7947761194029851\n"
     ]
    }
   ],
   "source": [
    "x_train, x_test, y_train, y_test = train_test_split(df.drop('is_ultra', axis=1), df['is_ultra'], test_size=0.25, random_state=54321)\n",
    "\n",
    "model_dtc = DecisionTreeClassifier(random_state=54321, max_depth=8)\n",
    "model_dtc.fit(x_train, y_train)\n",
    "\n",
    "predictions_1 = model_dtc.predict(x_test)\n",
    "accuracy_1 = accuracy_score(y_test, predictions_1)\n",
    "print(\"Exactitud en el conjunto de prueba:\", accuracy_1)"
   ]
  },
  {
   "cell_type": "markdown",
   "metadata": {},
   "source": [
    "Podemos ver que en el conjunto de validacion y prueba, el modelo supera el umbral de exactitud requerido, por lo cual se puede tomar en consideracion. Veamos como iran los otros para considerar los dos resultados mas altos."
   ]
  },
  {
   "cell_type": "markdown",
   "metadata": {},
   "source": [
    "### RandomForestClassifier"
   ]
  },
  {
   "cell_type": "code",
   "execution_count": 9,
   "metadata": {},
   "outputs": [
    {
     "name": "stdout",
     "output_type": "stream",
     "text": [
      "Accuracy del mejor modelo en el conjunto de validación (n_estimators = 41): 0.8022388059701493\n"
     ]
    }
   ],
   "source": [
    "best_score = 0\n",
    "best_est = 0\n",
    "for est in range(1, 51, 10):\n",
    "    model_2 = RandomForestClassifier(random_state=54321, n_estimators=est, max_depth = 20)\n",
    "    model_2.fit(features_train, target_train)\n",
    "    score_2 = model_2.score(features_valid, target_valid)\n",
    "    if score_2 > best_score:\n",
    "        best_score = score_2\n",
    "        best_est = est\n",
    "        \n",
    "print(\"Accuracy del mejor modelo en el conjunto de validación (n_estimators = {}): {}\".format(best_est, best_score))\n"
   ]
  },
  {
   "cell_type": "code",
   "execution_count": 10,
   "metadata": {},
   "outputs": [
    {
     "name": "stdout",
     "output_type": "stream",
     "text": [
      "Exactitud en el conjunto de prueba: 0.8009950248756219\n"
     ]
    }
   ],
   "source": [
    "model_rfc = RandomForestClassifier(random_state = 54321, n_estimators = 21, max_depth= 16)\n",
    "model_rfc.fit(x_train, y_train)\n",
    "\n",
    "predictions_2 = model_rfc.predict(x_test)\n",
    "accuracy_2 = accuracy_score(y_test, predictions_2)\n",
    "print(\"Exactitud en el conjunto de prueba:\", accuracy_2)"
   ]
  },
  {
   "cell_type": "markdown",
   "metadata": {},
   "source": [
    "Este bosque inclusive tiene un resultado mas alto, por lo que se puede considerar como el mejor resultado hasta ahora. Despues de intentar con algunas profundidades, su mejor resultado fue con un valor de 16 y 21 numero de estimados."
   ]
  },
  {
   "cell_type": "markdown",
   "metadata": {},
   "source": [
    "### LogisticRegression"
   ]
  },
  {
   "cell_type": "code",
   "execution_count": 11,
   "metadata": {},
   "outputs": [
    {
     "name": "stdout",
     "output_type": "stream",
     "text": [
      "Accuracy del modelo de regresión logística en el conjunto de entrenamiento: 0.7178423236514523\n",
      "Accuracy del modelo de regresión logística en el conjunto de validación: 0.6940298507462687\n"
     ]
    }
   ],
   "source": [
    "model_3 = LogisticRegression(random_state=54321, solver='liblinear')\n",
    "model_3.fit(features_train, target_train)\n",
    "score_train = model_3.score(features_train, target_train)\n",
    "score_valid = model_3.score(features_valid, target_valid)\n",
    "\n",
    "print(\"Accuracy del modelo de regresión logística en el conjunto de entrenamiento:\", score_train)\n",
    "print(\"Accuracy del modelo de regresión logística en el conjunto de validación:\", score_valid)"
   ]
  },
  {
   "cell_type": "markdown",
   "metadata": {},
   "source": [
    "Vemos que los resultados de la regresion lineal no supera o iguala el umbral de exactitud, por lo cual se descarta."
   ]
  },
  {
   "cell_type": "markdown",
   "metadata": {},
   "source": [
    "### DecisionTreeRegressor"
   ]
  },
  {
   "cell_type": "code",
   "execution_count": 12,
   "metadata": {},
   "outputs": [
    {
     "name": "stdout",
     "output_type": "stream",
     "text": [
      "RMSE del mejor modelo en el conjunto de validación (max_depth = 5): 0.40033089897845153\n"
     ]
    }
   ],
   "source": [
    "best_model_2 = None\n",
    "best_result_2 = 10000\n",
    "best_depth = 0\n",
    "\n",
    "for depth in range(1, 6):\n",
    "    model_4 = DecisionTreeRegressor(max_depth=depth, random_state=54321)\n",
    "    model_4.fit(features_train, target_train)\n",
    "    predictions_valid_1 = model_4.predict(features_valid)\n",
    "    result_1 = mean_squared_error(target_valid, predictions_valid_1) ** 0.5\n",
    "    if result_1 < best_result_2:\n",
    "        best_model_2 = model_4\n",
    "        best_result_2 = result_1\n",
    "        best_depth = depth\n",
    "\n",
    "print(f\"RMSE del mejor modelo en el conjunto de validación (max_depth = {best_depth}): {best_result_2}\")"
   ]
  },
  {
   "cell_type": "markdown",
   "metadata": {},
   "source": [
    "Vemos que la exactitud de el arbol de regresion no es alta y tampoco iguala al umbral requerido, teniendo un error cuadratico de 0.4."
   ]
  },
  {
   "cell_type": "markdown",
   "metadata": {},
   "source": [
    "### RandomForestRegressor"
   ]
  },
  {
   "cell_type": "code",
   "execution_count": 13,
   "metadata": {},
   "outputs": [
    {
     "name": "stdout",
     "output_type": "stream",
     "text": [
      "RECM del mejor modelo en el conjunto de validación 0.14749667144498332 n_estimators: 31 best_depth: 10\n"
     ]
    }
   ],
   "source": [
    "best_model_3 = None\n",
    "best_result_3 = 10000\n",
    "best_depth_2 = 0\n",
    "best_est_2 = 0\n",
    "for est in range(1, 51, 10):\n",
    "    for depth in range(1, 11):\n",
    "        model_5 = RandomForestRegressor(random_state = 54321, n_estimators = est, max_depth = depth)\n",
    "        model_5.fit(features_train, target_train)\n",
    "        predictions_valid_2 = model_5.predict(features_valid)\n",
    "        result_2 = mean_squared_error(target_valid, predictions_valid_2)\n",
    "        if result_2 < best_result_3:\n",
    "            best_model_3 = model_5\n",
    "            best_result_3 = result_2\n",
    "            best_est_2 = est\n",
    "            best_depth_2 = depth\n",
    "            \n",
    "print(\"RECM del mejor modelo en el conjunto de validación\", best_result_3, \"n_estimators:\", best_est_2, \"best_depth:\", depth)"
   ]
  },
  {
   "cell_type": "markdown",
   "metadata": {},
   "source": [
    "Podemos ver que el bosque de regresion si pudo igualar el umbral, pero no iguala a la exactitud del arbol clasificador o bosque clasificador, por lo cual no es nuestra primera opcion."
   ]
  },
  {
   "cell_type": "markdown",
   "metadata": {},
   "source": [
    "<div class=\"alert alert-danger\">\n",
    "<h1> Comentarios del revisor </h1>\n",
    "    \n",
    "Muy buen trabajo, pero no es necesario crear por cada modelo un conjunto de train y test diferentes, de hecho dado que les pasas el mismo seed. Están quedando exactamente iguales al del principio. \n",
    "    \n",
    "</div>"
   ]
  },
  {
   "cell_type": "markdown",
   "metadata": {},
   "source": [
    "<div class=\"alert alert-info\">\n",
    "<h1> Comentarios del estudiante</h1>\n",
    "Listo!\n",
    "</div>"
   ]
  },
  {
   "cell_type": "markdown",
   "metadata": {},
   "source": [
    "<div class=\"alert alert-success\">\n",
    "<h1> Comentarios del revisor V2</h1>\n",
    "Muy buen trabajo!\n",
    "</div>"
   ]
  },
  {
   "cell_type": "markdown",
   "metadata": {},
   "source": [
    "## Uso del mejor modelo"
   ]
  },
  {
   "cell_type": "markdown",
   "metadata": {},
   "source": [
    "Nuestro mejor modelo fue el bosque clasificador, por lo que vamos a usarlo con el dataset ya que supero el conjunto de prueba y validacion."
   ]
  },
  {
   "cell_type": "code",
   "execution_count": 15,
   "metadata": {},
   "outputs": [
    {
     "name": "stdout",
     "output_type": "stream",
     "text": [
      "Precision del mejor modelo en el conjunto de validacion: 0.8059701492537313\n"
     ]
    }
   ],
   "source": [
    "final_features = df.drop(['is_ultra'], axis=1)\n",
    "final_target = df['is_ultra']\n",
    "\n",
    "final_features_train, final_features_valid, final_target_train, final_target_valid = train_test_split(final_features, final_target, test_size=0.25, random_state=54321)\n",
    "final_features_valid, final_features_test, final_target_valid, final_target_test = train_test_split(final_features_valid, final_target_valid, test_size=0.5, random_state=54321)\n",
    "\n",
    "# Entrenamos el mejor modelo\n",
    "best_final_model = RandomForestClassifier(random_state=54321, n_estimators=21, max_depth=16)\n",
    "best_final_model.fit(final_features_train, final_target_train)\n",
    "\n",
    "# Hacemos las predicciones a partir del mejor modelo\n",
    "final_predictions_valid = best_final_model.predict(final_features_valid)\n",
    "\n",
    "# Calculamos la precision en el conjunto de validacion\n",
    "final_accuracy = accuracy_score(final_target_valid, final_predictions_valid)\n",
    "print(f\"Precision del mejor modelo en el conjunto de validacion: {final_accuracy}\")\n"
   ]
  },
  {
   "cell_type": "markdown",
   "metadata": {},
   "source": [
    "Podemos ver que la precision del modelo final supera el umbral de exactitud, y despues de bastantes pruebas se puede concluir que es el modelo mas apto para nuestro analisis que solicitan."
   ]
  },
  {
   "cell_type": "markdown",
   "metadata": {},
   "source": [
    "## Conclusion Final"
   ]
  },
  {
   "cell_type": "markdown",
   "metadata": {},
   "source": [
    "Finalmente podemos ver que depende mucho, pero el modelo mas apto segun la investigacion es el bosque clasificador con un resultado de: 0.8059701492537313.\n",
    "\n",
    "Tambien se debe considerar si es que queremos mas exactitud o rapidez en cuanto a nuestro trabajo. Sabiendo que el bosque no es el modelo mas apto para velocidad porque busca entre varias opciones de arboles, pero tiene una precision mas alta se tomo en cuenta como el mas optimo.\n",
    "\n",
    "Si hubieramos querido velocidad pudieramos haber usado la regresion lineal en caso de haber superado el umbral de exactitud, o el arbol clasificador que tambien obtuvo un valor alto.\n",
    "\n",
    "Se hizo los procesos de revisar que no haya hiperajustes o subajustes, por lo que la certitud del trabajo no es obsoleta."
   ]
  },
  {
   "cell_type": "markdown",
   "metadata": {},
   "source": [
    "<div class=\"alert alert-success\">\n",
    "<h1> Comentarios del revisor </h1>\n",
    "    \n",
    "Muy buen trabajo con la implementación de los modelos y todo el proyecto, solo hay un pequeño tema asociado a los conjuntos de entrenamiento que no será problema arreglar. \n",
    "    \n",
    "Saludos!\n",
    "    \n",
    "</div>"
   ]
  }
 ],
 "metadata": {
  "kernelspec": {
   "display_name": "Python 3 (ipykernel)",
   "language": "python",
   "name": "python3"
  },
  "language_info": {
   "codemirror_mode": {
    "name": "ipython",
    "version": 3
   },
   "file_extension": ".py",
   "mimetype": "text/x-python",
   "name": "python",
   "nbconvert_exporter": "python",
   "pygments_lexer": "ipython3",
   "version": "3.9.19"
  },
  "toc": {
   "base_numbering": 1,
   "nav_menu": {},
   "number_sections": true,
   "sideBar": true,
   "skip_h1_title": true,
   "title_cell": "Table of Contents",
   "title_sidebar": "Contents",
   "toc_cell": false,
   "toc_position": {},
   "toc_section_display": true,
   "toc_window_display": false
  }
 },
 "nbformat": 4,
 "nbformat_minor": 2
}
